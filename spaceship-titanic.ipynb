{
 "cells": [
  {
   "cell_type": "code",
   "execution_count": 1,
   "id": "454b167b",
   "metadata": {
    "_cell_guid": "b1076dfc-b9ad-4769-8c92-a6c4dae69d19",
    "_uuid": "8f2839f25d086af736a60e9eeb907d3b93b6e0e5",
    "execution": {
     "iopub.execute_input": "2022-06-21T07:32:14.924490Z",
     "iopub.status.busy": "2022-06-21T07:32:14.923831Z",
     "iopub.status.idle": "2022-06-21T07:32:14.937479Z",
     "shell.execute_reply": "2022-06-21T07:32:14.936802Z"
    },
    "papermill": {
     "duration": 0.09109,
     "end_time": "2022-06-21T07:32:14.940347",
     "exception": false,
     "start_time": "2022-06-21T07:32:14.849257",
     "status": "completed"
    },
    "tags": []
   },
   "outputs": [
    {
     "name": "stdout",
     "output_type": "stream",
     "text": [
      "/kaggle/input/spaceship-titanic/sample_submission.csv\n",
      "/kaggle/input/spaceship-titanic/train.csv\n",
      "/kaggle/input/spaceship-titanic/test.csv\n"
     ]
    }
   ],
   "source": [
    "# This Python 3 environment comes with many helpful analytics libraries installed\n",
    "# It is defined by the kaggle/python Docker image: https://github.com/kaggle/docker-python\n",
    "# For example, here's several helpful packages to load\n",
    "\n",
    "import numpy as np # linear algebra\n",
    "import pandas as pd # data processing, CSV file I/O (e.g. pd.read_csv)\n",
    "\n",
    "# Input data files are available in the read-only \"../input/\" directory\n",
    "# For example, running this (by clicking run or pressing Shift+Enter) will list all files under the input directory\n",
    "\n",
    "import os\n",
    "for dirname, _, filenames in os.walk('/kaggle/input'):\n",
    "    for filename in filenames:\n",
    "        print(os.path.join(dirname, filename))\n",
    "\n",
    "# You can write up to 20GB to the current directory (/kaggle/working/) that gets preserved as output when you create a version using \"Save & Run All\" \n",
    "# You can also write temporary files to /kaggle/temp/, but they won't be saved outside of the current session"
   ]
  },
  {
   "cell_type": "markdown",
   "id": "f5d07e52",
   "metadata": {
    "papermill": {
     "duration": 0.07198,
     "end_time": "2022-06-21T07:32:15.088561",
     "exception": false,
     "start_time": "2022-06-21T07:32:15.016581",
     "status": "completed"
    },
    "tags": []
   },
   "source": [
    "# Import libraries and dataset\n"
   ]
  },
  {
   "cell_type": "code",
   "execution_count": 2,
   "id": "db93cf1b",
   "metadata": {
    "execution": {
     "iopub.execute_input": "2022-06-21T07:32:15.240839Z",
     "iopub.status.busy": "2022-06-21T07:32:15.240302Z",
     "iopub.status.idle": "2022-06-21T07:32:16.827638Z",
     "shell.execute_reply": "2022-06-21T07:32:16.826576Z"
    },
    "papermill": {
     "duration": 1.667567,
     "end_time": "2022-06-21T07:32:16.829966",
     "exception": false,
     "start_time": "2022-06-21T07:32:15.162399",
     "status": "completed"
    },
    "tags": []
   },
   "outputs": [],
   "source": [
    "import numpy as np\n",
    "import pandas as pd\n",
    "import seaborn as sns\n",
    "import matplotlib\n",
    "import matplotlib.pyplot as plt\n",
    "import os\n",
    "import random\n",
    "from sklearn.preprocessing import LabelEncoder\n",
    "from sklearn import linear_model\n",
    "from sklearn.linear_model import LogisticRegression\n",
    "from sklearn.ensemble import RandomForestClassifier\n",
    "from sklearn.tree import DecisionTreeClassifier\n",
    "from sklearn.neighbors import KNeighborsClassifier\n",
    "from sklearn.svm import SVC, LinearSVC"
   ]
  },
  {
   "cell_type": "code",
   "execution_count": 3,
   "id": "ff5712bf",
   "metadata": {
    "execution": {
     "iopub.execute_input": "2022-06-21T07:32:16.977672Z",
     "iopub.status.busy": "2022-06-21T07:32:16.977398Z",
     "iopub.status.idle": "2022-06-21T07:32:17.062915Z",
     "shell.execute_reply": "2022-06-21T07:32:17.061751Z"
    },
    "papermill": {
     "duration": 0.163521,
     "end_time": "2022-06-21T07:32:17.065848",
     "exception": false,
     "start_time": "2022-06-21T07:32:16.902327",
     "status": "completed"
    },
    "tags": []
   },
   "outputs": [
    {
     "name": "stdout",
     "output_type": "stream",
     "text": [
      "Train shape: (8693, 14)\n",
      "Test shape: (4277, 13)\n"
     ]
    }
   ],
   "source": [
    "train_df = pd.read_csv('../input/spaceship-titanic/'+\"train.csv\")\n",
    "test_df = pd.read_csv('../input/spaceship-titanic/'+\"test.csv\")\n",
    "print('Train shape:',train_df.shape)\n",
    "print('Test shape:',test_df.shape)"
   ]
  },
  {
   "cell_type": "code",
   "execution_count": 4,
   "id": "cc692476",
   "metadata": {
    "execution": {
     "iopub.execute_input": "2022-06-21T07:32:17.217073Z",
     "iopub.status.busy": "2022-06-21T07:32:17.216530Z",
     "iopub.status.idle": "2022-06-21T07:32:17.246416Z",
     "shell.execute_reply": "2022-06-21T07:32:17.245492Z"
    },
    "papermill": {
     "duration": 0.109422,
     "end_time": "2022-06-21T07:32:17.248996",
     "exception": false,
     "start_time": "2022-06-21T07:32:17.139574",
     "status": "completed"
    },
    "tags": []
   },
   "outputs": [
    {
     "name": "stdout",
     "output_type": "stream",
     "text": [
      "<class 'pandas.core.frame.DataFrame'>\n",
      "RangeIndex: 8693 entries, 0 to 8692\n",
      "Data columns (total 14 columns):\n",
      " #   Column        Non-Null Count  Dtype  \n",
      "---  ------        --------------  -----  \n",
      " 0   PassengerId   8693 non-null   object \n",
      " 1   HomePlanet    8492 non-null   object \n",
      " 2   CryoSleep     8476 non-null   object \n",
      " 3   Cabin         8494 non-null   object \n",
      " 4   Destination   8511 non-null   object \n",
      " 5   Age           8514 non-null   float64\n",
      " 6   VIP           8490 non-null   object \n",
      " 7   RoomService   8512 non-null   float64\n",
      " 8   FoodCourt     8510 non-null   float64\n",
      " 9   ShoppingMall  8485 non-null   float64\n",
      " 10  Spa           8510 non-null   float64\n",
      " 11  VRDeck        8505 non-null   float64\n",
      " 12  Name          8493 non-null   object \n",
      " 13  Transported   8693 non-null   bool   \n",
      "dtypes: bool(1), float64(6), object(7)\n",
      "memory usage: 891.5+ KB\n"
     ]
    }
   ],
   "source": [
    "train_df.info()"
   ]
  },
  {
   "cell_type": "code",
   "execution_count": 5,
   "id": "082e99f4",
   "metadata": {
    "execution": {
     "iopub.execute_input": "2022-06-21T07:32:17.396556Z",
     "iopub.status.busy": "2022-06-21T07:32:17.396053Z",
     "iopub.status.idle": "2022-06-21T07:32:17.409695Z",
     "shell.execute_reply": "2022-06-21T07:32:17.408299Z"
    },
    "papermill": {
     "duration": 0.091588,
     "end_time": "2022-06-21T07:32:17.413219",
     "exception": false,
     "start_time": "2022-06-21T07:32:17.321631",
     "status": "completed"
    },
    "tags": []
   },
   "outputs": [
    {
     "name": "stdout",
     "output_type": "stream",
     "text": [
      "<class 'pandas.core.frame.DataFrame'>\n",
      "RangeIndex: 4277 entries, 0 to 4276\n",
      "Data columns (total 13 columns):\n",
      " #   Column        Non-Null Count  Dtype  \n",
      "---  ------        --------------  -----  \n",
      " 0   PassengerId   4277 non-null   object \n",
      " 1   HomePlanet    4190 non-null   object \n",
      " 2   CryoSleep     4184 non-null   object \n",
      " 3   Cabin         4177 non-null   object \n",
      " 4   Destination   4185 non-null   object \n",
      " 5   Age           4186 non-null   float64\n",
      " 6   VIP           4184 non-null   object \n",
      " 7   RoomService   4195 non-null   float64\n",
      " 8   FoodCourt     4171 non-null   float64\n",
      " 9   ShoppingMall  4179 non-null   float64\n",
      " 10  Spa           4176 non-null   float64\n",
      " 11  VRDeck        4197 non-null   float64\n",
      " 12  Name          4183 non-null   object \n",
      "dtypes: float64(6), object(7)\n",
      "memory usage: 434.5+ KB\n"
     ]
    }
   ],
   "source": [
    "test_df.info()"
   ]
  },
  {
   "cell_type": "code",
   "execution_count": 6,
   "id": "eaf32637",
   "metadata": {
    "execution": {
     "iopub.execute_input": "2022-06-21T07:32:17.562156Z",
     "iopub.status.busy": "2022-06-21T07:32:17.561848Z",
     "iopub.status.idle": "2022-06-21T07:32:17.589568Z",
     "shell.execute_reply": "2022-06-21T07:32:17.588951Z"
    },
    "papermill": {
     "duration": 0.103388,
     "end_time": "2022-06-21T07:32:17.591779",
     "exception": false,
     "start_time": "2022-06-21T07:32:17.488391",
     "status": "completed"
    },
    "tags": []
   },
   "outputs": [
    {
     "data": {
      "text/html": [
       "<div>\n",
       "<style scoped>\n",
       "    .dataframe tbody tr th:only-of-type {\n",
       "        vertical-align: middle;\n",
       "    }\n",
       "\n",
       "    .dataframe tbody tr th {\n",
       "        vertical-align: top;\n",
       "    }\n",
       "\n",
       "    .dataframe thead th {\n",
       "        text-align: right;\n",
       "    }\n",
       "</style>\n",
       "<table border=\"1\" class=\"dataframe\">\n",
       "  <thead>\n",
       "    <tr style=\"text-align: right;\">\n",
       "      <th></th>\n",
       "      <th>PassengerId</th>\n",
       "      <th>HomePlanet</th>\n",
       "      <th>CryoSleep</th>\n",
       "      <th>Cabin</th>\n",
       "      <th>Destination</th>\n",
       "      <th>Age</th>\n",
       "      <th>VIP</th>\n",
       "      <th>RoomService</th>\n",
       "      <th>FoodCourt</th>\n",
       "      <th>ShoppingMall</th>\n",
       "      <th>Spa</th>\n",
       "      <th>VRDeck</th>\n",
       "      <th>Name</th>\n",
       "      <th>Transported</th>\n",
       "    </tr>\n",
       "  </thead>\n",
       "  <tbody>\n",
       "    <tr>\n",
       "      <th>0</th>\n",
       "      <td>0001_01</td>\n",
       "      <td>Europa</td>\n",
       "      <td>False</td>\n",
       "      <td>B/0/P</td>\n",
       "      <td>TRAPPIST-1e</td>\n",
       "      <td>39.0</td>\n",
       "      <td>False</td>\n",
       "      <td>0.0</td>\n",
       "      <td>0.0</td>\n",
       "      <td>0.0</td>\n",
       "      <td>0.0</td>\n",
       "      <td>0.0</td>\n",
       "      <td>Maham Ofracculy</td>\n",
       "      <td>False</td>\n",
       "    </tr>\n",
       "    <tr>\n",
       "      <th>1</th>\n",
       "      <td>0002_01</td>\n",
       "      <td>Earth</td>\n",
       "      <td>False</td>\n",
       "      <td>F/0/S</td>\n",
       "      <td>TRAPPIST-1e</td>\n",
       "      <td>24.0</td>\n",
       "      <td>False</td>\n",
       "      <td>109.0</td>\n",
       "      <td>9.0</td>\n",
       "      <td>25.0</td>\n",
       "      <td>549.0</td>\n",
       "      <td>44.0</td>\n",
       "      <td>Juanna Vines</td>\n",
       "      <td>True</td>\n",
       "    </tr>\n",
       "    <tr>\n",
       "      <th>2</th>\n",
       "      <td>0003_01</td>\n",
       "      <td>Europa</td>\n",
       "      <td>False</td>\n",
       "      <td>A/0/S</td>\n",
       "      <td>TRAPPIST-1e</td>\n",
       "      <td>58.0</td>\n",
       "      <td>True</td>\n",
       "      <td>43.0</td>\n",
       "      <td>3576.0</td>\n",
       "      <td>0.0</td>\n",
       "      <td>6715.0</td>\n",
       "      <td>49.0</td>\n",
       "      <td>Altark Susent</td>\n",
       "      <td>False</td>\n",
       "    </tr>\n",
       "    <tr>\n",
       "      <th>3</th>\n",
       "      <td>0003_02</td>\n",
       "      <td>Europa</td>\n",
       "      <td>False</td>\n",
       "      <td>A/0/S</td>\n",
       "      <td>TRAPPIST-1e</td>\n",
       "      <td>33.0</td>\n",
       "      <td>False</td>\n",
       "      <td>0.0</td>\n",
       "      <td>1283.0</td>\n",
       "      <td>371.0</td>\n",
       "      <td>3329.0</td>\n",
       "      <td>193.0</td>\n",
       "      <td>Solam Susent</td>\n",
       "      <td>False</td>\n",
       "    </tr>\n",
       "    <tr>\n",
       "      <th>4</th>\n",
       "      <td>0004_01</td>\n",
       "      <td>Earth</td>\n",
       "      <td>False</td>\n",
       "      <td>F/1/S</td>\n",
       "      <td>TRAPPIST-1e</td>\n",
       "      <td>16.0</td>\n",
       "      <td>False</td>\n",
       "      <td>303.0</td>\n",
       "      <td>70.0</td>\n",
       "      <td>151.0</td>\n",
       "      <td>565.0</td>\n",
       "      <td>2.0</td>\n",
       "      <td>Willy Santantines</td>\n",
       "      <td>True</td>\n",
       "    </tr>\n",
       "    <tr>\n",
       "      <th>5</th>\n",
       "      <td>0005_01</td>\n",
       "      <td>Earth</td>\n",
       "      <td>False</td>\n",
       "      <td>F/0/P</td>\n",
       "      <td>PSO J318.5-22</td>\n",
       "      <td>44.0</td>\n",
       "      <td>False</td>\n",
       "      <td>0.0</td>\n",
       "      <td>483.0</td>\n",
       "      <td>0.0</td>\n",
       "      <td>291.0</td>\n",
       "      <td>0.0</td>\n",
       "      <td>Sandie Hinetthews</td>\n",
       "      <td>True</td>\n",
       "    </tr>\n",
       "    <tr>\n",
       "      <th>6</th>\n",
       "      <td>0006_01</td>\n",
       "      <td>Earth</td>\n",
       "      <td>False</td>\n",
       "      <td>F/2/S</td>\n",
       "      <td>TRAPPIST-1e</td>\n",
       "      <td>26.0</td>\n",
       "      <td>False</td>\n",
       "      <td>42.0</td>\n",
       "      <td>1539.0</td>\n",
       "      <td>3.0</td>\n",
       "      <td>0.0</td>\n",
       "      <td>0.0</td>\n",
       "      <td>Billex Jacostaffey</td>\n",
       "      <td>True</td>\n",
       "    </tr>\n",
       "    <tr>\n",
       "      <th>7</th>\n",
       "      <td>0006_02</td>\n",
       "      <td>Earth</td>\n",
       "      <td>True</td>\n",
       "      <td>G/0/S</td>\n",
       "      <td>TRAPPIST-1e</td>\n",
       "      <td>28.0</td>\n",
       "      <td>False</td>\n",
       "      <td>0.0</td>\n",
       "      <td>0.0</td>\n",
       "      <td>0.0</td>\n",
       "      <td>0.0</td>\n",
       "      <td>NaN</td>\n",
       "      <td>Candra Jacostaffey</td>\n",
       "      <td>True</td>\n",
       "    </tr>\n",
       "    <tr>\n",
       "      <th>8</th>\n",
       "      <td>0007_01</td>\n",
       "      <td>Earth</td>\n",
       "      <td>False</td>\n",
       "      <td>F/3/S</td>\n",
       "      <td>TRAPPIST-1e</td>\n",
       "      <td>35.0</td>\n",
       "      <td>False</td>\n",
       "      <td>0.0</td>\n",
       "      <td>785.0</td>\n",
       "      <td>17.0</td>\n",
       "      <td>216.0</td>\n",
       "      <td>0.0</td>\n",
       "      <td>Andona Beston</td>\n",
       "      <td>True</td>\n",
       "    </tr>\n",
       "    <tr>\n",
       "      <th>9</th>\n",
       "      <td>0008_01</td>\n",
       "      <td>Europa</td>\n",
       "      <td>True</td>\n",
       "      <td>B/1/P</td>\n",
       "      <td>55 Cancri e</td>\n",
       "      <td>14.0</td>\n",
       "      <td>False</td>\n",
       "      <td>0.0</td>\n",
       "      <td>0.0</td>\n",
       "      <td>0.0</td>\n",
       "      <td>0.0</td>\n",
       "      <td>0.0</td>\n",
       "      <td>Erraiam Flatic</td>\n",
       "      <td>True</td>\n",
       "    </tr>\n",
       "  </tbody>\n",
       "</table>\n",
       "</div>"
      ],
      "text/plain": [
       "  PassengerId HomePlanet CryoSleep  Cabin    Destination   Age    VIP  \\\n",
       "0     0001_01     Europa     False  B/0/P    TRAPPIST-1e  39.0  False   \n",
       "1     0002_01      Earth     False  F/0/S    TRAPPIST-1e  24.0  False   \n",
       "2     0003_01     Europa     False  A/0/S    TRAPPIST-1e  58.0   True   \n",
       "3     0003_02     Europa     False  A/0/S    TRAPPIST-1e  33.0  False   \n",
       "4     0004_01      Earth     False  F/1/S    TRAPPIST-1e  16.0  False   \n",
       "5     0005_01      Earth     False  F/0/P  PSO J318.5-22  44.0  False   \n",
       "6     0006_01      Earth     False  F/2/S    TRAPPIST-1e  26.0  False   \n",
       "7     0006_02      Earth      True  G/0/S    TRAPPIST-1e  28.0  False   \n",
       "8     0007_01      Earth     False  F/3/S    TRAPPIST-1e  35.0  False   \n",
       "9     0008_01     Europa      True  B/1/P    55 Cancri e  14.0  False   \n",
       "\n",
       "   RoomService  FoodCourt  ShoppingMall     Spa  VRDeck                Name  \\\n",
       "0          0.0        0.0           0.0     0.0     0.0     Maham Ofracculy   \n",
       "1        109.0        9.0          25.0   549.0    44.0        Juanna Vines   \n",
       "2         43.0     3576.0           0.0  6715.0    49.0       Altark Susent   \n",
       "3          0.0     1283.0         371.0  3329.0   193.0        Solam Susent   \n",
       "4        303.0       70.0         151.0   565.0     2.0   Willy Santantines   \n",
       "5          0.0      483.0           0.0   291.0     0.0   Sandie Hinetthews   \n",
       "6         42.0     1539.0           3.0     0.0     0.0  Billex Jacostaffey   \n",
       "7          0.0        0.0           0.0     0.0     NaN  Candra Jacostaffey   \n",
       "8          0.0      785.0          17.0   216.0     0.0       Andona Beston   \n",
       "9          0.0        0.0           0.0     0.0     0.0      Erraiam Flatic   \n",
       "\n",
       "   Transported  \n",
       "0        False  \n",
       "1         True  \n",
       "2        False  \n",
       "3        False  \n",
       "4         True  \n",
       "5         True  \n",
       "6         True  \n",
       "7         True  \n",
       "8         True  \n",
       "9         True  "
      ]
     },
     "execution_count": 6,
     "metadata": {},
     "output_type": "execute_result"
    }
   ],
   "source": [
    "train_df.head(10)"
   ]
  },
  {
   "cell_type": "code",
   "execution_count": 7,
   "id": "640d0b28",
   "metadata": {
    "execution": {
     "iopub.execute_input": "2022-06-21T07:32:17.741408Z",
     "iopub.status.busy": "2022-06-21T07:32:17.740459Z",
     "iopub.status.idle": "2022-06-21T07:32:17.760215Z",
     "shell.execute_reply": "2022-06-21T07:32:17.759514Z"
    },
    "papermill": {
     "duration": 0.096298,
     "end_time": "2022-06-21T07:32:17.762221",
     "exception": false,
     "start_time": "2022-06-21T07:32:17.665923",
     "status": "completed"
    },
    "tags": []
   },
   "outputs": [
    {
     "data": {
      "text/html": [
       "<div>\n",
       "<style scoped>\n",
       "    .dataframe tbody tr th:only-of-type {\n",
       "        vertical-align: middle;\n",
       "    }\n",
       "\n",
       "    .dataframe tbody tr th {\n",
       "        vertical-align: top;\n",
       "    }\n",
       "\n",
       "    .dataframe thead th {\n",
       "        text-align: right;\n",
       "    }\n",
       "</style>\n",
       "<table border=\"1\" class=\"dataframe\">\n",
       "  <thead>\n",
       "    <tr style=\"text-align: right;\">\n",
       "      <th></th>\n",
       "      <th>PassengerId</th>\n",
       "      <th>HomePlanet</th>\n",
       "      <th>CryoSleep</th>\n",
       "      <th>Cabin</th>\n",
       "      <th>Destination</th>\n",
       "      <th>Age</th>\n",
       "      <th>VIP</th>\n",
       "      <th>RoomService</th>\n",
       "      <th>FoodCourt</th>\n",
       "      <th>ShoppingMall</th>\n",
       "      <th>Spa</th>\n",
       "      <th>VRDeck</th>\n",
       "      <th>Name</th>\n",
       "    </tr>\n",
       "  </thead>\n",
       "  <tbody>\n",
       "    <tr>\n",
       "      <th>0</th>\n",
       "      <td>0013_01</td>\n",
       "      <td>Earth</td>\n",
       "      <td>True</td>\n",
       "      <td>G/3/S</td>\n",
       "      <td>TRAPPIST-1e</td>\n",
       "      <td>27.0</td>\n",
       "      <td>False</td>\n",
       "      <td>0.0</td>\n",
       "      <td>0.0</td>\n",
       "      <td>0.0</td>\n",
       "      <td>0.0</td>\n",
       "      <td>0.0</td>\n",
       "      <td>Nelly Carsoning</td>\n",
       "    </tr>\n",
       "    <tr>\n",
       "      <th>1</th>\n",
       "      <td>0018_01</td>\n",
       "      <td>Earth</td>\n",
       "      <td>False</td>\n",
       "      <td>F/4/S</td>\n",
       "      <td>TRAPPIST-1e</td>\n",
       "      <td>19.0</td>\n",
       "      <td>False</td>\n",
       "      <td>0.0</td>\n",
       "      <td>9.0</td>\n",
       "      <td>0.0</td>\n",
       "      <td>2823.0</td>\n",
       "      <td>0.0</td>\n",
       "      <td>Lerome Peckers</td>\n",
       "    </tr>\n",
       "    <tr>\n",
       "      <th>2</th>\n",
       "      <td>0019_01</td>\n",
       "      <td>Europa</td>\n",
       "      <td>True</td>\n",
       "      <td>C/0/S</td>\n",
       "      <td>55 Cancri e</td>\n",
       "      <td>31.0</td>\n",
       "      <td>False</td>\n",
       "      <td>0.0</td>\n",
       "      <td>0.0</td>\n",
       "      <td>0.0</td>\n",
       "      <td>0.0</td>\n",
       "      <td>0.0</td>\n",
       "      <td>Sabih Unhearfus</td>\n",
       "    </tr>\n",
       "    <tr>\n",
       "      <th>3</th>\n",
       "      <td>0021_01</td>\n",
       "      <td>Europa</td>\n",
       "      <td>False</td>\n",
       "      <td>C/1/S</td>\n",
       "      <td>TRAPPIST-1e</td>\n",
       "      <td>38.0</td>\n",
       "      <td>False</td>\n",
       "      <td>0.0</td>\n",
       "      <td>6652.0</td>\n",
       "      <td>0.0</td>\n",
       "      <td>181.0</td>\n",
       "      <td>585.0</td>\n",
       "      <td>Meratz Caltilter</td>\n",
       "    </tr>\n",
       "    <tr>\n",
       "      <th>4</th>\n",
       "      <td>0023_01</td>\n",
       "      <td>Earth</td>\n",
       "      <td>False</td>\n",
       "      <td>F/5/S</td>\n",
       "      <td>TRAPPIST-1e</td>\n",
       "      <td>20.0</td>\n",
       "      <td>False</td>\n",
       "      <td>10.0</td>\n",
       "      <td>0.0</td>\n",
       "      <td>635.0</td>\n",
       "      <td>0.0</td>\n",
       "      <td>0.0</td>\n",
       "      <td>Brence Harperez</td>\n",
       "    </tr>\n",
       "    <tr>\n",
       "      <th>5</th>\n",
       "      <td>0027_01</td>\n",
       "      <td>Earth</td>\n",
       "      <td>False</td>\n",
       "      <td>F/7/P</td>\n",
       "      <td>TRAPPIST-1e</td>\n",
       "      <td>31.0</td>\n",
       "      <td>False</td>\n",
       "      <td>0.0</td>\n",
       "      <td>1615.0</td>\n",
       "      <td>263.0</td>\n",
       "      <td>113.0</td>\n",
       "      <td>60.0</td>\n",
       "      <td>Karlen Ricks</td>\n",
       "    </tr>\n",
       "    <tr>\n",
       "      <th>6</th>\n",
       "      <td>0029_01</td>\n",
       "      <td>Europa</td>\n",
       "      <td>True</td>\n",
       "      <td>B/2/P</td>\n",
       "      <td>55 Cancri e</td>\n",
       "      <td>21.0</td>\n",
       "      <td>False</td>\n",
       "      <td>0.0</td>\n",
       "      <td>NaN</td>\n",
       "      <td>0.0</td>\n",
       "      <td>0.0</td>\n",
       "      <td>0.0</td>\n",
       "      <td>Aldah Ainserfle</td>\n",
       "    </tr>\n",
       "    <tr>\n",
       "      <th>7</th>\n",
       "      <td>0032_01</td>\n",
       "      <td>Europa</td>\n",
       "      <td>True</td>\n",
       "      <td>D/0/S</td>\n",
       "      <td>TRAPPIST-1e</td>\n",
       "      <td>20.0</td>\n",
       "      <td>False</td>\n",
       "      <td>0.0</td>\n",
       "      <td>0.0</td>\n",
       "      <td>0.0</td>\n",
       "      <td>0.0</td>\n",
       "      <td>0.0</td>\n",
       "      <td>Acrabi Pringry</td>\n",
       "    </tr>\n",
       "    <tr>\n",
       "      <th>8</th>\n",
       "      <td>0032_02</td>\n",
       "      <td>Europa</td>\n",
       "      <td>True</td>\n",
       "      <td>D/0/S</td>\n",
       "      <td>55 Cancri e</td>\n",
       "      <td>23.0</td>\n",
       "      <td>False</td>\n",
       "      <td>0.0</td>\n",
       "      <td>0.0</td>\n",
       "      <td>0.0</td>\n",
       "      <td>0.0</td>\n",
       "      <td>0.0</td>\n",
       "      <td>Dhena Pringry</td>\n",
       "    </tr>\n",
       "    <tr>\n",
       "      <th>9</th>\n",
       "      <td>0033_01</td>\n",
       "      <td>Earth</td>\n",
       "      <td>False</td>\n",
       "      <td>F/7/S</td>\n",
       "      <td>55 Cancri e</td>\n",
       "      <td>24.0</td>\n",
       "      <td>False</td>\n",
       "      <td>0.0</td>\n",
       "      <td>639.0</td>\n",
       "      <td>0.0</td>\n",
       "      <td>0.0</td>\n",
       "      <td>0.0</td>\n",
       "      <td>Eliana Delazarson</td>\n",
       "    </tr>\n",
       "  </tbody>\n",
       "</table>\n",
       "</div>"
      ],
      "text/plain": [
       "  PassengerId HomePlanet CryoSleep  Cabin  Destination   Age    VIP  \\\n",
       "0     0013_01      Earth      True  G/3/S  TRAPPIST-1e  27.0  False   \n",
       "1     0018_01      Earth     False  F/4/S  TRAPPIST-1e  19.0  False   \n",
       "2     0019_01     Europa      True  C/0/S  55 Cancri e  31.0  False   \n",
       "3     0021_01     Europa     False  C/1/S  TRAPPIST-1e  38.0  False   \n",
       "4     0023_01      Earth     False  F/5/S  TRAPPIST-1e  20.0  False   \n",
       "5     0027_01      Earth     False  F/7/P  TRAPPIST-1e  31.0  False   \n",
       "6     0029_01     Europa      True  B/2/P  55 Cancri e  21.0  False   \n",
       "7     0032_01     Europa      True  D/0/S  TRAPPIST-1e  20.0  False   \n",
       "8     0032_02     Europa      True  D/0/S  55 Cancri e  23.0  False   \n",
       "9     0033_01      Earth     False  F/7/S  55 Cancri e  24.0  False   \n",
       "\n",
       "   RoomService  FoodCourt  ShoppingMall     Spa  VRDeck               Name  \n",
       "0          0.0        0.0           0.0     0.0     0.0    Nelly Carsoning  \n",
       "1          0.0        9.0           0.0  2823.0     0.0     Lerome Peckers  \n",
       "2          0.0        0.0           0.0     0.0     0.0    Sabih Unhearfus  \n",
       "3          0.0     6652.0           0.0   181.0   585.0   Meratz Caltilter  \n",
       "4         10.0        0.0         635.0     0.0     0.0    Brence Harperez  \n",
       "5          0.0     1615.0         263.0   113.0    60.0       Karlen Ricks  \n",
       "6          0.0        NaN           0.0     0.0     0.0    Aldah Ainserfle  \n",
       "7          0.0        0.0           0.0     0.0     0.0     Acrabi Pringry  \n",
       "8          0.0        0.0           0.0     0.0     0.0      Dhena Pringry  \n",
       "9          0.0      639.0           0.0     0.0     0.0  Eliana Delazarson  "
      ]
     },
     "execution_count": 7,
     "metadata": {},
     "output_type": "execute_result"
    }
   ],
   "source": [
    "test_df.head(10)"
   ]
  },
  {
   "cell_type": "markdown",
   "id": "a889b1ce",
   "metadata": {
    "papermill": {
     "duration": 0.077651,
     "end_time": "2022-06-21T07:32:17.915645",
     "exception": false,
     "start_time": "2022-06-21T07:32:17.837994",
     "status": "completed"
    },
    "tags": []
   },
   "source": [
    "# EDA & Filling Null Values"
   ]
  },
  {
   "cell_type": "code",
   "execution_count": 8,
   "id": "28a64f89",
   "metadata": {
    "execution": {
     "iopub.execute_input": "2022-06-21T07:32:18.066995Z",
     "iopub.status.busy": "2022-06-21T07:32:18.066497Z",
     "iopub.status.idle": "2022-06-21T07:32:18.222697Z",
     "shell.execute_reply": "2022-06-21T07:32:18.221720Z"
    },
    "papermill": {
     "duration": 0.234953,
     "end_time": "2022-06-21T07:32:18.226460",
     "exception": false,
     "start_time": "2022-06-21T07:32:17.991507",
     "status": "completed"
    },
    "tags": []
   },
   "outputs": [
    {
     "data": {
      "image/png": "[encoded data removed]",
      "text/plain": [
       "<Figure size 360x360 with 1 Axes>"
      ]
     },
     "metadata": {},
     "output_type": "display_data"
    }
   ],
   "source": [
    "plt.figure(figsize=(5,5))\n",
    "colors = [\"#022135\",\"lightgray\"]\n",
    "labels = train_df[\"Transported\"].value_counts().index\n",
    "plt.pie(train_df['Transported'].value_counts().to_list(),labels = labels, autopct='%.2f%%',\n",
    "             textprops=dict(color=\"black\", fontsize=15),colors = colors,startangle=45)\n",
    "plt.show()"
   ]
  },
  {
   "cell_type": "code",
   "execution_count": 9,
   "id": "698b0c1a",
   "metadata": {
    "execution": {
     "iopub.execute_input": "2022-06-21T07:32:18.419252Z",
     "iopub.status.busy": "2022-06-21T07:32:18.418749Z",
     "iopub.status.idle": "2022-06-21T07:32:18.449508Z",
     "shell.execute_reply": "2022-06-21T07:32:18.448639Z"
    },
    "papermill": {
     "duration": 0.112801,
     "end_time": "2022-06-21T07:32:18.451610",
     "exception": false,
     "start_time": "2022-06-21T07:32:18.338809",
     "status": "completed"
    },
    "tags": []
   },
   "outputs": [
    {
     "data": {
      "text/html": [
       "<div>\n",
       "<style scoped>\n",
       "    .dataframe tbody tr th:only-of-type {\n",
       "        vertical-align: middle;\n",
       "    }\n",
       "\n",
       "    .dataframe tbody tr th {\n",
       "        vertical-align: top;\n",
       "    }\n",
       "\n",
       "    .dataframe thead th {\n",
       "        text-align: right;\n",
       "    }\n",
       "</style>\n",
       "<table border=\"1\" class=\"dataframe\">\n",
       "  <thead>\n",
       "    <tr style=\"text-align: right;\">\n",
       "      <th></th>\n",
       "      <th>PassengerId</th>\n",
       "      <th>HomePlanet</th>\n",
       "      <th>CryoSleep</th>\n",
       "      <th>Cabin</th>\n",
       "      <th>Destination</th>\n",
       "      <th>Age</th>\n",
       "      <th>VIP</th>\n",
       "      <th>RoomService</th>\n",
       "      <th>FoodCourt</th>\n",
       "      <th>ShoppingMall</th>\n",
       "      <th>Spa</th>\n",
       "      <th>VRDeck</th>\n",
       "      <th>Name</th>\n",
       "      <th>Transported</th>\n",
       "    </tr>\n",
       "  </thead>\n",
       "  <tbody>\n",
       "    <tr>\n",
       "      <th>0</th>\n",
       "      <td>0001_01</td>\n",
       "      <td>Europa</td>\n",
       "      <td>False</td>\n",
       "      <td>B/0/P</td>\n",
       "      <td>TRAPPIST-1e</td>\n",
       "      <td>39.0</td>\n",
       "      <td>False</td>\n",
       "      <td>0.0</td>\n",
       "      <td>0.0</td>\n",
       "      <td>0.0</td>\n",
       "      <td>0.0</td>\n",
       "      <td>0.0</td>\n",
       "      <td>Maham Ofracculy</td>\n",
       "      <td>False</td>\n",
       "    </tr>\n",
       "    <tr>\n",
       "      <th>1</th>\n",
       "      <td>0002_01</td>\n",
       "      <td>Earth</td>\n",
       "      <td>False</td>\n",
       "      <td>F/0/S</td>\n",
       "      <td>TRAPPIST-1e</td>\n",
       "      <td>24.0</td>\n",
       "      <td>False</td>\n",
       "      <td>109.0</td>\n",
       "      <td>9.0</td>\n",
       "      <td>25.0</td>\n",
       "      <td>549.0</td>\n",
       "      <td>44.0</td>\n",
       "      <td>Juanna Vines</td>\n",
       "      <td>True</td>\n",
       "    </tr>\n",
       "    <tr>\n",
       "      <th>2</th>\n",
       "      <td>0003_01</td>\n",
       "      <td>Europa</td>\n",
       "      <td>False</td>\n",
       "      <td>A/0/S</td>\n",
       "      <td>TRAPPIST-1e</td>\n",
       "      <td>58.0</td>\n",
       "      <td>True</td>\n",
       "      <td>43.0</td>\n",
       "      <td>3576.0</td>\n",
       "      <td>0.0</td>\n",
       "      <td>6715.0</td>\n",
       "      <td>49.0</td>\n",
       "      <td>Altark Susent</td>\n",
       "      <td>False</td>\n",
       "    </tr>\n",
       "    <tr>\n",
       "      <th>3</th>\n",
       "      <td>0003_02</td>\n",
       "      <td>Europa</td>\n",
       "      <td>False</td>\n",
       "      <td>A/0/S</td>\n",
       "      <td>TRAPPIST-1e</td>\n",
       "      <td>33.0</td>\n",
       "      <td>False</td>\n",
       "      <td>0.0</td>\n",
       "      <td>1283.0</td>\n",
       "      <td>371.0</td>\n",
       "      <td>3329.0</td>\n",
       "      <td>193.0</td>\n",
       "      <td>Solam Susent</td>\n",
       "      <td>False</td>\n",
       "    </tr>\n",
       "    <tr>\n",
       "      <th>4</th>\n",
       "      <td>0004_01</td>\n",
       "      <td>Earth</td>\n",
       "      <td>False</td>\n",
       "      <td>F/1/S</td>\n",
       "      <td>TRAPPIST-1e</td>\n",
       "      <td>16.0</td>\n",
       "      <td>False</td>\n",
       "      <td>303.0</td>\n",
       "      <td>70.0</td>\n",
       "      <td>151.0</td>\n",
       "      <td>565.0</td>\n",
       "      <td>2.0</td>\n",
       "      <td>Willy Santantines</td>\n",
       "      <td>True</td>\n",
       "    </tr>\n",
       "    <tr>\n",
       "      <th>...</th>\n",
       "      <td>...</td>\n",
       "      <td>...</td>\n",
       "      <td>...</td>\n",
       "      <td>...</td>\n",
       "      <td>...</td>\n",
       "      <td>...</td>\n",
       "      <td>...</td>\n",
       "      <td>...</td>\n",
       "      <td>...</td>\n",
       "      <td>...</td>\n",
       "      <td>...</td>\n",
       "      <td>...</td>\n",
       "      <td>...</td>\n",
       "      <td>...</td>\n",
       "    </tr>\n",
       "    <tr>\n",
       "      <th>12965</th>\n",
       "      <td>9266_02</td>\n",
       "      <td>Earth</td>\n",
       "      <td>True</td>\n",
       "      <td>G/1496/S</td>\n",
       "      <td>TRAPPIST-1e</td>\n",
       "      <td>34.0</td>\n",
       "      <td>False</td>\n",
       "      <td>0.0</td>\n",
       "      <td>0.0</td>\n",
       "      <td>0.0</td>\n",
       "      <td>0.0</td>\n",
       "      <td>0.0</td>\n",
       "      <td>Jeron Peter</td>\n",
       "      <td>NaN</td>\n",
       "    </tr>\n",
       "    <tr>\n",
       "      <th>12966</th>\n",
       "      <td>9269_01</td>\n",
       "      <td>Earth</td>\n",
       "      <td>False</td>\n",
       "      <td>NaN</td>\n",
       "      <td>TRAPPIST-1e</td>\n",
       "      <td>42.0</td>\n",
       "      <td>False</td>\n",
       "      <td>0.0</td>\n",
       "      <td>847.0</td>\n",
       "      <td>17.0</td>\n",
       "      <td>10.0</td>\n",
       "      <td>144.0</td>\n",
       "      <td>Matty Scheron</td>\n",
       "      <td>NaN</td>\n",
       "    </tr>\n",
       "    <tr>\n",
       "      <th>12967</th>\n",
       "      <td>9271_01</td>\n",
       "      <td>Mars</td>\n",
       "      <td>True</td>\n",
       "      <td>D/296/P</td>\n",
       "      <td>55 Cancri e</td>\n",
       "      <td>NaN</td>\n",
       "      <td>False</td>\n",
       "      <td>0.0</td>\n",
       "      <td>0.0</td>\n",
       "      <td>0.0</td>\n",
       "      <td>0.0</td>\n",
       "      <td>0.0</td>\n",
       "      <td>Jayrin Pore</td>\n",
       "      <td>NaN</td>\n",
       "    </tr>\n",
       "    <tr>\n",
       "      <th>12968</th>\n",
       "      <td>9273_01</td>\n",
       "      <td>Europa</td>\n",
       "      <td>False</td>\n",
       "      <td>D/297/P</td>\n",
       "      <td>NaN</td>\n",
       "      <td>NaN</td>\n",
       "      <td>False</td>\n",
       "      <td>0.0</td>\n",
       "      <td>2680.0</td>\n",
       "      <td>0.0</td>\n",
       "      <td>0.0</td>\n",
       "      <td>523.0</td>\n",
       "      <td>Kitakan Conale</td>\n",
       "      <td>NaN</td>\n",
       "    </tr>\n",
       "    <tr>\n",
       "      <th>12969</th>\n",
       "      <td>9277_01</td>\n",
       "      <td>Earth</td>\n",
       "      <td>True</td>\n",
       "      <td>G/1498/S</td>\n",
       "      <td>PSO J318.5-22</td>\n",
       "      <td>43.0</td>\n",
       "      <td>False</td>\n",
       "      <td>0.0</td>\n",
       "      <td>0.0</td>\n",
       "      <td>0.0</td>\n",
       "      <td>0.0</td>\n",
       "      <td>0.0</td>\n",
       "      <td>Lilace Leonzaley</td>\n",
       "      <td>NaN</td>\n",
       "    </tr>\n",
       "  </tbody>\n",
       "</table>\n",
       "<p>12970 rows × 14 columns</p>\n",
       "</div>"
      ],
      "text/plain": [
       "      PassengerId HomePlanet CryoSleep     Cabin    Destination   Age    VIP  \\\n",
       "0         0001_01     Europa     False     B/0/P    TRAPPIST-1e  39.0  False   \n",
       "1         0002_01      Earth     False     F/0/S    TRAPPIST-1e  24.0  False   \n",
       "2         0003_01     Europa     False     A/0/S    TRAPPIST-1e  58.0   True   \n",
       "3         0003_02     Europa     False     A/0/S    TRAPPIST-1e  33.0  False   \n",
       "4         0004_01      Earth     False     F/1/S    TRAPPIST-1e  16.0  False   \n",
       "...           ...        ...       ...       ...            ...   ...    ...   \n",
       "12965     9266_02      Earth      True  G/1496/S    TRAPPIST-1e  34.0  False   \n",
       "12966     9269_01      Earth     False       NaN    TRAPPIST-1e  42.0  False   \n",
       "12967     9271_01       Mars      True   D/296/P    55 Cancri e   NaN  False   \n",
       "12968     9273_01     Europa     False   D/297/P            NaN   NaN  False   \n",
       "12969     9277_01      Earth      True  G/1498/S  PSO J318.5-22  43.0  False   \n",
       "\n",
       "       RoomService  FoodCourt  ShoppingMall     Spa  VRDeck  \\\n",
       "0              0.0        0.0           0.0     0.0     0.0   \n",
       "1            109.0        9.0          25.0   549.0    44.0   \n",
       "2             43.0     3576.0           0.0  6715.0    49.0   \n",
       "3              0.0     1283.0         371.0  3329.0   193.0   \n",
       "4            303.0       70.0         151.0   565.0     2.0   \n",
       "...            ...        ...           ...     ...     ...   \n",
       "12965          0.0        0.0           0.0     0.0     0.0   \n",
       "12966          0.0      847.0          17.0    10.0   144.0   \n",
       "12967          0.0        0.0           0.0     0.0     0.0   \n",
       "12968          0.0     2680.0           0.0     0.0   523.0   \n",
       "12969          0.0        0.0           0.0     0.0     0.0   \n",
       "\n",
       "                    Name Transported  \n",
       "0        Maham Ofracculy       False  \n",
       "1           Juanna Vines        True  \n",
       "2          Altark Susent       False  \n",
       "3           Solam Susent       False  \n",
       "4      Willy Santantines        True  \n",
       "...                  ...         ...  \n",
       "12965        Jeron Peter         NaN  \n",
       "12966      Matty Scheron         NaN  \n",
       "12967        Jayrin Pore         NaN  \n",
       "12968     Kitakan Conale         NaN  \n",
       "12969   Lilace Leonzaley         NaN  \n",
       "\n",
       "[12970 rows x 14 columns]"
      ]
     },
     "execution_count": 9,
     "metadata": {},
     "output_type": "execute_result"
    }
   ],
   "source": [
    "df = pd.concat([train_df,test_df],ignore_index= True)\n",
    "df"
   ]
  },
  {
   "cell_type": "code",
   "execution_count": 10,
   "id": "46684764",
   "metadata": {
    "execution": {
     "iopub.execute_input": "2022-06-21T07:32:18.608497Z",
     "iopub.status.busy": "2022-06-21T07:32:18.607914Z",
     "iopub.status.idle": "2022-06-21T07:32:18.647128Z",
     "shell.execute_reply": "2022-06-21T07:32:18.646205Z"
    },
    "papermill": {
     "duration": 0.120306,
     "end_time": "2022-06-21T07:32:18.649261",
     "exception": false,
     "start_time": "2022-06-21T07:32:18.528955",
     "status": "completed"
    },
    "tags": []
   },
   "outputs": [
    {
     "data": {
      "text/html": [
       "<div>\n",
       "<style scoped>\n",
       "    .dataframe tbody tr th:only-of-type {\n",
       "        vertical-align: middle;\n",
       "    }\n",
       "\n",
       "    .dataframe tbody tr th {\n",
       "        vertical-align: top;\n",
       "    }\n",
       "\n",
       "    .dataframe thead th {\n",
       "        text-align: right;\n",
       "    }\n",
       "</style>\n",
       "<table border=\"1\" class=\"dataframe\">\n",
       "  <thead>\n",
       "    <tr style=\"text-align: right;\">\n",
       "      <th></th>\n",
       "      <th>count</th>\n",
       "      <th>mean</th>\n",
       "      <th>std</th>\n",
       "      <th>min</th>\n",
       "      <th>25%</th>\n",
       "      <th>50%</th>\n",
       "      <th>75%</th>\n",
       "      <th>max</th>\n",
       "    </tr>\n",
       "  </thead>\n",
       "  <tbody>\n",
       "    <tr>\n",
       "      <th>Age</th>\n",
       "      <td>12700.0</td>\n",
       "      <td>28.771969</td>\n",
       "      <td>14.387261</td>\n",
       "      <td>0.0</td>\n",
       "      <td>19.0</td>\n",
       "      <td>27.0</td>\n",
       "      <td>38.0</td>\n",
       "      <td>79.0</td>\n",
       "    </tr>\n",
       "    <tr>\n",
       "      <th>RoomService</th>\n",
       "      <td>12707.0</td>\n",
       "      <td>222.897852</td>\n",
       "      <td>647.596664</td>\n",
       "      <td>0.0</td>\n",
       "      <td>0.0</td>\n",
       "      <td>0.0</td>\n",
       "      <td>49.0</td>\n",
       "      <td>14327.0</td>\n",
       "    </tr>\n",
       "    <tr>\n",
       "      <th>FoodCourt</th>\n",
       "      <td>12681.0</td>\n",
       "      <td>451.961675</td>\n",
       "      <td>1584.370747</td>\n",
       "      <td>0.0</td>\n",
       "      <td>0.0</td>\n",
       "      <td>0.0</td>\n",
       "      <td>77.0</td>\n",
       "      <td>29813.0</td>\n",
       "    </tr>\n",
       "    <tr>\n",
       "      <th>ShoppingMall</th>\n",
       "      <td>12664.0</td>\n",
       "      <td>174.906033</td>\n",
       "      <td>590.558690</td>\n",
       "      <td>0.0</td>\n",
       "      <td>0.0</td>\n",
       "      <td>0.0</td>\n",
       "      <td>29.0</td>\n",
       "      <td>23492.0</td>\n",
       "    </tr>\n",
       "    <tr>\n",
       "      <th>Spa</th>\n",
       "      <td>12686.0</td>\n",
       "      <td>308.476904</td>\n",
       "      <td>1130.279641</td>\n",
       "      <td>0.0</td>\n",
       "      <td>0.0</td>\n",
       "      <td>0.0</td>\n",
       "      <td>57.0</td>\n",
       "      <td>22408.0</td>\n",
       "    </tr>\n",
       "    <tr>\n",
       "      <th>VRDeck</th>\n",
       "      <td>12702.0</td>\n",
       "      <td>306.789482</td>\n",
       "      <td>1180.097223</td>\n",
       "      <td>0.0</td>\n",
       "      <td>0.0</td>\n",
       "      <td>0.0</td>\n",
       "      <td>42.0</td>\n",
       "      <td>24133.0</td>\n",
       "    </tr>\n",
       "  </tbody>\n",
       "</table>\n",
       "</div>"
      ],
      "text/plain": [
       "                count        mean          std  min   25%   50%   75%      max\n",
       "Age           12700.0   28.771969    14.387261  0.0  19.0  27.0  38.0     79.0\n",
       "RoomService   12707.0  222.897852   647.596664  0.0   0.0   0.0  49.0  14327.0\n",
       "FoodCourt     12681.0  451.961675  1584.370747  0.0   0.0   0.0  77.0  29813.0\n",
       "ShoppingMall  12664.0  174.906033   590.558690  0.0   0.0   0.0  29.0  23492.0\n",
       "Spa           12686.0  308.476904  1130.279641  0.0   0.0   0.0  57.0  22408.0\n",
       "VRDeck        12702.0  306.789482  1180.097223  0.0   0.0   0.0  42.0  24133.0"
      ]
     },
     "execution_count": 10,
     "metadata": {},
     "output_type": "execute_result"
    }
   ],
   "source": [
    "df.describe().T"
   ]
  },
  {
   "cell_type": "code",
   "execution_count": 11,
   "id": "4d7563d4",
   "metadata": {
    "execution": {
     "iopub.execute_input": "2022-06-21T07:32:18.808555Z",
     "iopub.status.busy": "2022-06-21T07:32:18.807665Z",
     "iopub.status.idle": "2022-06-21T07:32:18.854743Z",
     "shell.execute_reply": "2022-06-21T07:32:18.853932Z"
    },
    "papermill": {
     "duration": 0.128358,
     "end_time": "2022-06-21T07:32:18.857160",
     "exception": false,
     "start_time": "2022-06-21T07:32:18.728802",
     "status": "completed"
    },
    "tags": []
   },
   "outputs": [
    {
     "data": {
      "text/html": [
       "<div>\n",
       "<style scoped>\n",
       "    .dataframe tbody tr th:only-of-type {\n",
       "        vertical-align: middle;\n",
       "    }\n",
       "\n",
       "    .dataframe tbody tr th {\n",
       "        vertical-align: top;\n",
       "    }\n",
       "\n",
       "    .dataframe thead th {\n",
       "        text-align: right;\n",
       "    }\n",
       "</style>\n",
       "<table border=\"1\" class=\"dataframe\">\n",
       "  <thead>\n",
       "    <tr style=\"text-align: right;\">\n",
       "      <th></th>\n",
       "      <th>count</th>\n",
       "      <th>unique</th>\n",
       "      <th>top</th>\n",
       "      <th>freq</th>\n",
       "    </tr>\n",
       "  </thead>\n",
       "  <tbody>\n",
       "    <tr>\n",
       "      <th>PassengerId</th>\n",
       "      <td>12970</td>\n",
       "      <td>12970</td>\n",
       "      <td>0001_01</td>\n",
       "      <td>1</td>\n",
       "    </tr>\n",
       "    <tr>\n",
       "      <th>HomePlanet</th>\n",
       "      <td>12682</td>\n",
       "      <td>3</td>\n",
       "      <td>Earth</td>\n",
       "      <td>6865</td>\n",
       "    </tr>\n",
       "    <tr>\n",
       "      <th>CryoSleep</th>\n",
       "      <td>12660</td>\n",
       "      <td>2</td>\n",
       "      <td>False</td>\n",
       "      <td>8079</td>\n",
       "    </tr>\n",
       "    <tr>\n",
       "      <th>Cabin</th>\n",
       "      <td>12671</td>\n",
       "      <td>9825</td>\n",
       "      <td>G/734/S</td>\n",
       "      <td>8</td>\n",
       "    </tr>\n",
       "    <tr>\n",
       "      <th>Destination</th>\n",
       "      <td>12696</td>\n",
       "      <td>3</td>\n",
       "      <td>TRAPPIST-1e</td>\n",
       "      <td>8871</td>\n",
       "    </tr>\n",
       "    <tr>\n",
       "      <th>VIP</th>\n",
       "      <td>12674</td>\n",
       "      <td>2</td>\n",
       "      <td>False</td>\n",
       "      <td>12401</td>\n",
       "    </tr>\n",
       "    <tr>\n",
       "      <th>Name</th>\n",
       "      <td>12676</td>\n",
       "      <td>12629</td>\n",
       "      <td>Carry Contrevins</td>\n",
       "      <td>2</td>\n",
       "    </tr>\n",
       "    <tr>\n",
       "      <th>Transported</th>\n",
       "      <td>8693</td>\n",
       "      <td>2</td>\n",
       "      <td>True</td>\n",
       "      <td>4378</td>\n",
       "    </tr>\n",
       "  </tbody>\n",
       "</table>\n",
       "</div>"
      ],
      "text/plain": [
       "             count unique               top   freq\n",
       "PassengerId  12970  12970           0001_01      1\n",
       "HomePlanet   12682      3             Earth   6865\n",
       "CryoSleep    12660      2             False   8079\n",
       "Cabin        12671   9825           G/734/S      8\n",
       "Destination  12696      3       TRAPPIST-1e   8871\n",
       "VIP          12674      2             False  12401\n",
       "Name         12676  12629  Carry Contrevins      2\n",
       "Transported   8693      2              True   4378"
      ]
     },
     "execution_count": 11,
     "metadata": {},
     "output_type": "execute_result"
    }
   ],
   "source": [
    "df.describe(include=['O']).T"
   ]
  },
  {
   "cell_type": "code",
   "execution_count": 12,
   "id": "1a8c9564",
   "metadata": {
    "execution": {
     "iopub.execute_input": "2022-06-21T07:32:19.017593Z",
     "iopub.status.busy": "2022-06-21T07:32:19.017306Z",
     "iopub.status.idle": "2022-06-21T07:32:19.029812Z",
     "shell.execute_reply": "2022-06-21T07:32:19.029212Z"
    },
    "papermill": {
     "duration": 0.095493,
     "end_time": "2022-06-21T07:32:19.031782",
     "exception": false,
     "start_time": "2022-06-21T07:32:18.936289",
     "status": "completed"
    },
    "tags": []
   },
   "outputs": [
    {
     "data": {
      "text/plain": [
       "PassengerId        0\n",
       "HomePlanet       288\n",
       "CryoSleep        310\n",
       "Cabin            299\n",
       "Destination      274\n",
       "Age              270\n",
       "VIP              296\n",
       "RoomService      263\n",
       "FoodCourt        289\n",
       "ShoppingMall     306\n",
       "Spa              284\n",
       "VRDeck           268\n",
       "Name             294\n",
       "Transported     4277\n",
       "dtype: int64"
      ]
     },
     "execution_count": 12,
     "metadata": {},
     "output_type": "execute_result"
    }
   ],
   "source": [
    "df.isnull().sum()"
   ]
  },
  {
   "cell_type": "code",
   "execution_count": 13,
   "id": "ad5be26a",
   "metadata": {
    "execution": {
     "iopub.execute_input": "2022-06-21T07:32:19.190895Z",
     "iopub.status.busy": "2022-06-21T07:32:19.190075Z",
     "iopub.status.idle": "2022-06-21T07:32:19.589175Z",
     "shell.execute_reply": "2022-06-21T07:32:19.588059Z"
    },
    "papermill": {
     "duration": 0.481251,
     "end_time": "2022-06-21T07:32:19.591312",
     "exception": false,
     "start_time": "2022-06-21T07:32:19.110061",
     "status": "completed"
    },
    "tags": []
   },
   "outputs": [
    {
     "data": {
      "image/png": "[encoded data removed]",
      "text/plain": [
       "<Figure size 720x576 with 2 Axes>"
      ]
     },
     "metadata": {},
     "output_type": "display_data"
    }
   ],
   "source": [
    "sns.set_theme(style='darkgrid')\n",
    "plt.figure(figsize=(10,8))\n",
    "sns.heatmap(df.corr(),annot = True,cmap = \"Blues\")\n",
    "plt.show()"
   ]
  },
  {
   "cell_type": "code",
   "execution_count": 14,
   "id": "9078f79f",
   "metadata": {
    "execution": {
     "iopub.execute_input": "2022-06-21T07:32:19.755653Z",
     "iopub.status.busy": "2022-06-21T07:32:19.754988Z",
     "iopub.status.idle": "2022-06-21T07:32:19.764716Z",
     "shell.execute_reply": "2022-06-21T07:32:19.764095Z"
    },
    "papermill": {
     "duration": 0.092348,
     "end_time": "2022-06-21T07:32:19.766534",
     "exception": false,
     "start_time": "2022-06-21T07:32:19.674186",
     "status": "completed"
    },
    "tags": []
   },
   "outputs": [
    {
     "data": {
      "text/plain": [
       "count    12700.000000\n",
       "mean        28.771969\n",
       "std         14.387261\n",
       "min          0.000000\n",
       "25%         19.000000\n",
       "50%         27.000000\n",
       "75%         38.000000\n",
       "max         79.000000\n",
       "Name: Age, dtype: float64"
      ]
     },
     "execution_count": 14,
     "metadata": {},
     "output_type": "execute_result"
    }
   ],
   "source": [
    "df['Age'].describe()"
   ]
  },
  {
   "cell_type": "code",
   "execution_count": 15,
   "id": "1b3c902e",
   "metadata": {
    "execution": {
     "iopub.execute_input": "2022-06-21T07:32:19.926640Z",
     "iopub.status.busy": "2022-06-21T07:32:19.926246Z",
     "iopub.status.idle": "2022-06-21T07:32:21.194973Z",
     "shell.execute_reply": "2022-06-21T07:32:21.194083Z"
    },
    "papermill": {
     "duration": 1.352892,
     "end_time": "2022-06-21T07:32:21.197644",
     "exception": false,
     "start_time": "2022-06-21T07:32:19.844752",
     "status": "completed"
    },
    "tags": []
   },
   "outputs": [
    {
     "data": {
      "image/png": "[encoded data removed]",
      "text/plain": [
       "<Figure size 1080x1080 with 6 Axes>"
      ]
     },
     "metadata": {},
     "output_type": "display_data"
    }
   ],
   "source": [
    "fig, ax = plt.subplots(3,2,figsize=(15,15))\n",
    "y = ['RoomService','FoodCourt','ShoppingMall','Spa','VRDeck']\n",
    "for i in range(3):\n",
    "    for j in range(2):\n",
    "        if 2*i+j <5:\n",
    "            ax[i,j].scatter(df['Age'],df[y[2*i+j]])\n",
    "            ax[i,j].set_xlabel('Age',fontsize=15)\n",
    "            ax[i,j].set_ylabel(y[2*i+j],fontsize=15)\n",
    "plt.show()\n"
   ]
  },
  {
   "cell_type": "code",
   "execution_count": 16,
   "id": "84037f1f",
   "metadata": {
    "execution": {
     "iopub.execute_input": "2022-06-21T07:32:21.370536Z",
     "iopub.status.busy": "2022-06-21T07:32:21.369970Z",
     "iopub.status.idle": "2022-06-21T07:32:21.697930Z",
     "shell.execute_reply": "2022-06-21T07:32:21.697069Z"
    },
    "papermill": {
     "duration": 0.418226,
     "end_time": "2022-06-21T07:32:21.699946",
     "exception": false,
     "start_time": "2022-06-21T07:32:21.281720",
     "status": "completed"
    },
    "tags": []
   },
   "outputs": [
    {
     "data": {
      "image/png": "[encoded data removed]",
      "text/plain": [
       "<Figure size 720x504 with 1 Axes>"
      ]
     },
     "metadata": {},
     "output_type": "display_data"
    }
   ],
   "source": [
    "plt.figure(figsize=(10,7))\n",
    "sns.kdeplot(x = df['Age'],shade=True,color='Green')\n",
    "plt.show()"
   ]
  },
  {
   "cell_type": "code",
   "execution_count": 17,
   "id": "0e7fd34a",
   "metadata": {
    "execution": {
     "iopub.execute_input": "2022-06-21T07:32:21.872866Z",
     "iopub.status.busy": "2022-06-21T07:32:21.872574Z",
     "iopub.status.idle": "2022-06-21T07:32:21.886010Z",
     "shell.execute_reply": "2022-06-21T07:32:21.885119Z"
    },
    "papermill": {
     "duration": 0.102144,
     "end_time": "2022-06-21T07:32:21.887939",
     "exception": false,
     "start_time": "2022-06-21T07:32:21.785795",
     "status": "completed"
    },
    "tags": []
   },
   "outputs": [
    {
     "data": {
      "text/plain": [
       "0"
      ]
     },
     "execution_count": 17,
     "metadata": {},
     "output_type": "execute_result"
    }
   ],
   "source": [
    "mean = df['Age'].mean()\n",
    "std = df['Age'].std()\n",
    "is_null = df['Age'].isnull().sum()\n",
    "rand_age = np.random.randint(mean - std, mean + std, size = is_null)\n",
    "age_slice = df['Age'].copy()\n",
    "age_slice[np.isnan(age_slice)] = rand_age\n",
    "df['Age'] = age_slice\n",
    "df['Age'] = df['Age'].astype(int)\n",
    "\n",
    "df['Age'].isnull().sum()"
   ]
  },
  {
   "cell_type": "code",
   "execution_count": 18,
   "id": "a29b53b7",
   "metadata": {
    "execution": {
     "iopub.execute_input": "2022-06-21T07:32:22.061831Z",
     "iopub.status.busy": "2022-06-21T07:32:22.061216Z",
     "iopub.status.idle": "2022-06-21T07:32:22.071344Z",
     "shell.execute_reply": "2022-06-21T07:32:22.069918Z"
    },
    "papermill": {
     "duration": 0.102012,
     "end_time": "2022-06-21T07:32:22.073418",
     "exception": false,
     "start_time": "2022-06-21T07:32:21.971406",
     "status": "completed"
    },
    "tags": []
   },
   "outputs": [
    {
     "name": "stdout",
     "output_type": "stream",
     "text": [
      "False    8079\n",
      "True     4581\n",
      "Name: CryoSleep, dtype: int64\n",
      "False    12401\n",
      "True       273\n",
      "Name: VIP, dtype: int64\n"
     ]
    }
   ],
   "source": [
    "print(df['CryoSleep'].value_counts())\n",
    "print(df['VIP'].value_counts())"
   ]
  },
  {
   "cell_type": "code",
   "execution_count": 19,
   "id": "2861e8f8",
   "metadata": {
    "execution": {
     "iopub.execute_input": "2022-06-21T07:32:22.245189Z",
     "iopub.status.busy": "2022-06-21T07:32:22.244626Z",
     "iopub.status.idle": "2022-06-21T07:32:22.253744Z",
     "shell.execute_reply": "2022-06-21T07:32:22.253085Z"
    },
    "papermill": {
     "duration": 0.099236,
     "end_time": "2022-06-21T07:32:22.255771",
     "exception": false,
     "start_time": "2022-06-21T07:32:22.156535",
     "status": "completed"
    },
    "tags": []
   },
   "outputs": [],
   "source": [
    "df['CryoSleep'] = df['CryoSleep'].fillna(False)\n",
    "df['VIP'] = df['VIP'].fillna(False)"
   ]
  },
  {
   "cell_type": "code",
   "execution_count": 20,
   "id": "57c910e9",
   "metadata": {
    "execution": {
     "iopub.execute_input": "2022-06-21T07:32:22.432349Z",
     "iopub.status.busy": "2022-06-21T07:32:22.432036Z",
     "iopub.status.idle": "2022-06-21T07:32:22.440836Z",
     "shell.execute_reply": "2022-06-21T07:32:22.439950Z"
    },
    "papermill": {
     "duration": 0.100933,
     "end_time": "2022-06-21T07:32:22.442808",
     "exception": false,
     "start_time": "2022-06-21T07:32:22.341875",
     "status": "completed"
    },
    "tags": []
   },
   "outputs": [],
   "source": [
    "df['RoomService'] = df['RoomService'].fillna(0)\n",
    "df['FoodCourt'] = df['FoodCourt'].fillna(0)\n",
    "df['ShoppingMall'] = df['ShoppingMall'].fillna(0)\n",
    "df['Spa'] = df['Spa'].fillna(0)\n",
    "df['Spa'] = df['Spa'].fillna(0)\n",
    "df['VRDeck'] = df['VRDeck'].fillna(0)"
   ]
  },
  {
   "cell_type": "code",
   "execution_count": 21,
   "id": "0e86eb20",
   "metadata": {
    "execution": {
     "iopub.execute_input": "2022-06-21T07:32:22.614185Z",
     "iopub.status.busy": "2022-06-21T07:32:22.613875Z",
     "iopub.status.idle": "2022-06-21T07:32:22.625198Z",
     "shell.execute_reply": "2022-06-21T07:32:22.624388Z"
    },
    "papermill": {
     "duration": 0.100202,
     "end_time": "2022-06-21T07:32:22.627195",
     "exception": false,
     "start_time": "2022-06-21T07:32:22.526993",
     "status": "completed"
    },
    "tags": []
   },
   "outputs": [
    {
     "data": {
      "text/plain": [
       "PassengerId        0\n",
       "HomePlanet       288\n",
       "CryoSleep          0\n",
       "Cabin            299\n",
       "Destination      274\n",
       "Age                0\n",
       "VIP                0\n",
       "RoomService        0\n",
       "FoodCourt          0\n",
       "ShoppingMall       0\n",
       "Spa                0\n",
       "VRDeck             0\n",
       "Name             294\n",
       "Transported     4277\n",
       "dtype: int64"
      ]
     },
     "execution_count": 21,
     "metadata": {},
     "output_type": "execute_result"
    }
   ],
   "source": [
    "df.isnull().sum()"
   ]
  },
  {
   "cell_type": "code",
   "execution_count": 22,
   "id": "af7aec8f",
   "metadata": {
    "execution": {
     "iopub.execute_input": "2022-06-21T07:32:22.803111Z",
     "iopub.status.busy": "2022-06-21T07:32:22.802590Z",
     "iopub.status.idle": "2022-06-21T07:32:22.815098Z",
     "shell.execute_reply": "2022-06-21T07:32:22.814499Z"
    },
    "papermill": {
     "duration": 0.103322,
     "end_time": "2022-06-21T07:32:22.817157",
     "exception": false,
     "start_time": "2022-06-21T07:32:22.713835",
     "status": "completed"
    },
    "tags": []
   },
   "outputs": [
    {
     "data": {
      "text/plain": [
       "count    12970.000000\n",
       "mean      1433.221049\n",
       "std       2807.369708\n",
       "min          0.000000\n",
       "25%          0.000000\n",
       "50%        716.000000\n",
       "75%       1442.000000\n",
       "max      35987.000000\n",
       "Name: Total_cost, dtype: float64"
      ]
     },
     "execution_count": 22,
     "metadata": {},
     "output_type": "execute_result"
    }
   ],
   "source": [
    "df['Total_cost'] = df['RoomService'] + df['FoodCourt'] + df['ShoppingMall'] + df['Spa'] + df['VRDeck']\n",
    "df['Total_cost'].describe()"
   ]
  },
  {
   "cell_type": "code",
   "execution_count": 23,
   "id": "24d0a5d9",
   "metadata": {
    "execution": {
     "iopub.execute_input": "2022-06-21T07:32:22.991733Z",
     "iopub.status.busy": "2022-06-21T07:32:22.990765Z",
     "iopub.status.idle": "2022-06-21T07:32:23.001208Z",
     "shell.execute_reply": "2022-06-21T07:32:23.000308Z"
    },
    "papermill": {
     "duration": 0.101945,
     "end_time": "2022-06-21T07:32:23.003365",
     "exception": false,
     "start_time": "2022-06-21T07:32:22.901420",
     "status": "completed"
    },
    "tags": []
   },
   "outputs": [
    {
     "data": {
      "text/plain": [
       "count     12682\n",
       "unique        3\n",
       "top       Earth\n",
       "freq       6865\n",
       "Name: HomePlanet, dtype: object"
      ]
     },
     "execution_count": 23,
     "metadata": {},
     "output_type": "execute_result"
    }
   ],
   "source": [
    "df['HomePlanet'].describe()"
   ]
  },
  {
   "cell_type": "code",
   "execution_count": 24,
   "id": "e51478bc",
   "metadata": {
    "execution": {
     "iopub.execute_input": "2022-06-21T07:32:23.183007Z",
     "iopub.status.busy": "2022-06-21T07:32:23.182715Z",
     "iopub.status.idle": "2022-06-21T07:32:23.202137Z",
     "shell.execute_reply": "2022-06-21T07:32:23.201158Z"
    },
    "papermill": {
     "duration": 0.114034,
     "end_time": "2022-06-21T07:32:23.204271",
     "exception": false,
     "start_time": "2022-06-21T07:32:23.090237",
     "status": "completed"
    },
    "tags": []
   },
   "outputs": [
    {
     "data": {
      "text/plain": [
       "[(-0.001, 716.0], (716.0, 991.0], (2347.0, 35987.0], (991.0, 2347.0]]\n",
       "Categories (4, interval[float64, right]): [(-0.001, 716.0] < (716.0, 991.0] < (991.0, 2347.0] < (2347.0, 35987.0]]"
      ]
     },
     "execution_count": 24,
     "metadata": {},
     "output_type": "execute_result"
    }
   ],
   "source": [
    "\n",
    "edg= pd.qcut(df['Total_cost'],6,duplicates = 'drop').unique()\n",
    "edg"
   ]
  },
  {
   "cell_type": "code",
   "execution_count": 25,
   "id": "b794fbe4",
   "metadata": {
    "execution": {
     "iopub.execute_input": "2022-06-21T07:32:23.385429Z",
     "iopub.status.busy": "2022-06-21T07:32:23.385127Z",
     "iopub.status.idle": "2022-06-21T07:32:23.392416Z",
     "shell.execute_reply": "2022-06-21T07:32:23.391718Z"
    },
    "papermill": {
     "duration": 0.10376,
     "end_time": "2022-06-21T07:32:23.394644",
     "exception": false,
     "start_time": "2022-06-21T07:32:23.290884",
     "status": "completed"
    },
    "tags": []
   },
   "outputs": [],
   "source": [
    "edges = [-1,716,2347,35987]\n",
    "df['cost_range'] = pd.cut(df['Total_cost'],edges,labels = [1,2,3])"
   ]
  },
  {
   "cell_type": "code",
   "execution_count": 26,
   "id": "b16dc7a7",
   "metadata": {
    "execution": {
     "iopub.execute_input": "2022-06-21T07:32:23.578927Z",
     "iopub.status.busy": "2022-06-21T07:32:23.578613Z",
     "iopub.status.idle": "2022-06-21T07:32:23.812617Z",
     "shell.execute_reply": "2022-06-21T07:32:23.811538Z"
    },
    "papermill": {
     "duration": 0.327531,
     "end_time": "2022-06-21T07:32:23.814865",
     "exception": false,
     "start_time": "2022-06-21T07:32:23.487334",
     "status": "completed"
    },
    "tags": []
   },
   "outputs": [
    {
     "data": {
      "image/png": "[encoded data removed]",
      "text/plain": [
       "<Figure size 864x576 with 1 Axes>"
      ]
     },
     "metadata": {},
     "output_type": "display_data"
    }
   ],
   "source": [
    "plt.figure(figsize=(12,8))\n",
    "color = [\"#022133\", \"#5c693b\"]\n",
    "sns.countplot(x='HomePlanet',hue = 'VIP',data=df, palette = color)\n",
    "plt.show()"
   ]
  },
  {
   "cell_type": "code",
   "execution_count": 27,
   "id": "749ea609",
   "metadata": {
    "execution": {
     "iopub.execute_input": "2022-06-21T07:32:23.989980Z",
     "iopub.status.busy": "2022-06-21T07:32:23.989707Z",
     "iopub.status.idle": "2022-06-21T07:32:24.002522Z",
     "shell.execute_reply": "2022-06-21T07:32:24.001806Z"
    },
    "papermill": {
     "duration": 0.102816,
     "end_time": "2022-06-21T07:32:24.004432",
     "exception": false,
     "start_time": "2022-06-21T07:32:23.901616",
     "status": "completed"
    },
    "tags": []
   },
   "outputs": [
    {
     "data": {
      "text/plain": [
       "0"
      ]
     },
     "execution_count": 27,
     "metadata": {},
     "output_type": "execute_result"
    }
   ],
   "source": [
    "df.loc[df['VIP']==False,'HomePlanet'] = df['HomePlanet'].fillna('Earth')\n",
    "df.loc[df['VIP']==True,'HomePlanet'] = df['HomePlanet'].fillna('Europa')\n",
    "df['HomePlanet'].isnull().sum()"
   ]
  },
  {
   "cell_type": "code",
   "execution_count": 28,
   "id": "a3e2a889",
   "metadata": {
    "execution": {
     "iopub.execute_input": "2022-06-21T07:32:24.187480Z",
     "iopub.status.busy": "2022-06-21T07:32:24.186941Z",
     "iopub.status.idle": "2022-06-21T07:32:24.198901Z",
     "shell.execute_reply": "2022-06-21T07:32:24.198263Z"
    },
    "papermill": {
     "duration": 0.108605,
     "end_time": "2022-06-21T07:32:24.200832",
     "exception": false,
     "start_time": "2022-06-21T07:32:24.092227",
     "status": "completed"
    },
    "tags": []
   },
   "outputs": [
    {
     "data": {
      "text/plain": [
       "PassengerId        0\n",
       "HomePlanet         0\n",
       "CryoSleep          0\n",
       "Cabin            299\n",
       "Destination      274\n",
       "Age                0\n",
       "VIP                0\n",
       "RoomService        0\n",
       "FoodCourt          0\n",
       "ShoppingMall       0\n",
       "Spa                0\n",
       "VRDeck             0\n",
       "Name             294\n",
       "Transported     4277\n",
       "Total_cost         0\n",
       "cost_range         0\n",
       "dtype: int64"
      ]
     },
     "execution_count": 28,
     "metadata": {},
     "output_type": "execute_result"
    }
   ],
   "source": [
    "df.isnull().sum()"
   ]
  },
  {
   "cell_type": "code",
   "execution_count": 29,
   "id": "76bcbd7a",
   "metadata": {
    "execution": {
     "iopub.execute_input": "2022-06-21T07:32:24.379821Z",
     "iopub.status.busy": "2022-06-21T07:32:24.379367Z",
     "iopub.status.idle": "2022-06-21T07:32:24.388210Z",
     "shell.execute_reply": "2022-06-21T07:32:24.387379Z"
    },
    "papermill": {
     "duration": 0.102308,
     "end_time": "2022-06-21T07:32:24.390355",
     "exception": false,
     "start_time": "2022-06-21T07:32:24.288047",
     "status": "completed"
    },
    "tags": []
   },
   "outputs": [
    {
     "data": {
      "text/plain": [
       "count           12696\n",
       "unique              3\n",
       "top       TRAPPIST-1e\n",
       "freq             8871\n",
       "Name: Destination, dtype: object"
      ]
     },
     "execution_count": 29,
     "metadata": {},
     "output_type": "execute_result"
    }
   ],
   "source": [
    "df['Destination'].describe()"
   ]
  },
  {
   "cell_type": "code",
   "execution_count": 30,
   "id": "4544e954",
   "metadata": {
    "execution": {
     "iopub.execute_input": "2022-06-21T07:32:24.568122Z",
     "iopub.status.busy": "2022-06-21T07:32:24.567664Z",
     "iopub.status.idle": "2022-06-21T07:32:24.572512Z",
     "shell.execute_reply": "2022-06-21T07:32:24.571926Z"
    },
    "papermill": {
     "duration": 0.096119,
     "end_time": "2022-06-21T07:32:24.574362",
     "exception": false,
     "start_time": "2022-06-21T07:32:24.478243",
     "status": "completed"
    },
    "tags": []
   },
   "outputs": [],
   "source": [
    "df['Destination']=df['Destination'].fillna('TRAPPIST-1e')"
   ]
  },
  {
   "cell_type": "code",
   "execution_count": 31,
   "id": "641664fc",
   "metadata": {
    "execution": {
     "iopub.execute_input": "2022-06-21T07:32:24.748976Z",
     "iopub.status.busy": "2022-06-21T07:32:24.748441Z",
     "iopub.status.idle": "2022-06-21T07:32:24.771896Z",
     "shell.execute_reply": "2022-06-21T07:32:24.771195Z"
    },
    "papermill": {
     "duration": 0.113548,
     "end_time": "2022-06-21T07:32:24.774098",
     "exception": false,
     "start_time": "2022-06-21T07:32:24.660550",
     "status": "completed"
    },
    "tags": []
   },
   "outputs": [],
   "source": [
    "df[['c_deck','c_num','c_side']] = df['Cabin'].str.split('/',expand = True)"
   ]
  },
  {
   "cell_type": "code",
   "execution_count": 32,
   "id": "df27218a",
   "metadata": {
    "execution": {
     "iopub.execute_input": "2022-06-21T07:32:24.948326Z",
     "iopub.status.busy": "2022-06-21T07:32:24.947905Z",
     "iopub.status.idle": "2022-06-21T07:32:24.971892Z",
     "shell.execute_reply": "2022-06-21T07:32:24.970958Z"
    },
    "papermill": {
     "duration": 0.114658,
     "end_time": "2022-06-21T07:32:24.973978",
     "exception": false,
     "start_time": "2022-06-21T07:32:24.859320",
     "status": "completed"
    },
    "tags": []
   },
   "outputs": [
    {
     "data": {
      "text/html": [
       "<div>\n",
       "<style scoped>\n",
       "    .dataframe tbody tr th:only-of-type {\n",
       "        vertical-align: middle;\n",
       "    }\n",
       "\n",
       "    .dataframe tbody tr th {\n",
       "        vertical-align: top;\n",
       "    }\n",
       "\n",
       "    .dataframe thead th {\n",
       "        text-align: right;\n",
       "    }\n",
       "</style>\n",
       "<table border=\"1\" class=\"dataframe\">\n",
       "  <thead>\n",
       "    <tr style=\"text-align: right;\">\n",
       "      <th></th>\n",
       "      <th>c_deck</th>\n",
       "      <th>c_num</th>\n",
       "      <th>c_side</th>\n",
       "    </tr>\n",
       "  </thead>\n",
       "  <tbody>\n",
       "    <tr>\n",
       "      <th>count</th>\n",
       "      <td>12671</td>\n",
       "      <td>12671</td>\n",
       "      <td>12671</td>\n",
       "    </tr>\n",
       "    <tr>\n",
       "      <th>unique</th>\n",
       "      <td>8</td>\n",
       "      <td>1894</td>\n",
       "      <td>2</td>\n",
       "    </tr>\n",
       "    <tr>\n",
       "      <th>top</th>\n",
       "      <td>F</td>\n",
       "      <td>82</td>\n",
       "      <td>S</td>\n",
       "    </tr>\n",
       "    <tr>\n",
       "      <th>freq</th>\n",
       "      <td>4239</td>\n",
       "      <td>34</td>\n",
       "      <td>6381</td>\n",
       "    </tr>\n",
       "  </tbody>\n",
       "</table>\n",
       "</div>"
      ],
      "text/plain": [
       "       c_deck  c_num c_side\n",
       "count   12671  12671  12671\n",
       "unique      8   1894      2\n",
       "top         F     82      S\n",
       "freq     4239     34   6381"
      ]
     },
     "execution_count": 32,
     "metadata": {},
     "output_type": "execute_result"
    }
   ],
   "source": [
    "df[['c_deck','c_num','c_side']].describe()"
   ]
  },
  {
   "cell_type": "code",
   "execution_count": 33,
   "id": "007ba375",
   "metadata": {
    "execution": {
     "iopub.execute_input": "2022-06-21T07:32:25.153334Z",
     "iopub.status.busy": "2022-06-21T07:32:25.153048Z",
     "iopub.status.idle": "2022-06-21T07:32:25.162970Z",
     "shell.execute_reply": "2022-06-21T07:32:25.162191Z"
    },
    "papermill": {
     "duration": 0.100787,
     "end_time": "2022-06-21T07:32:25.164883",
     "exception": false,
     "start_time": "2022-06-21T07:32:25.064096",
     "status": "completed"
    },
    "tags": []
   },
   "outputs": [
    {
     "data": {
      "text/plain": [
       "c_deck    299\n",
       "c_num     299\n",
       "c_side    299\n",
       "dtype: int64"
      ]
     },
     "execution_count": 33,
     "metadata": {},
     "output_type": "execute_result"
    }
   ],
   "source": [
    "df[['c_deck','c_num','c_side']].isnull().sum()"
   ]
  },
  {
   "cell_type": "code",
   "execution_count": 34,
   "id": "eac6e898",
   "metadata": {
    "execution": {
     "iopub.execute_input": "2022-06-21T07:32:25.346643Z",
     "iopub.status.busy": "2022-06-21T07:32:25.345718Z",
     "iopub.status.idle": "2022-06-21T07:32:25.620545Z",
     "shell.execute_reply": "2022-06-21T07:32:25.619685Z"
    },
    "papermill": {
     "duration": 0.370356,
     "end_time": "2022-06-21T07:32:25.622498",
     "exception": false,
     "start_time": "2022-06-21T07:32:25.252142",
     "status": "completed"
    },
    "tags": []
   },
   "outputs": [
    {
     "data": {
      "image/png": "[encoded data removed]",
      "text/plain": [
       "<Figure size 864x504 with 1 Axes>"
      ]
     },
     "metadata": {},
     "output_type": "display_data"
    }
   ],
   "source": [
    "plt.figure(figsize = (12,7))\n",
    "color = ['#836d95','#59ae5c']\n",
    "sns.countplot(x='c_deck',hue= 'CryoSleep',data=df,palette = color)\n",
    "plt.show()"
   ]
  },
  {
   "cell_type": "code",
   "execution_count": 35,
   "id": "0c52d224",
   "metadata": {
    "execution": {
     "iopub.execute_input": "2022-06-21T07:32:25.801568Z",
     "iopub.status.busy": "2022-06-21T07:32:25.800640Z",
     "iopub.status.idle": "2022-06-21T07:32:26.095334Z",
     "shell.execute_reply": "2022-06-21T07:32:26.094404Z"
    },
    "papermill": {
     "duration": 0.385698,
     "end_time": "2022-06-21T07:32:26.097323",
     "exception": false,
     "start_time": "2022-06-21T07:32:25.711625",
     "status": "completed"
    },
    "tags": []
   },
   "outputs": [
    {
     "data": {
      "image/png": "[encoded data removed]",
      "text/plain": [
       "<Figure size 864x504 with 1 Axes>"
      ]
     },
     "metadata": {},
     "output_type": "display_data"
    }
   ],
   "source": [
    "plt.figure(figsize = (12,7))\n",
    "color = ['#871818','#735eeb','#497646']\n",
    "sns.countplot(x='c_deck',hue= 'cost_range',data=df,palette = color)\n",
    "plt.show()"
   ]
  },
  {
   "cell_type": "code",
   "execution_count": 36,
   "id": "ed923607",
   "metadata": {
    "execution": {
     "iopub.execute_input": "2022-06-21T07:32:26.282105Z",
     "iopub.status.busy": "2022-06-21T07:32:26.281806Z",
     "iopub.status.idle": "2022-06-21T07:32:26.289607Z",
     "shell.execute_reply": "2022-06-21T07:32:26.288627Z"
    },
    "papermill": {
     "duration": 0.101014,
     "end_time": "2022-06-21T07:32:26.291815",
     "exception": false,
     "start_time": "2022-06-21T07:32:26.190801",
     "status": "completed"
    },
    "tags": []
   },
   "outputs": [
    {
     "data": {
      "text/plain": [
       "119"
      ]
     },
     "execution_count": 36,
     "metadata": {},
     "output_type": "execute_result"
    }
   ],
   "source": [
    "df.loc[df['CryoSleep']==True,'c_deck'].isnull().sum()"
   ]
  },
  {
   "cell_type": "code",
   "execution_count": 37,
   "id": "12c122a8",
   "metadata": {
    "execution": {
     "iopub.execute_input": "2022-06-21T07:32:26.476393Z",
     "iopub.status.busy": "2022-06-21T07:32:26.475847Z",
     "iopub.status.idle": "2022-06-21T07:32:26.495407Z",
     "shell.execute_reply": "2022-06-21T07:32:26.494532Z"
    },
    "papermill": {
     "duration": 0.116528,
     "end_time": "2022-06-21T07:32:26.497490",
     "exception": false,
     "start_time": "2022-06-21T07:32:26.380962",
     "status": "completed"
    },
    "tags": []
   },
   "outputs": [
    {
     "data": {
      "text/plain": [
       "0"
      ]
     },
     "execution_count": 37,
     "metadata": {},
     "output_type": "execute_result"
    }
   ],
   "source": [
    "df.loc[df['cost_range'] == 1,'c_deck'] = df['c_deck'].fillna('G')\n",
    "df.loc[df['cost_range'] == 2,'c_deck'] = df['c_deck'].fillna('F')\n",
    "df.loc[df['cost_range'] == 3,'c_deck'] = df['c_deck'].fillna('C')\n",
    "df['c_deck'].isnull().sum()"
   ]
  },
  {
   "cell_type": "code",
   "execution_count": 38,
   "id": "d1f1d80c",
   "metadata": {
    "execution": {
     "iopub.execute_input": "2022-06-21T07:32:26.689629Z",
     "iopub.status.busy": "2022-06-21T07:32:26.689150Z",
     "iopub.status.idle": "2022-06-21T07:32:26.704875Z",
     "shell.execute_reply": "2022-06-21T07:32:26.703807Z"
    },
    "papermill": {
     "duration": 0.108118,
     "end_time": "2022-06-21T07:32:26.706975",
     "exception": false,
     "start_time": "2022-06-21T07:32:26.598857",
     "status": "completed"
    },
    "tags": []
   },
   "outputs": [
    {
     "data": {
      "text/plain": [
       "PassengerId        0\n",
       "HomePlanet         0\n",
       "CryoSleep          0\n",
       "Cabin            299\n",
       "Destination        0\n",
       "Age                0\n",
       "VIP                0\n",
       "RoomService        0\n",
       "FoodCourt          0\n",
       "ShoppingMall       0\n",
       "Spa                0\n",
       "VRDeck             0\n",
       "Name             294\n",
       "Transported     4277\n",
       "Total_cost         0\n",
       "cost_range         0\n",
       "c_deck             0\n",
       "c_num            299\n",
       "c_side           299\n",
       "dtype: int64"
      ]
     },
     "execution_count": 38,
     "metadata": {},
     "output_type": "execute_result"
    }
   ],
   "source": [
    "df.isnull().sum()"
   ]
  },
  {
   "cell_type": "code",
   "execution_count": 39,
   "id": "427f05c2",
   "metadata": {
    "execution": {
     "iopub.execute_input": "2022-06-21T07:32:26.890049Z",
     "iopub.status.busy": "2022-06-21T07:32:26.889573Z",
     "iopub.status.idle": "2022-06-21T07:32:26.900852Z",
     "shell.execute_reply": "2022-06-21T07:32:26.900225Z"
    },
    "papermill": {
     "duration": 0.105214,
     "end_time": "2022-06-21T07:32:26.902810",
     "exception": false,
     "start_time": "2022-06-21T07:32:26.797596",
     "status": "completed"
    },
    "tags": []
   },
   "outputs": [
    {
     "data": {
      "text/plain": [
       "count    12671.000000\n",
       "mean       603.601926\n",
       "std        512.891926\n",
       "min          0.000000\n",
       "25%        170.000000\n",
       "50%        431.000000\n",
       "75%       1008.000000\n",
       "max       1894.000000\n",
       "Name: c_num, dtype: float64"
      ]
     },
     "execution_count": 39,
     "metadata": {},
     "output_type": "execute_result"
    }
   ],
   "source": [
    "df['c_num'].dropna().astype('int64').describe()"
   ]
  },
  {
   "cell_type": "code",
   "execution_count": 40,
   "id": "ab5cf6c8",
   "metadata": {
    "execution": {
     "iopub.execute_input": "2022-06-21T07:32:27.092006Z",
     "iopub.status.busy": "2022-06-21T07:32:27.091725Z",
     "iopub.status.idle": "2022-06-21T07:32:27.097844Z",
     "shell.execute_reply": "2022-06-21T07:32:27.097205Z"
    },
    "papermill": {
     "duration": 0.106445,
     "end_time": "2022-06-21T07:32:27.099711",
     "exception": false,
     "start_time": "2022-06-21T07:32:26.993266",
     "status": "completed"
    },
    "tags": []
   },
   "outputs": [],
   "source": [
    "df['c_num']= df['c_num'].fillna('431')"
   ]
  },
  {
   "cell_type": "code",
   "execution_count": 41,
   "id": "25ff67c3",
   "metadata": {
    "execution": {
     "iopub.execute_input": "2022-06-21T07:32:27.285646Z",
     "iopub.status.busy": "2022-06-21T07:32:27.285120Z",
     "iopub.status.idle": "2022-06-21T07:32:27.293372Z",
     "shell.execute_reply": "2022-06-21T07:32:27.292564Z"
    },
    "papermill": {
     "duration": 0.10318,
     "end_time": "2022-06-21T07:32:27.295383",
     "exception": false,
     "start_time": "2022-06-21T07:32:27.192203",
     "status": "completed"
    },
    "tags": []
   },
   "outputs": [],
   "source": [
    "df['c_num'] = df['c_num'].astype('int64')"
   ]
  },
  {
   "cell_type": "code",
   "execution_count": 42,
   "id": "5ada29fd",
   "metadata": {
    "execution": {
     "iopub.execute_input": "2022-06-21T07:32:27.482867Z",
     "iopub.status.busy": "2022-06-21T07:32:27.482370Z",
     "iopub.status.idle": "2022-06-21T07:32:27.492568Z",
     "shell.execute_reply": "2022-06-21T07:32:27.491749Z"
    },
    "papermill": {
     "duration": 0.105514,
     "end_time": "2022-06-21T07:32:27.494606",
     "exception": false,
     "start_time": "2022-06-21T07:32:27.389092",
     "status": "completed"
    },
    "tags": []
   },
   "outputs": [
    {
     "data": {
      "text/plain": [
       "[(-0.001, 175.0], (175.0, 431.0], (431.0, 992.0], (992.0, 1894.0]]\n",
       "Categories (4, interval[float64, right]): [(-0.001, 175.0] < (175.0, 431.0] < (431.0, 992.0] < (992.0, 1894.0]]"
      ]
     },
     "execution_count": 42,
     "metadata": {},
     "output_type": "execute_result"
    }
   ],
   "source": [
    "edg = pd.qcut(df['c_num'],4,duplicates = 'drop').unique()\n",
    "edg"
   ]
  },
  {
   "cell_type": "code",
   "execution_count": 43,
   "id": "ed97a1ef",
   "metadata": {
    "execution": {
     "iopub.execute_input": "2022-06-21T07:32:27.676725Z",
     "iopub.status.busy": "2022-06-21T07:32:27.676216Z",
     "iopub.status.idle": "2022-06-21T07:32:27.682815Z",
     "shell.execute_reply": "2022-06-21T07:32:27.682207Z"
    },
    "papermill": {
     "duration": 0.10044,
     "end_time": "2022-06-21T07:32:27.684858",
     "exception": false,
     "start_time": "2022-06-21T07:32:27.584418",
     "status": "completed"
    },
    "tags": []
   },
   "outputs": [],
   "source": [
    "edges = [-1,175.0,431.0,992.0,1894.0]\n",
    "df['c_num_range'] = pd.cut(df['c_num'],edges)"
   ]
  },
  {
   "cell_type": "code",
   "execution_count": 44,
   "id": "6b4ec175",
   "metadata": {
    "execution": {
     "iopub.execute_input": "2022-06-21T07:32:27.868052Z",
     "iopub.status.busy": "2022-06-21T07:32:27.867516Z",
     "iopub.status.idle": "2022-06-21T07:32:27.876840Z",
     "shell.execute_reply": "2022-06-21T07:32:27.876252Z"
    },
    "papermill": {
     "duration": 0.104235,
     "end_time": "2022-06-21T07:32:27.878758",
     "exception": false,
     "start_time": "2022-06-21T07:32:27.774523",
     "status": "completed"
    },
    "tags": []
   },
   "outputs": [
    {
     "data": {
      "text/plain": [
       "(175.0, 431.0]     3384\n",
       "(-1.0, 175.0]      3252\n",
       "(992.0, 1894.0]    3241\n",
       "(431.0, 992.0]     3093\n",
       "Name: c_num_range, dtype: int64"
      ]
     },
     "execution_count": 44,
     "metadata": {},
     "output_type": "execute_result"
    }
   ],
   "source": [
    "df['c_num_range'].value_counts()"
   ]
  },
  {
   "cell_type": "code",
   "execution_count": 45,
   "id": "eb0dcb50",
   "metadata": {
    "execution": {
     "iopub.execute_input": "2022-06-21T07:32:28.062265Z",
     "iopub.status.busy": "2022-06-21T07:32:28.061960Z",
     "iopub.status.idle": "2022-06-21T07:32:28.075917Z",
     "shell.execute_reply": "2022-06-21T07:32:28.075163Z"
    },
    "papermill": {
     "duration": 0.107279,
     "end_time": "2022-06-21T07:32:28.077865",
     "exception": false,
     "start_time": "2022-06-21T07:32:27.970586",
     "status": "completed"
    },
    "tags": []
   },
   "outputs": [
    {
     "data": {
      "text/plain": [
       "PassengerId        0\n",
       "HomePlanet         0\n",
       "CryoSleep          0\n",
       "Cabin            299\n",
       "Destination        0\n",
       "Age                0\n",
       "VIP                0\n",
       "RoomService        0\n",
       "FoodCourt          0\n",
       "ShoppingMall       0\n",
       "Spa                0\n",
       "VRDeck             0\n",
       "Name             294\n",
       "Transported     4277\n",
       "Total_cost         0\n",
       "cost_range         0\n",
       "c_deck             0\n",
       "c_num              0\n",
       "c_side           299\n",
       "c_num_range        0\n",
       "dtype: int64"
      ]
     },
     "execution_count": 45,
     "metadata": {},
     "output_type": "execute_result"
    }
   ],
   "source": [
    "df.isnull().sum()"
   ]
  },
  {
   "cell_type": "code",
   "execution_count": 46,
   "id": "363618a9",
   "metadata": {
    "execution": {
     "iopub.execute_input": "2022-06-21T07:32:28.261729Z",
     "iopub.status.busy": "2022-06-21T07:32:28.261252Z",
     "iopub.status.idle": "2022-06-21T07:32:28.270430Z",
     "shell.execute_reply": "2022-06-21T07:32:28.269523Z"
    },
    "papermill": {
     "duration": 0.105164,
     "end_time": "2022-06-21T07:32:28.272589",
     "exception": false,
     "start_time": "2022-06-21T07:32:28.167425",
     "status": "completed"
    },
    "tags": []
   },
   "outputs": [
    {
     "data": {
      "text/plain": [
       "S    6381\n",
       "P    6290\n",
       "Name: c_side, dtype: int64"
      ]
     },
     "execution_count": 46,
     "metadata": {},
     "output_type": "execute_result"
    }
   ],
   "source": [
    "df['c_side'].value_counts()"
   ]
  },
  {
   "cell_type": "code",
   "execution_count": 47,
   "id": "df7af4f0",
   "metadata": {
    "execution": {
     "iopub.execute_input": "2022-06-21T07:32:28.465133Z",
     "iopub.status.busy": "2022-06-21T07:32:28.464624Z",
     "iopub.status.idle": "2022-06-21T07:32:28.469803Z",
     "shell.execute_reply": "2022-06-21T07:32:28.469203Z"
    },
    "papermill": {
     "duration": 0.104012,
     "end_time": "2022-06-21T07:32:28.471803",
     "exception": false,
     "start_time": "2022-06-21T07:32:28.367791",
     "status": "completed"
    },
    "tags": []
   },
   "outputs": [],
   "source": [
    "df['c_side']= df['c_side'].fillna('S')"
   ]
  },
  {
   "cell_type": "markdown",
   "id": "e3da7632",
   "metadata": {
    "papermill": {
     "duration": 0.09055,
     "end_time": "2022-06-21T07:32:28.653301",
     "exception": false,
     "start_time": "2022-06-21T07:32:28.562751",
     "status": "completed"
    },
    "tags": []
   },
   "source": [
    "# Feature Engineering"
   ]
  },
  {
   "cell_type": "code",
   "execution_count": 48,
   "id": "596e23ce",
   "metadata": {
    "execution": {
     "iopub.execute_input": "2022-06-21T07:32:28.838291Z",
     "iopub.status.busy": "2022-06-21T07:32:28.837812Z",
     "iopub.status.idle": "2022-06-21T07:32:28.843481Z",
     "shell.execute_reply": "2022-06-21T07:32:28.842928Z"
    },
    "papermill": {
     "duration": 0.101151,
     "end_time": "2022-06-21T07:32:28.845502",
     "exception": false,
     "start_time": "2022-06-21T07:32:28.744351",
     "status": "completed"
    },
    "tags": []
   },
   "outputs": [],
   "source": [
    "df['luxury_cost'] = df['ShoppingMall'] + df ['Spa'] + df['VRDeck']\n",
    "df['regular_cost'] = df['FoodCourt'] + df['RoomService']"
   ]
  },
  {
   "cell_type": "code",
   "execution_count": 49,
   "id": "98d91eb9",
   "metadata": {
    "execution": {
     "iopub.execute_input": "2022-06-21T07:32:29.029691Z",
     "iopub.status.busy": "2022-06-21T07:32:29.029418Z",
     "iopub.status.idle": "2022-06-21T07:32:29.059867Z",
     "shell.execute_reply": "2022-06-21T07:32:29.059043Z"
    },
    "papermill": {
     "duration": 0.124697,
     "end_time": "2022-06-21T07:32:29.062079",
     "exception": false,
     "start_time": "2022-06-21T07:32:28.937382",
     "status": "completed"
    },
    "tags": []
   },
   "outputs": [
    {
     "name": "stdout",
     "output_type": "stream",
     "text": [
      "ShoppingMall   [(-0.001, 1.0], (1.0, 199.0], (199.0, 23492.0]]\n",
      "Categories (3, interval[float64, right]): [(-0.001, 1.0] < (1.0, 199.0] < (199.0, 23492.0]]\n",
      "Spa   [(-0.001, 3.0], (304.0, 22408.0], (3.0, 304.0]]\n",
      "Categories (3, interval[float64, right]): [(-0.001, 3.0] < (3.0, 304.0] < (304.0, 22408.0]]\n",
      "VRDeck   [(-0.001, 1.0], (1.0, 283.0], (283.0, 24133.0]]\n",
      "Categories (3, interval[float64, right]): [(-0.001, 1.0] < (1.0, 283.0] < (283.0, 24133.0]]\n",
      "FoodCourt   [(-0.001, 2.0], (2.0, 463.5], (463.5, 29813.0]]\n",
      "Categories (3, interval[float64, right]): [(-0.001, 2.0] < (2.0, 463.5] < (463.5, 29813.0]]\n",
      "RoomService   [(-0.001, 1.0], (1.0, 332.5], (332.5, 14327.0]]\n",
      "Categories (3, interval[float64, right]): [(-0.001, 1.0] < (1.0, 332.5] < (332.5, 14327.0]]\n"
     ]
    }
   ],
   "source": [
    "cost_list = ['ShoppingMall','Spa','VRDeck','FoodCourt','RoomService']\n",
    "for i in cost_list:\n",
    "    ed = pd.qcut(df[i],6,duplicates = 'drop').unique()\n",
    "    print(i,' ',ed)\n"
   ]
  },
  {
   "cell_type": "code",
   "execution_count": 50,
   "id": "24d80bc1",
   "metadata": {
    "execution": {
     "iopub.execute_input": "2022-06-21T07:32:29.251174Z",
     "iopub.status.busy": "2022-06-21T07:32:29.250635Z",
     "iopub.status.idle": "2022-06-21T07:32:29.264009Z",
     "shell.execute_reply": "2022-06-21T07:32:29.263112Z"
    },
    "papermill": {
     "duration": 0.109509,
     "end_time": "2022-06-21T07:32:29.265847",
     "exception": false,
     "start_time": "2022-06-21T07:32:29.156338",
     "status": "completed"
    },
    "tags": []
   },
   "outputs": [
    {
     "data": {
      "text/plain": [
       "(-1.0, 1.0]         8862\n",
       "(199.0, 23492.0]    2160\n",
       "(1.0, 199.0]        1948\n",
       "Name: SM_range, dtype: int64"
      ]
     },
     "execution_count": 50,
     "metadata": {},
     "output_type": "execute_result"
    }
   ],
   "source": [
    "df['SM_range'] = pd.cut(df['ShoppingMall'],[-1,1,199.0,23492.0])\n",
    "df['SM_range'].value_counts()"
   ]
  },
  {
   "cell_type": "code",
   "execution_count": 51,
   "id": "39409032",
   "metadata": {
    "execution": {
     "iopub.execute_input": "2022-06-21T07:32:29.452919Z",
     "iopub.status.busy": "2022-06-21T07:32:29.452523Z",
     "iopub.status.idle": "2022-06-21T07:32:29.465193Z",
     "shell.execute_reply": "2022-06-21T07:32:29.464397Z"
    },
    "papermill": {
     "duration": 0.108649,
     "end_time": "2022-06-21T07:32:29.467002",
     "exception": false,
     "start_time": "2022-06-21T07:32:29.358353",
     "status": "completed"
    },
    "tags": []
   },
   "outputs": [
    {
     "data": {
      "text/plain": [
       "(-1, 3]         8667\n",
       "(304, 22408]    2158\n",
       "(3, 304]        2145\n",
       "Name: Spa_range, dtype: int64"
      ]
     },
     "execution_count": 51,
     "metadata": {},
     "output_type": "execute_result"
    }
   ],
   "source": [
    "df['Spa_range'] = pd.cut(df['Spa'],[-1,3,304,22408])\n",
    "df['Spa_range'].value_counts()"
   ]
  },
  {
   "cell_type": "code",
   "execution_count": 52,
   "id": "7015d04d",
   "metadata": {
    "execution": {
     "iopub.execute_input": "2022-06-21T07:32:29.651739Z",
     "iopub.status.busy": "2022-06-21T07:32:29.651330Z",
     "iopub.status.idle": "2022-06-21T07:32:29.663763Z",
     "shell.execute_reply": "2022-06-21T07:32:29.662986Z"
    },
    "papermill": {
     "duration": 0.105956,
     "end_time": "2022-06-21T07:32:29.665746",
     "exception": false,
     "start_time": "2022-06-21T07:32:29.559790",
     "status": "completed"
    },
    "tags": []
   },
   "outputs": [
    {
     "data": {
      "text/plain": [
       "(-1, 1]         8731\n",
       "(283, 24133]    2161\n",
       "(1, 283]        2078\n",
       "Name: VD_range, dtype: int64"
      ]
     },
     "execution_count": 52,
     "metadata": {},
     "output_type": "execute_result"
    }
   ],
   "source": [
    "df['VD_range'] = pd.cut(df['VRDeck'],[-1,1,283,24133])\n",
    "df['VD_range'].value_counts()"
   ]
  },
  {
   "cell_type": "code",
   "execution_count": 53,
   "id": "c23acb69",
   "metadata": {
    "execution": {
     "iopub.execute_input": "2022-06-21T07:32:29.849756Z",
     "iopub.status.busy": "2022-06-21T07:32:29.849360Z",
     "iopub.status.idle": "2022-06-21T07:32:29.861730Z",
     "shell.execute_reply": "2022-06-21T07:32:29.860926Z"
    },
    "papermill": {
     "duration": 0.107912,
     "end_time": "2022-06-21T07:32:29.863661",
     "exception": false,
     "start_time": "2022-06-21T07:32:29.755749",
     "status": "completed"
    },
    "tags": []
   },
   "outputs": [
    {
     "data": {
      "text/plain": [
       "(-1.0, 2.0]         8715\n",
       "(463.5, 29813.0]    2162\n",
       "(2.0, 463.5]        2093\n",
       "Name: FC_range, dtype: int64"
      ]
     },
     "execution_count": 53,
     "metadata": {},
     "output_type": "execute_result"
    }
   ],
   "source": [
    "df['FC_range'] = pd.cut(df['FoodCourt'],[-1,2,463.5,29813])\n",
    "df['FC_range'].value_counts()"
   ]
  },
  {
   "cell_type": "code",
   "execution_count": 54,
   "id": "87081148",
   "metadata": {
    "execution": {
     "iopub.execute_input": "2022-06-21T07:32:30.055113Z",
     "iopub.status.busy": "2022-06-21T07:32:30.054542Z",
     "iopub.status.idle": "2022-06-21T07:32:30.066800Z",
     "shell.execute_reply": "2022-06-21T07:32:30.066196Z"
    },
    "papermill": {
     "duration": 0.111771,
     "end_time": "2022-06-21T07:32:30.068630",
     "exception": false,
     "start_time": "2022-06-21T07:32:29.956859",
     "status": "completed"
    },
    "tags": []
   },
   "outputs": [
    {
     "data": {
      "text/plain": [
       "(-1, 1]         8751\n",
       "(332, 14327]    2162\n",
       "(1, 332]        2057\n",
       "Name: RS_range, dtype: int64"
      ]
     },
     "execution_count": 54,
     "metadata": {},
     "output_type": "execute_result"
    }
   ],
   "source": [
    "df['RS_range'] = pd.cut(df['RoomService'],[-1,1,332,14327])\n",
    "df['RS_range'].value_counts()"
   ]
  },
  {
   "cell_type": "code",
   "execution_count": 55,
   "id": "5cd9fe61",
   "metadata": {
    "execution": {
     "iopub.execute_input": "2022-06-21T07:32:30.260924Z",
     "iopub.status.busy": "2022-06-21T07:32:30.260285Z",
     "iopub.status.idle": "2022-06-21T07:32:30.275305Z",
     "shell.execute_reply": "2022-06-21T07:32:30.274661Z"
    },
    "papermill": {
     "duration": 0.11256,
     "end_time": "2022-06-21T07:32:30.277894",
     "exception": false,
     "start_time": "2022-06-21T07:32:30.165334",
     "status": "completed"
    },
    "tags": []
   },
   "outputs": [
    {
     "name": "stdout",
     "output_type": "stream",
     "text": [
      "luxury_cost   [(-0.001, 36.0], (606.0, 1149.0], (1149.0, 28600.0], (36.0, 606.0]]\n",
      "Categories (4, interval[float64, right]): [(-0.001, 36.0] < (36.0, 606.0] < (606.0, 1149.0] < (1149.0, 28600.0]]\n",
      "regular_cost   [(-0.001, 2.0], (2.0, 346.0], (1030.0, 29813.0], (346.0, 1030.0]]\n",
      "Categories (4, interval[float64, right]): [(-0.001, 2.0] < (2.0, 346.0] < (346.0, 1030.0] < (1030.0, 29813.0]]\n"
     ]
    }
   ],
   "source": [
    "sup = ['luxury_cost','regular_cost']\n",
    "for i in sup:\n",
    "    ed = pd.qcut(df[i],6,duplicates = 'drop').unique()\n",
    "    print(i,' ',ed)"
   ]
  },
  {
   "cell_type": "code",
   "execution_count": 56,
   "id": "dd6af244",
   "metadata": {
    "execution": {
     "iopub.execute_input": "2022-06-21T07:32:30.469925Z",
     "iopub.status.busy": "2022-06-21T07:32:30.469403Z",
     "iopub.status.idle": "2022-06-21T07:32:30.481795Z",
     "shell.execute_reply": "2022-06-21T07:32:30.480941Z"
    },
    "papermill": {
     "duration": 0.111337,
     "end_time": "2022-06-21T07:32:30.483673",
     "exception": false,
     "start_time": "2022-06-21T07:32:30.372336",
     "status": "completed"
    },
    "tags": []
   },
   "outputs": [
    {
     "data": {
      "text/plain": [
       "(-1, 36]         6496\n",
       "(606, 1149]      2162\n",
       "(1149, 28600]    2161\n",
       "(36, 606]        2151\n",
       "Name: lc_range, dtype: int64"
      ]
     },
     "execution_count": 56,
     "metadata": {},
     "output_type": "execute_result"
    }
   ],
   "source": [
    "df['lc_range'] = pd.cut(df['luxury_cost'],[-1,36,606,1149,28600])\n",
    "df['lc_range'].value_counts()"
   ]
  },
  {
   "cell_type": "code",
   "execution_count": 57,
   "id": "7c18795d",
   "metadata": {
    "execution": {
     "iopub.execute_input": "2022-06-21T07:32:30.674906Z",
     "iopub.status.busy": "2022-06-21T07:32:30.674393Z",
     "iopub.status.idle": "2022-06-21T07:32:30.686794Z",
     "shell.execute_reply": "2022-06-21T07:32:30.685841Z"
    },
    "papermill": {
     "duration": 0.111037,
     "end_time": "2022-06-21T07:32:30.688736",
     "exception": false,
     "start_time": "2022-06-21T07:32:30.577699",
     "status": "completed"
    },
    "tags": []
   },
   "outputs": [
    {
     "data": {
      "text/plain": [
       "(-1, 2]          6519\n",
       "(346, 1030]      2165\n",
       "(1030, 29813]    2157\n",
       "(2, 346]         2129\n",
       "Name: rc_range, dtype: int64"
      ]
     },
     "execution_count": 57,
     "metadata": {},
     "output_type": "execute_result"
    }
   ],
   "source": [
    "df['rc_range'] = pd.cut(df['regular_cost'],[-1,2,346,1030,29813])\n",
    "df['rc_range'].value_counts()"
   ]
  },
  {
   "cell_type": "code",
   "execution_count": 58,
   "id": "6503b135",
   "metadata": {
    "execution": {
     "iopub.execute_input": "2022-06-21T07:32:30.884588Z",
     "iopub.status.busy": "2022-06-21T07:32:30.884076Z",
     "iopub.status.idle": "2022-06-21T07:32:30.890862Z",
     "shell.execute_reply": "2022-06-21T07:32:30.890197Z"
    },
    "papermill": {
     "duration": 0.107019,
     "end_time": "2022-06-21T07:32:30.892841",
     "exception": false,
     "start_time": "2022-06-21T07:32:30.785822",
     "status": "completed"
    },
    "tags": []
   },
   "outputs": [],
   "source": [
    "df.loc[df['regular_cost'] >= df['luxury_cost'],'reg_lux_ratio'] = 1\n",
    "df.loc[df['regular_cost'] < df['luxury_cost'],'reg_lux_ratio'] = 0"
   ]
  },
  {
   "cell_type": "code",
   "execution_count": 59,
   "id": "e4289cc0",
   "metadata": {
    "execution": {
     "iopub.execute_input": "2022-06-21T07:32:31.090047Z",
     "iopub.status.busy": "2022-06-21T07:32:31.089543Z",
     "iopub.status.idle": "2022-06-21T07:32:31.097770Z",
     "shell.execute_reply": "2022-06-21T07:32:31.097136Z"
    },
    "papermill": {
     "duration": 0.10924,
     "end_time": "2022-06-21T07:32:31.099738",
     "exception": false,
     "start_time": "2022-06-21T07:32:30.990498",
     "status": "completed"
    },
    "tags": []
   },
   "outputs": [
    {
     "data": {
      "text/plain": [
       "1.0    8754\n",
       "0.0    4216\n",
       "Name: reg_lux_ratio, dtype: int64"
      ]
     },
     "execution_count": 59,
     "metadata": {},
     "output_type": "execute_result"
    }
   ],
   "source": [
    "df['reg_lux_ratio'].value_counts()"
   ]
  },
  {
   "cell_type": "code",
   "execution_count": 60,
   "id": "27af0131",
   "metadata": {
    "execution": {
     "iopub.execute_input": "2022-06-21T07:32:31.292161Z",
     "iopub.status.busy": "2022-06-21T07:32:31.291636Z",
     "iopub.status.idle": "2022-06-21T07:32:57.437586Z",
     "shell.execute_reply": "2022-06-21T07:32:57.436653Z"
    },
    "papermill": {
     "duration": 26.243487,
     "end_time": "2022-06-21T07:32:57.439877",
     "exception": false,
     "start_time": "2022-06-21T07:32:31.196390",
     "status": "completed"
    },
    "tags": []
   },
   "outputs": [
    {
     "name": "stderr",
     "output_type": "stream",
     "text": [
      "/opt/conda/lib/python3.7/site-packages/pandas/core/indexing.py:925: PerformanceWarning: indexing past lexsort depth may impact performance.\n",
      "  return self._getitem_tuple(key)\n",
      "/opt/conda/lib/python3.7/site-packages/IPython/core/interactiveshell.py:2958: PerformanceWarning: indexing past lexsort depth may impact performance.\n",
      "  raw_cell, store_history, silent, shell_futures)\n",
      "/opt/conda/lib/python3.7/site-packages/IPython/core/async_helpers.py:78: PerformanceWarning: indexing past lexsort depth may impact performance.\n",
      "  coro.send(None)\n"
     ]
    }
   ],
   "source": [
    "df['FamilyId'] = df['PassengerId'].str.split(\"_\", n=2, expand=True)[0]\n",
    "df['Family Name'] = df['Name'].str.split(' ', n=2, expand=True)[1]\n",
    "df = df.set_index(['FamilyId','Family Name'])\n",
    "df['Family Member'] = 1\n",
    "df['Family Cost'] = 1\n",
    "for i in range(df.shape[0]):\n",
    "    fam_size = df.loc[df.index[i],:].shape[0]\n",
    "    df.loc[df.index[i],'Family Member'] = fam_size\n",
    "    fam_cost = df.loc[df.index[i],'Total_cost'].sum()\n",
    "    df.loc[df.index[i],'Family Cost'] = fam_cost\n",
    "\n",
    "df = df.reset_index()"
   ]
  },
  {
   "cell_type": "code",
   "execution_count": 61,
   "id": "6b267f13",
   "metadata": {
    "execution": {
     "iopub.execute_input": "2022-06-21T07:32:57.629940Z",
     "iopub.status.busy": "2022-06-21T07:32:57.629541Z",
     "iopub.status.idle": "2022-06-21T07:32:57.640962Z",
     "shell.execute_reply": "2022-06-21T07:32:57.640323Z"
    },
    "papermill": {
     "duration": 0.10775,
     "end_time": "2022-06-21T07:32:57.642662",
     "exception": false,
     "start_time": "2022-06-21T07:32:57.534912",
     "status": "completed"
    },
    "tags": []
   },
   "outputs": [
    {
     "data": {
      "text/plain": [
       "count     12970\n",
       "unique     9280\n",
       "top        6499\n",
       "freq          8\n",
       "Name: FamilyId, dtype: object"
      ]
     },
     "execution_count": 61,
     "metadata": {},
     "output_type": "execute_result"
    }
   ],
   "source": [
    "df['FamilyId'].describe()"
   ]
  },
  {
   "cell_type": "code",
   "execution_count": 62,
   "id": "af099937",
   "metadata": {
    "execution": {
     "iopub.execute_input": "2022-06-21T07:32:57.834059Z",
     "iopub.status.busy": "2022-06-21T07:32:57.833503Z",
     "iopub.status.idle": "2022-06-21T07:32:57.836566Z",
     "shell.execute_reply": "2022-06-21T07:32:57.836027Z"
    },
    "papermill": {
     "duration": 0.100833,
     "end_time": "2022-06-21T07:32:57.838281",
     "exception": false,
     "start_time": "2022-06-21T07:32:57.737448",
     "status": "completed"
    },
    "tags": []
   },
   "outputs": [],
   "source": [
    "# df = df.set_index(['FamilyId','Family Name'])\n",
    "# df['Family Cost'] = 1\n",
    "# for i in range(df.shape[0]):\n",
    "#     fam_cost = df.loc[df.index[i],'Total_cost'].sum()\n",
    "#     df.loc[df.index[i],'Family Cost'] = fam_cost\n",
    "    \n",
    "# df = df.reset_index()\n",
    "# df['Family Cost'].describe()    "
   ]
  },
  {
   "cell_type": "code",
   "execution_count": 63,
   "id": "21ef2361",
   "metadata": {
    "execution": {
     "iopub.execute_input": "2022-06-21T07:32:58.029724Z",
     "iopub.status.busy": "2022-06-21T07:32:58.029217Z",
     "iopub.status.idle": "2022-06-21T07:32:58.037737Z",
     "shell.execute_reply": "2022-06-21T07:32:58.037113Z"
    },
    "papermill": {
     "duration": 0.107979,
     "end_time": "2022-06-21T07:32:58.039703",
     "exception": false,
     "start_time": "2022-06-21T07:32:57.931724",
     "status": "completed"
    },
    "tags": []
   },
   "outputs": [],
   "source": [
    "df.loc[df['Total_cost'] == (df['Family Cost']/df['Family Member']),'total vs fam'] = 1\n",
    "df.loc[df['Total_cost'] < (df['Family Cost']/df['Family Member']),'total vs fam'] = 0\n",
    "df.loc[df['Total_cost'] > (df['Family Cost']/df['Family Member']),'total vs fam'] = 2"
   ]
  },
  {
   "cell_type": "code",
   "execution_count": 64,
   "id": "0005d4a6",
   "metadata": {
    "execution": {
     "iopub.execute_input": "2022-06-21T07:32:58.233151Z",
     "iopub.status.busy": "2022-06-21T07:32:58.232867Z",
     "iopub.status.idle": "2022-06-21T07:32:58.239359Z",
     "shell.execute_reply": "2022-06-21T07:32:58.238720Z"
    },
    "papermill": {
     "duration": 0.104477,
     "end_time": "2022-06-21T07:32:58.241129",
     "exception": false,
     "start_time": "2022-06-21T07:32:58.136652",
     "status": "completed"
    },
    "tags": []
   },
   "outputs": [
    {
     "data": {
      "text/plain": [
       "1.0    8714\n",
       "0.0    2374\n",
       "2.0    1882\n",
       "Name: total vs fam, dtype: int64"
      ]
     },
     "execution_count": 64,
     "metadata": {},
     "output_type": "execute_result"
    }
   ],
   "source": [
    "df['total vs fam'].value_counts()"
   ]
  },
  {
   "cell_type": "code",
   "execution_count": 65,
   "id": "431421b2",
   "metadata": {
    "execution": {
     "iopub.execute_input": "2022-06-21T07:32:58.429975Z",
     "iopub.status.busy": "2022-06-21T07:32:58.429490Z",
     "iopub.status.idle": "2022-06-21T07:32:58.442426Z",
     "shell.execute_reply": "2022-06-21T07:32:58.441461Z"
    },
    "papermill": {
     "duration": 0.110148,
     "end_time": "2022-06-21T07:32:58.445188",
     "exception": false,
     "start_time": "2022-06-21T07:32:58.335040",
     "status": "completed"
    },
    "tags": []
   },
   "outputs": [
    {
     "data": {
      "text/plain": [
       "count    12970.000000\n",
       "mean         0.600848\n",
       "std          0.489743\n",
       "min          0.000000\n",
       "25%          0.000000\n",
       "50%          1.000000\n",
       "75%          1.000000\n",
       "max          1.000000\n",
       "Name: Alone, dtype: float64"
      ]
     },
     "execution_count": 65,
     "metadata": {},
     "output_type": "execute_result"
    }
   ],
   "source": [
    "df.loc[df['Family Member']==1,'Alone']= 1\n",
    "df.loc[df['Family Member']>1,'Alone']= 0\n",
    "df['Alone'] = df['Alone'].astype(int)\n",
    "df['Alone'].describe()"
   ]
  },
  {
   "cell_type": "code",
   "execution_count": 66,
   "id": "c7520d78",
   "metadata": {
    "execution": {
     "iopub.execute_input": "2022-06-21T07:32:58.637175Z",
     "iopub.status.busy": "2022-06-21T07:32:58.636688Z",
     "iopub.status.idle": "2022-06-21T07:32:58.649873Z",
     "shell.execute_reply": "2022-06-21T07:32:58.649208Z"
    },
    "papermill": {
     "duration": 0.110917,
     "end_time": "2022-06-21T07:32:58.651686",
     "exception": false,
     "start_time": "2022-06-21T07:32:58.540769",
     "status": "completed"
    },
    "tags": []
   },
   "outputs": [
    {
     "data": {
      "text/html": [
       "<div>\n",
       "<style scoped>\n",
       "    .dataframe tbody tr th:only-of-type {\n",
       "        vertical-align: middle;\n",
       "    }\n",
       "\n",
       "    .dataframe tbody tr th {\n",
       "        vertical-align: top;\n",
       "    }\n",
       "\n",
       "    .dataframe thead th {\n",
       "        text-align: right;\n",
       "    }\n",
       "</style>\n",
       "<table border=\"1\" class=\"dataframe\">\n",
       "  <thead>\n",
       "    <tr style=\"text-align: right;\">\n",
       "      <th></th>\n",
       "      <th>Alone</th>\n",
       "      <th>Family Member</th>\n",
       "    </tr>\n",
       "  </thead>\n",
       "  <tbody>\n",
       "    <tr>\n",
       "      <th>0</th>\n",
       "      <td>1</td>\n",
       "      <td>1</td>\n",
       "    </tr>\n",
       "    <tr>\n",
       "      <th>1</th>\n",
       "      <td>1</td>\n",
       "      <td>1</td>\n",
       "    </tr>\n",
       "    <tr>\n",
       "      <th>2</th>\n",
       "      <td>0</td>\n",
       "      <td>2</td>\n",
       "    </tr>\n",
       "    <tr>\n",
       "      <th>3</th>\n",
       "      <td>0</td>\n",
       "      <td>2</td>\n",
       "    </tr>\n",
       "    <tr>\n",
       "      <th>4</th>\n",
       "      <td>1</td>\n",
       "      <td>1</td>\n",
       "    </tr>\n",
       "    <tr>\n",
       "      <th>5</th>\n",
       "      <td>1</td>\n",
       "      <td>1</td>\n",
       "    </tr>\n",
       "    <tr>\n",
       "      <th>6</th>\n",
       "      <td>0</td>\n",
       "      <td>2</td>\n",
       "    </tr>\n",
       "    <tr>\n",
       "      <th>7</th>\n",
       "      <td>0</td>\n",
       "      <td>2</td>\n",
       "    </tr>\n",
       "    <tr>\n",
       "      <th>8</th>\n",
       "      <td>1</td>\n",
       "      <td>1</td>\n",
       "    </tr>\n",
       "    <tr>\n",
       "      <th>9</th>\n",
       "      <td>0</td>\n",
       "      <td>3</td>\n",
       "    </tr>\n",
       "  </tbody>\n",
       "</table>\n",
       "</div>"
      ],
      "text/plain": [
       "   Alone  Family Member\n",
       "0      1              1\n",
       "1      1              1\n",
       "2      0              2\n",
       "3      0              2\n",
       "4      1              1\n",
       "5      1              1\n",
       "6      0              2\n",
       "7      0              2\n",
       "8      1              1\n",
       "9      0              3"
      ]
     },
     "execution_count": 66,
     "metadata": {},
     "output_type": "execute_result"
    }
   ],
   "source": [
    "df[['Alone','Family Member']].head(10)"
   ]
  },
  {
   "cell_type": "code",
   "execution_count": 67,
   "id": "288398ba",
   "metadata": {
    "execution": {
     "iopub.execute_input": "2022-06-21T07:32:58.844722Z",
     "iopub.status.busy": "2022-06-21T07:32:58.844226Z",
     "iopub.status.idle": "2022-06-21T07:32:58.850718Z",
     "shell.execute_reply": "2022-06-21T07:32:58.849936Z"
    },
    "papermill": {
     "duration": 0.107013,
     "end_time": "2022-06-21T07:32:58.852515",
     "exception": false,
     "start_time": "2022-06-21T07:32:58.745502",
     "status": "completed"
    },
    "tags": []
   },
   "outputs": [
    {
     "data": {
      "text/plain": [
       "1    7793\n",
       "2    2684\n",
       "3    1350\n",
       "4     556\n",
       "5     270\n",
       "6     180\n",
       "7     105\n",
       "8      32\n",
       "Name: Family Member, dtype: int64"
      ]
     },
     "execution_count": 67,
     "metadata": {},
     "output_type": "execute_result"
    }
   ],
   "source": [
    "df['Family Member'].value_counts()"
   ]
  },
  {
   "cell_type": "code",
   "execution_count": 68,
   "id": "f6088167",
   "metadata": {
    "execution": {
     "iopub.execute_input": "2022-06-21T07:32:59.046744Z",
     "iopub.status.busy": "2022-06-21T07:32:59.046234Z",
     "iopub.status.idle": "2022-06-21T07:32:59.056948Z",
     "shell.execute_reply": "2022-06-21T07:32:59.056096Z"
    },
    "papermill": {
     "duration": 0.111048,
     "end_time": "2022-06-21T07:32:59.058877",
     "exception": false,
     "start_time": "2022-06-21T07:32:58.947829",
     "status": "completed"
    },
    "tags": []
   },
   "outputs": [
    {
     "data": {
      "text/plain": [
       "count     12970\n",
       "unique        3\n",
       "top       Small\n",
       "freq      11827\n",
       "Name: Family Size, dtype: object"
      ]
     },
     "execution_count": 68,
     "metadata": {},
     "output_type": "execute_result"
    }
   ],
   "source": [
    "fmap = {1:'Small',2:'Small',3:'Small',4:'Medium',5:'Medium',6:'Large',7:'Large',8:'Large'}\n",
    "df['Family Size'] = df['Family Member'].map(fmap)\n",
    "df['Family Size'].describe()"
   ]
  },
  {
   "cell_type": "code",
   "execution_count": 69,
   "id": "78b2303a",
   "metadata": {
    "execution": {
     "iopub.execute_input": "2022-06-21T07:32:59.251034Z",
     "iopub.status.busy": "2022-06-21T07:32:59.250533Z",
     "iopub.status.idle": "2022-06-21T07:32:59.263198Z",
     "shell.execute_reply": "2022-06-21T07:32:59.262527Z"
    },
    "papermill": {
     "duration": 0.110612,
     "end_time": "2022-06-21T07:32:59.265274",
     "exception": false,
     "start_time": "2022-06-21T07:32:59.154662",
     "status": "completed"
    },
    "tags": []
   },
   "outputs": [
    {
     "data": {
      "text/plain": [
       "(15, 31]    6282\n",
       "(31, 47]    3452\n",
       "(-1, 15]    1825\n",
       "(47, 63]    1212\n",
       "(63, 79]     199\n",
       "Name: Age_range, dtype: int64"
      ]
     },
     "execution_count": 69,
     "metadata": {},
     "output_type": "execute_result"
    }
   ],
   "source": [
    "edges = np.linspace(df['Age'].min()-1,df['Age'].max(),6).astype(int)\n",
    "df['Age_range'] = pd.cut(df['Age'],edges)\n",
    "df['Age_range'].value_counts()"
   ]
  },
  {
   "cell_type": "code",
   "execution_count": 70,
   "id": "bdc80a78",
   "metadata": {
    "execution": {
     "iopub.execute_input": "2022-06-21T07:32:59.464203Z",
     "iopub.status.busy": "2022-06-21T07:32:59.463589Z",
     "iopub.status.idle": "2022-06-21T07:32:59.483390Z",
     "shell.execute_reply": "2022-06-21T07:32:59.482139Z"
    },
    "papermill": {
     "duration": 0.124124,
     "end_time": "2022-06-21T07:32:59.485687",
     "exception": false,
     "start_time": "2022-06-21T07:32:59.361563",
     "status": "completed"
    },
    "tags": []
   },
   "outputs": [
    {
     "data": {
      "text/plain": [
       "FamilyId            0\n",
       "Family Name       294\n",
       "PassengerId         0\n",
       "HomePlanet          0\n",
       "CryoSleep           0\n",
       "Cabin             299\n",
       "Destination         0\n",
       "Age                 0\n",
       "VIP                 0\n",
       "RoomService         0\n",
       "FoodCourt           0\n",
       "ShoppingMall        0\n",
       "Spa                 0\n",
       "VRDeck              0\n",
       "Name              294\n",
       "Transported      4277\n",
       "Total_cost          0\n",
       "cost_range          0\n",
       "c_deck              0\n",
       "c_num               0\n",
       "c_side              0\n",
       "c_num_range         0\n",
       "luxury_cost         0\n",
       "regular_cost        0\n",
       "SM_range            0\n",
       "Spa_range           0\n",
       "VD_range            0\n",
       "FC_range            0\n",
       "RS_range            0\n",
       "lc_range            0\n",
       "rc_range            0\n",
       "reg_lux_ratio       0\n",
       "Family Member       0\n",
       "Family Cost         0\n",
       "total vs fam        0\n",
       "Alone               0\n",
       "Family Size         0\n",
       "Age_range           0\n",
       "dtype: int64"
      ]
     },
     "execution_count": 70,
     "metadata": {},
     "output_type": "execute_result"
    }
   ],
   "source": [
    "df.isnull().sum()"
   ]
  },
  {
   "cell_type": "code",
   "execution_count": 71,
   "id": "9cd9ddb3",
   "metadata": {
    "execution": {
     "iopub.execute_input": "2022-06-21T07:32:59.694394Z",
     "iopub.status.busy": "2022-06-21T07:32:59.693659Z",
     "iopub.status.idle": "2022-06-21T07:32:59.720948Z",
     "shell.execute_reply": "2022-06-21T07:32:59.718993Z"
    },
    "papermill": {
     "duration": 0.126705,
     "end_time": "2022-06-21T07:32:59.723065",
     "exception": false,
     "start_time": "2022-06-21T07:32:59.596360",
     "status": "completed"
    },
    "tags": []
   },
   "outputs": [
    {
     "name": "stdout",
     "output_type": "stream",
     "text": [
      "<class 'pandas.core.frame.DataFrame'>\n",
      "RangeIndex: 12970 entries, 0 to 12969\n",
      "Data columns (total 38 columns):\n",
      " #   Column         Non-Null Count  Dtype   \n",
      "---  ------         --------------  -----   \n",
      " 0   FamilyId       12970 non-null  object  \n",
      " 1   Family Name    12676 non-null  object  \n",
      " 2   PassengerId    12970 non-null  object  \n",
      " 3   HomePlanet     12970 non-null  object  \n",
      " 4   CryoSleep      12970 non-null  bool    \n",
      " 5   Cabin          12671 non-null  object  \n",
      " 6   Destination    12970 non-null  object  \n",
      " 7   Age            12970 non-null  int64   \n",
      " 8   VIP            12970 non-null  bool    \n",
      " 9   RoomService    12970 non-null  float64 \n",
      " 10  FoodCourt      12970 non-null  float64 \n",
      " 11  ShoppingMall   12970 non-null  float64 \n",
      " 12  Spa            12970 non-null  float64 \n",
      " 13  VRDeck         12970 non-null  float64 \n",
      " 14  Name           12676 non-null  object  \n",
      " 15  Transported    8693 non-null   object  \n",
      " 16  Total_cost     12970 non-null  float64 \n",
      " 17  cost_range     12970 non-null  category\n",
      " 18  c_deck         12970 non-null  object  \n",
      " 19  c_num          12970 non-null  int64   \n",
      " 20  c_side         12970 non-null  object  \n",
      " 21  c_num_range    12970 non-null  category\n",
      " 22  luxury_cost    12970 non-null  float64 \n",
      " 23  regular_cost   12970 non-null  float64 \n",
      " 24  SM_range       12970 non-null  category\n",
      " 25  Spa_range      12970 non-null  category\n",
      " 26  VD_range       12970 non-null  category\n",
      " 27  FC_range       12970 non-null  category\n",
      " 28  RS_range       12970 non-null  category\n",
      " 29  lc_range       12970 non-null  category\n",
      " 30  rc_range       12970 non-null  category\n",
      " 31  reg_lux_ratio  12970 non-null  float64 \n",
      " 32  Family Member  12970 non-null  int64   \n",
      " 33  Family Cost    12970 non-null  int64   \n",
      " 34  total vs fam   12970 non-null  float64 \n",
      " 35  Alone          12970 non-null  int64   \n",
      " 36  Family Size    12970 non-null  object  \n",
      " 37  Age_range      12970 non-null  category\n",
      "dtypes: bool(2), category(10), float64(10), int64(5), object(11)\n",
      "memory usage: 2.7+ MB\n"
     ]
    }
   ],
   "source": [
    "df.info()"
   ]
  },
  {
   "cell_type": "markdown",
   "id": "4ad47c92",
   "metadata": {
    "papermill": {
     "duration": 0.095024,
     "end_time": "2022-06-21T07:32:59.914195",
     "exception": false,
     "start_time": "2022-06-21T07:32:59.819171",
     "status": "completed"
    },
    "tags": []
   },
   "source": [
    "# Model Selection"
   ]
  },
  {
   "cell_type": "code",
   "execution_count": 72,
   "id": "a7f9a4dc",
   "metadata": {
    "execution": {
     "iopub.execute_input": "2022-06-21T07:33:00.109439Z",
     "iopub.status.busy": "2022-06-21T07:33:00.109149Z",
     "iopub.status.idle": "2022-06-21T07:33:00.120627Z",
     "shell.execute_reply": "2022-06-21T07:33:00.119796Z"
    },
    "papermill": {
     "duration": 0.11095,
     "end_time": "2022-06-21T07:33:00.122668",
     "exception": false,
     "start_time": "2022-06-21T07:33:00.011718",
     "status": "completed"
    },
    "tags": []
   },
   "outputs": [],
   "source": [
    "drop_list = ['Family Name','Cabin','Name','FamilyId','Total_cost','Age',\n",
    "             'ShoppingMall','Spa','VRDeck','FoodCourt','RoomService',\n",
    "             'c_num','luxury_cost','regular_cost','Family Cost']\n",
    "df = df.drop(drop_list,axis=1)\n",
    "df['total vs fam'] = df['total vs fam'].astype('int64')\n",
    "df['reg_lux_ratio'] = df['reg_lux_ratio'].astype('int64')"
   ]
  },
  {
   "cell_type": "code",
   "execution_count": 73,
   "id": "05795757",
   "metadata": {
    "execution": {
     "iopub.execute_input": "2022-06-21T07:33:00.316913Z",
     "iopub.status.busy": "2022-06-21T07:33:00.315875Z",
     "iopub.status.idle": "2022-06-21T07:33:00.635259Z",
     "shell.execute_reply": "2022-06-21T07:33:00.634681Z"
    },
    "papermill": {
     "duration": 0.418657,
     "end_time": "2022-06-21T07:33:00.637404",
     "exception": false,
     "start_time": "2022-06-21T07:33:00.218747",
     "status": "completed"
    },
    "tags": []
   },
   "outputs": [],
   "source": [
    "encode = ['HomePlanet','CryoSleep','Destination','VIP',\n",
    "          'cost_range','c_deck','c_side','c_num_range','SM_range','Spa_range',\n",
    "          'VD_range','FC_range','RS_range','lc_range','rc_range','Family Size','Age_range']\n",
    "label = LabelEncoder()\n",
    "df[encode] = df[encode].apply(label.fit_transform)"
   ]
  },
  {
   "cell_type": "code",
   "execution_count": 74,
   "id": "80ab8059",
   "metadata": {
    "execution": {
     "iopub.execute_input": "2022-06-21T07:33:00.839009Z",
     "iopub.status.busy": "2022-06-21T07:33:00.838576Z",
     "iopub.status.idle": "2022-06-21T07:33:00.845830Z",
     "shell.execute_reply": "2022-06-21T07:33:00.845189Z"
    },
    "papermill": {
     "duration": 0.111043,
     "end_time": "2022-06-21T07:33:00.847826",
     "exception": false,
     "start_time": "2022-06-21T07:33:00.736783",
     "status": "completed"
    },
    "tags": []
   },
   "outputs": [],
   "source": [
    "df.loc[df['Transported'] == True,'Transported'] = 1\n",
    "df.loc[df['Transported'] == False,'Transported'] = 0"
   ]
  },
  {
   "cell_type": "code",
   "execution_count": 75,
   "id": "3b252f9a",
   "metadata": {
    "execution": {
     "iopub.execute_input": "2022-06-21T07:33:01.050157Z",
     "iopub.status.busy": "2022-06-21T07:33:01.049715Z",
     "iopub.status.idle": "2022-06-21T07:33:01.065095Z",
     "shell.execute_reply": "2022-06-21T07:33:01.064436Z"
    },
    "papermill": {
     "duration": 0.12179,
     "end_time": "2022-06-21T07:33:01.067517",
     "exception": false,
     "start_time": "2022-06-21T07:33:00.945727",
     "status": "completed"
    },
    "tags": []
   },
   "outputs": [
    {
     "name": "stdout",
     "output_type": "stream",
     "text": [
      "<class 'pandas.core.frame.DataFrame'>\n",
      "RangeIndex: 12970 entries, 0 to 12969\n",
      "Data columns (total 23 columns):\n",
      " #   Column         Non-Null Count  Dtype \n",
      "---  ------         --------------  ----- \n",
      " 0   PassengerId    12970 non-null  object\n",
      " 1   HomePlanet     12970 non-null  int64 \n",
      " 2   CryoSleep      12970 non-null  int64 \n",
      " 3   Destination    12970 non-null  int64 \n",
      " 4   VIP            12970 non-null  int64 \n",
      " 5   Transported    8693 non-null   object\n",
      " 6   cost_range     12970 non-null  int64 \n",
      " 7   c_deck         12970 non-null  int64 \n",
      " 8   c_side         12970 non-null  int64 \n",
      " 9   c_num_range    12970 non-null  int64 \n",
      " 10  SM_range       12970 non-null  int64 \n",
      " 11  Spa_range      12970 non-null  int64 \n",
      " 12  VD_range       12970 non-null  int64 \n",
      " 13  FC_range       12970 non-null  int64 \n",
      " 14  RS_range       12970 non-null  int64 \n",
      " 15  lc_range       12970 non-null  int64 \n",
      " 16  rc_range       12970 non-null  int64 \n",
      " 17  reg_lux_ratio  12970 non-null  int64 \n",
      " 18  Family Member  12970 non-null  int64 \n",
      " 19  total vs fam   12970 non-null  int64 \n",
      " 20  Alone          12970 non-null  int64 \n",
      " 21  Family Size    12970 non-null  int64 \n",
      " 22  Age_range      12970 non-null  int64 \n",
      "dtypes: int64(21), object(2)\n",
      "memory usage: 2.3+ MB\n"
     ]
    }
   ],
   "source": [
    "df.info()"
   ]
  },
  {
   "cell_type": "code",
   "execution_count": 76,
   "id": "54052225",
   "metadata": {
    "execution": {
     "iopub.execute_input": "2022-06-21T07:33:01.271522Z",
     "iopub.status.busy": "2022-06-21T07:33:01.270989Z",
     "iopub.status.idle": "2022-06-21T07:33:01.279987Z",
     "shell.execute_reply": "2022-06-21T07:33:01.279384Z"
    },
    "papermill": {
     "duration": 0.116036,
     "end_time": "2022-06-21T07:33:01.282246",
     "exception": false,
     "start_time": "2022-06-21T07:33:01.166210",
     "status": "completed"
    },
    "tags": []
   },
   "outputs": [
    {
     "name": "stderr",
     "output_type": "stream",
     "text": [
      "/opt/conda/lib/python3.7/site-packages/ipykernel_launcher.py:2: SettingWithCopyWarning: \n",
      "A value is trying to be set on a copy of a slice from a DataFrame.\n",
      "Try using .loc[row_indexer,col_indexer] = value instead\n",
      "\n",
      "See the caveats in the documentation: https://pandas.pydata.org/pandas-docs/stable/user_guide/indexing.html#returning-a-view-versus-a-copy\n",
      "  \n"
     ]
    }
   ],
   "source": [
    "train_df = df.loc[:8692]\n",
    "train_df['Transported'] = train_df['Transported'].astype('int64')\n",
    "test_df = df.loc[8693:].drop('Transported',axis = 1)\n",
    "test_pass_id = test_df['PassengerId'].copy()"
   ]
  },
  {
   "cell_type": "code",
   "execution_count": null,
   "id": "4f40b3be",
   "metadata": {
    "papermill": {
     "duration": 0.100294,
     "end_time": "2022-06-21T07:33:01.485340",
     "exception": false,
     "start_time": "2022-06-21T07:33:01.385046",
     "status": "completed"
    },
    "tags": []
   },
   "outputs": [],
   "source": []
  },
  {
   "cell_type": "code",
   "execution_count": 77,
   "id": "a8658523",
   "metadata": {
    "execution": {
     "iopub.execute_input": "2022-06-21T07:33:01.709443Z",
     "iopub.status.busy": "2022-06-21T07:33:01.708998Z",
     "iopub.status.idle": "2022-06-21T07:33:01.714275Z",
     "shell.execute_reply": "2022-06-21T07:33:01.713097Z"
    },
    "papermill": {
     "duration": 0.118743,
     "end_time": "2022-06-21T07:33:01.716188",
     "exception": false,
     "start_time": "2022-06-21T07:33:01.597445",
     "status": "completed"
    },
    "tags": []
   },
   "outputs": [
    {
     "name": "stdout",
     "output_type": "stream",
     "text": [
      "Train data:  (8693, 23)\n",
      "Test_data:  (4277, 22)\n"
     ]
    }
   ],
   "source": [
    "print('Train data: ',train_df.shape)\n",
    "print('Test_data: ',test_df.shape)"
   ]
  },
  {
   "cell_type": "code",
   "execution_count": 78,
   "id": "3d443c5a",
   "metadata": {
    "execution": {
     "iopub.execute_input": "2022-06-21T07:33:01.923836Z",
     "iopub.status.busy": "2022-06-21T07:33:01.923075Z",
     "iopub.status.idle": "2022-06-21T07:33:01.947623Z",
     "shell.execute_reply": "2022-06-21T07:33:01.946771Z"
    },
    "papermill": {
     "duration": 0.132517,
     "end_time": "2022-06-21T07:33:01.950179",
     "exception": false,
     "start_time": "2022-06-21T07:33:01.817662",
     "status": "completed"
    },
    "tags": []
   },
   "outputs": [
    {
     "name": "stdout",
     "output_type": "stream",
     "text": [
      "<class 'pandas.core.frame.DataFrame'>\n",
      "RangeIndex: 8693 entries, 0 to 8692\n",
      "Data columns (total 23 columns):\n",
      " #   Column         Non-Null Count  Dtype \n",
      "---  ------         --------------  ----- \n",
      " 0   PassengerId    8693 non-null   object\n",
      " 1   HomePlanet     8693 non-null   int64 \n",
      " 2   CryoSleep      8693 non-null   int64 \n",
      " 3   Destination    8693 non-null   int64 \n",
      " 4   VIP            8693 non-null   int64 \n",
      " 5   Transported    8693 non-null   int64 \n",
      " 6   cost_range     8693 non-null   int64 \n",
      " 7   c_deck         8693 non-null   int64 \n",
      " 8   c_side         8693 non-null   int64 \n",
      " 9   c_num_range    8693 non-null   int64 \n",
      " 10  SM_range       8693 non-null   int64 \n",
      " 11  Spa_range      8693 non-null   int64 \n",
      " 12  VD_range       8693 non-null   int64 \n",
      " 13  FC_range       8693 non-null   int64 \n",
      " 14  RS_range       8693 non-null   int64 \n",
      " 15  lc_range       8693 non-null   int64 \n",
      " 16  rc_range       8693 non-null   int64 \n",
      " 17  reg_lux_ratio  8693 non-null   int64 \n",
      " 18  Family Member  8693 non-null   int64 \n",
      " 19  total vs fam   8693 non-null   int64 \n",
      " 20  Alone          8693 non-null   int64 \n",
      " 21  Family Size    8693 non-null   int64 \n",
      " 22  Age_range      8693 non-null   int64 \n",
      "dtypes: int64(22), object(1)\n",
      "memory usage: 1.5+ MB\n",
      "None\n",
      "<class 'pandas.core.frame.DataFrame'>\n",
      "RangeIndex: 4277 entries, 8693 to 12969\n",
      "Data columns (total 22 columns):\n",
      " #   Column         Non-Null Count  Dtype \n",
      "---  ------         --------------  ----- \n",
      " 0   PassengerId    4277 non-null   object\n",
      " 1   HomePlanet     4277 non-null   int64 \n",
      " 2   CryoSleep      4277 non-null   int64 \n",
      " 3   Destination    4277 non-null   int64 \n",
      " 4   VIP            4277 non-null   int64 \n",
      " 5   cost_range     4277 non-null   int64 \n",
      " 6   c_deck         4277 non-null   int64 \n",
      " 7   c_side         4277 non-null   int64 \n",
      " 8   c_num_range    4277 non-null   int64 \n",
      " 9   SM_range       4277 non-null   int64 \n",
      " 10  Spa_range      4277 non-null   int64 \n",
      " 11  VD_range       4277 non-null   int64 \n",
      " 12  FC_range       4277 non-null   int64 \n",
      " 13  RS_range       4277 non-null   int64 \n",
      " 14  lc_range       4277 non-null   int64 \n",
      " 15  rc_range       4277 non-null   int64 \n",
      " 16  reg_lux_ratio  4277 non-null   int64 \n",
      " 17  Family Member  4277 non-null   int64 \n",
      " 18  total vs fam   4277 non-null   int64 \n",
      " 19  Alone          4277 non-null   int64 \n",
      " 20  Family Size    4277 non-null   int64 \n",
      " 21  Age_range      4277 non-null   int64 \n",
      "dtypes: int64(21), object(1)\n",
      "memory usage: 735.2+ KB\n",
      "None\n"
     ]
    }
   ],
   "source": [
    "print(train_df.info())\n",
    "print(test_df.info())"
   ]
  },
  {
   "cell_type": "code",
   "execution_count": 79,
   "id": "88c3e8b4",
   "metadata": {
    "execution": {
     "iopub.execute_input": "2022-06-21T07:33:02.157201Z",
     "iopub.status.busy": "2022-06-21T07:33:02.156104Z",
     "iopub.status.idle": "2022-06-21T07:33:02.169949Z",
     "shell.execute_reply": "2022-06-21T07:33:02.169313Z"
    },
    "papermill": {
     "duration": 0.121101,
     "end_time": "2022-06-21T07:33:02.172149",
     "exception": false,
     "start_time": "2022-06-21T07:33:02.051048",
     "status": "completed"
    },
    "tags": []
   },
   "outputs": [
    {
     "name": "stderr",
     "output_type": "stream",
     "text": [
      "/opt/conda/lib/python3.7/site-packages/pandas/core/frame.py:4913: SettingWithCopyWarning: \n",
      "A value is trying to be set on a copy of a slice from a DataFrame\n",
      "\n",
      "See the caveats in the documentation: https://pandas.pydata.org/pandas-docs/stable/user_guide/indexing.html#returning-a-view-versus-a-copy\n",
      "  errors=errors,\n"
     ]
    }
   ],
   "source": [
    "drop_col = ['PassengerId']\n",
    "data = [train_df,test_df]\n",
    "for dataset in data:\n",
    "    dataset.drop(columns=drop_col, inplace=True)"
   ]
  },
  {
   "cell_type": "code",
   "execution_count": 80,
   "id": "4018e283",
   "metadata": {
    "execution": {
     "iopub.execute_input": "2022-06-21T07:33:02.378548Z",
     "iopub.status.busy": "2022-06-21T07:33:02.377954Z",
     "iopub.status.idle": "2022-06-21T07:33:02.383471Z",
     "shell.execute_reply": "2022-06-21T07:33:02.382782Z"
    },
    "papermill": {
     "duration": 0.112298,
     "end_time": "2022-06-21T07:33:02.385454",
     "exception": false,
     "start_time": "2022-06-21T07:33:02.273156",
     "status": "completed"
    },
    "tags": []
   },
   "outputs": [],
   "source": [
    "X_train = train_df.drop(\"Transported\", axis=1)\n",
    "Y_train = train_df[\"Transported\"]\n",
    "X_test  = test_df"
   ]
  },
  {
   "cell_type": "code",
   "execution_count": 81,
   "id": "f51bdf0f",
   "metadata": {
    "execution": {
     "iopub.execute_input": "2022-06-21T07:33:02.589339Z",
     "iopub.status.busy": "2022-06-21T07:33:02.589015Z",
     "iopub.status.idle": "2022-06-21T07:33:03.764957Z",
     "shell.execute_reply": "2022-06-21T07:33:03.764092Z"
    },
    "papermill": {
     "duration": 1.27972,
     "end_time": "2022-06-21T07:33:03.767313",
     "exception": false,
     "start_time": "2022-06-21T07:33:02.487593",
     "status": "completed"
    },
    "tags": []
   },
   "outputs": [],
   "source": [
    "random_forest = RandomForestClassifier(n_estimators=100)\n",
    "random_forest.fit(X_train, Y_train)\n",
    "\n",
    "Y_pred = random_forest.predict(X_test)\n",
    "\n",
    "random_forest.score(X_train, Y_train)\n",
    "score_random_forest = round(random_forest.score(X_train, Y_train), 3)"
   ]
  },
  {
   "cell_type": "code",
   "execution_count": 82,
   "id": "9788f22f",
   "metadata": {
    "execution": {
     "iopub.execute_input": "2022-06-21T07:33:03.970204Z",
     "iopub.status.busy": "2022-06-21T07:33:03.969330Z",
     "iopub.status.idle": "2022-06-21T07:33:04.148679Z",
     "shell.execute_reply": "2022-06-21T07:33:04.147743Z"
    },
    "papermill": {
     "duration": 0.285146,
     "end_time": "2022-06-21T07:33:04.152125",
     "exception": false,
     "start_time": "2022-06-21T07:33:03.866979",
     "status": "completed"
    },
    "tags": []
   },
   "outputs": [
    {
     "name": "stderr",
     "output_type": "stream",
     "text": [
      "/opt/conda/lib/python3.7/site-packages/sklearn/linear_model/_logistic.py:818: ConvergenceWarning: lbfgs failed to converge (status=1):\n",
      "STOP: TOTAL NO. of ITERATIONS REACHED LIMIT.\n",
      "\n",
      "Increase the number of iterations (max_iter) or scale the data as shown in:\n",
      "    https://scikit-learn.org/stable/modules/preprocessing.html\n",
      "Please also refer to the documentation for alternative solver options:\n",
      "    https://scikit-learn.org/stable/modules/linear_model.html#logistic-regression\n",
      "  extra_warning_msg=_LOGISTIC_SOLVER_CONVERGENCE_MSG,\n"
     ]
    }
   ],
   "source": [
    "logreg = LogisticRegression()\n",
    "logreg.fit(X_train, Y_train)\n",
    "\n",
    "Y_pred = logreg.predict(X_test)\n",
    "\n",
    "score_log = round(logreg.score(X_train, Y_train),3)"
   ]
  },
  {
   "cell_type": "code",
   "execution_count": 83,
   "id": "dab19d0c",
   "metadata": {
    "execution": {
     "iopub.execute_input": "2022-06-21T07:33:04.417404Z",
     "iopub.status.busy": "2022-06-21T07:33:04.417136Z",
     "iopub.status.idle": "2022-06-21T07:33:06.482193Z",
     "shell.execute_reply": "2022-06-21T07:33:06.481243Z"
    },
    "papermill": {
     "duration": 2.171548,
     "end_time": "2022-06-21T07:33:06.484469",
     "exception": false,
     "start_time": "2022-06-21T07:33:04.312921",
     "status": "completed"
    },
    "tags": []
   },
   "outputs": [],
   "source": [
    "knn = KNeighborsClassifier(n_neighbors = 3) \n",
    "knn.fit(X_train, Y_train)  \n",
    "Y_pred = knn.predict(X_test)  \n",
    "score_knn = round(knn.score(X_train, Y_train), 3)"
   ]
  },
  {
   "cell_type": "code",
   "execution_count": 84,
   "id": "1dccce3f",
   "metadata": {
    "execution": {
     "iopub.execute_input": "2022-06-21T07:33:06.687429Z",
     "iopub.status.busy": "2022-06-21T07:33:06.687111Z",
     "iopub.status.idle": "2022-06-21T07:33:07.510856Z",
     "shell.execute_reply": "2022-06-21T07:33:07.509887Z"
    },
    "papermill": {
     "duration": 0.931607,
     "end_time": "2022-06-21T07:33:07.515090",
     "exception": false,
     "start_time": "2022-06-21T07:33:06.583483",
     "status": "completed"
    },
    "tags": []
   },
   "outputs": [
    {
     "name": "stderr",
     "output_type": "stream",
     "text": [
      "/opt/conda/lib/python3.7/site-packages/sklearn/svm/_base.py:1208: ConvergenceWarning: Liblinear failed to converge, increase the number of iterations.\n",
      "  ConvergenceWarning,\n"
     ]
    }
   ],
   "source": [
    "linear_svc = LinearSVC()\n",
    "linear_svc.fit(X_train, Y_train)\n",
    "Y_pred = linear_svc.predict(X_test)\n",
    "score_linear_svc = round(linear_svc.score(X_train, Y_train), 3)"
   ]
  },
  {
   "cell_type": "code",
   "execution_count": 85,
   "id": "f6819a21",
   "metadata": {
    "execution": {
     "iopub.execute_input": "2022-06-21T07:33:07.782590Z",
     "iopub.status.busy": "2022-06-21T07:33:07.782332Z",
     "iopub.status.idle": "2022-06-21T07:33:07.818602Z",
     "shell.execute_reply": "2022-06-21T07:33:07.817907Z"
    },
    "papermill": {
     "duration": 0.145119,
     "end_time": "2022-06-21T07:33:07.820600",
     "exception": false,
     "start_time": "2022-06-21T07:33:07.675481",
     "status": "completed"
    },
    "tags": []
   },
   "outputs": [],
   "source": [
    "decision_tree = DecisionTreeClassifier() \n",
    "decision_tree.fit(X_train, Y_train)  \n",
    "Y_pred = decision_tree.predict(X_test)  \n",
    "score_decision_tree = round(decision_tree.score(X_train, Y_train), 3)"
   ]
  },
  {
   "cell_type": "code",
   "execution_count": 86,
   "id": "c12a1b2f",
   "metadata": {
    "execution": {
     "iopub.execute_input": "2022-06-21T07:33:08.022963Z",
     "iopub.status.busy": "2022-06-21T07:33:08.022642Z",
     "iopub.status.idle": "2022-06-21T07:33:08.033352Z",
     "shell.execute_reply": "2022-06-21T07:33:08.032521Z"
    },
    "papermill": {
     "duration": 0.116393,
     "end_time": "2022-06-21T07:33:08.035345",
     "exception": false,
     "start_time": "2022-06-21T07:33:07.918952",
     "status": "completed"
    },
    "tags": []
   },
   "outputs": [
    {
     "data": {
      "text/html": [
       "<div>\n",
       "<style scoped>\n",
       "    .dataframe tbody tr th:only-of-type {\n",
       "        vertical-align: middle;\n",
       "    }\n",
       "\n",
       "    .dataframe tbody tr th {\n",
       "        vertical-align: top;\n",
       "    }\n",
       "\n",
       "    .dataframe thead th {\n",
       "        text-align: right;\n",
       "    }\n",
       "</style>\n",
       "<table border=\"1\" class=\"dataframe\">\n",
       "  <thead>\n",
       "    <tr style=\"text-align: right;\">\n",
       "      <th></th>\n",
       "      <th>Model</th>\n",
       "      <th>Score</th>\n",
       "    </tr>\n",
       "  </thead>\n",
       "  <tbody>\n",
       "    <tr>\n",
       "      <th>0</th>\n",
       "      <td>KNN</td>\n",
       "      <td>0.852</td>\n",
       "    </tr>\n",
       "    <tr>\n",
       "      <th>1</th>\n",
       "      <td>Logistic Regression</td>\n",
       "      <td>0.770</td>\n",
       "    </tr>\n",
       "    <tr>\n",
       "      <th>2</th>\n",
       "      <td>Random Forest</td>\n",
       "      <td>0.943</td>\n",
       "    </tr>\n",
       "    <tr>\n",
       "      <th>3</th>\n",
       "      <td>Decision Tree</td>\n",
       "      <td>0.943</td>\n",
       "    </tr>\n",
       "    <tr>\n",
       "      <th>4</th>\n",
       "      <td>SVC</td>\n",
       "      <td>0.769</td>\n",
       "    </tr>\n",
       "  </tbody>\n",
       "</table>\n",
       "</div>"
      ],
      "text/plain": [
       "                 Model  Score\n",
       "0                  KNN  0.852\n",
       "1  Logistic Regression  0.770\n",
       "2        Random Forest  0.943\n",
       "3        Decision Tree  0.943\n",
       "4                  SVC  0.769"
      ]
     },
     "execution_count": 86,
     "metadata": {},
     "output_type": "execute_result"
    }
   ],
   "source": [
    "scores = pd.DataFrame({\n",
    "    'Model': [ 'KNN', 'Logistic Regression', 'Random Forest', 'Decision Tree','SVC'],\n",
    "    'Score': [ score_knn, score_log, score_random_forest, score_decision_tree,score_linear_svc]})\n",
    "\n",
    "scores"
   ]
  },
  {
   "cell_type": "code",
   "execution_count": 87,
   "id": "f5a4cbeb",
   "metadata": {
    "execution": {
     "iopub.execute_input": "2022-06-21T07:33:08.236301Z",
     "iopub.status.busy": "2022-06-21T07:33:08.236000Z",
     "iopub.status.idle": "2022-06-21T07:33:14.981404Z",
     "shell.execute_reply": "2022-06-21T07:33:14.980241Z"
    },
    "papermill": {
     "duration": 6.847811,
     "end_time": "2022-06-21T07:33:14.983747",
     "exception": false,
     "start_time": "2022-06-21T07:33:08.135936",
     "status": "completed"
    },
    "tags": []
   },
   "outputs": [
    {
     "name": "stdout",
     "output_type": "stream",
     "text": [
      "Scores: [0.79195402 0.73448276 0.76436782 0.77330265 0.77560414 0.79171461\n",
      " 0.81242808 0.78250863 0.78826237 0.77330265]\n",
      "Mean: 0.7787927727735673\n",
      "Standard Deviation: 0.01953692456898026\n"
     ]
    }
   ],
   "source": [
    "from sklearn.model_selection import cross_val_score\n",
    "rf = RandomForestClassifier(n_estimators=100)\n",
    "scores = cross_val_score(rf, X_train, Y_train, cv=10, scoring = \"accuracy\")\n",
    "print(\"Scores:\", scores)\n",
    "print(\"Mean:\", scores.mean())\n",
    "print(\"Standard Deviation:\", scores.std())"
   ]
  },
  {
   "cell_type": "code",
   "execution_count": 88,
   "id": "a9907fb4",
   "metadata": {
    "execution": {
     "iopub.execute_input": "2022-06-21T07:33:15.186593Z",
     "iopub.status.busy": "2022-06-21T07:33:15.185735Z",
     "iopub.status.idle": "2022-06-21T07:33:15.190395Z",
     "shell.execute_reply": "2022-06-21T07:33:15.189808Z"
    },
    "papermill": {
     "duration": 0.10763,
     "end_time": "2022-06-21T07:33:15.192301",
     "exception": false,
     "start_time": "2022-06-21T07:33:15.084671",
     "status": "completed"
    },
    "tags": []
   },
   "outputs": [],
   "source": [
    "from sklearn.metrics import classification_report\n",
    "from sklearn.metrics import roc_auc_score\n",
    "from sklearn.model_selection import GridSearchCV"
   ]
  },
  {
   "cell_type": "code",
   "execution_count": 89,
   "id": "2bb43a34",
   "metadata": {
    "execution": {
     "iopub.execute_input": "2022-06-21T07:33:15.394233Z",
     "iopub.status.busy": "2022-06-21T07:33:15.393695Z",
     "iopub.status.idle": "2022-06-21T07:33:15.398176Z",
     "shell.execute_reply": "2022-06-21T07:33:15.397561Z"
    },
    "papermill": {
     "duration": 0.10773,
     "end_time": "2022-06-21T07:33:15.400088",
     "exception": false,
     "start_time": "2022-06-21T07:33:15.292358",
     "status": "completed"
    },
    "tags": []
   },
   "outputs": [],
   "source": [
    "# leaf_size = list(range(10,30))\n",
    "# n_neighbors = list(range(1,3))\n",
    "# p=[1,2]\n",
    "# min_samples_leaf = list(range(5,10))\n",
    "# min_samples_split = list(range(10,20))\n",
    "# criterion = ['gini','entropy','log_loss']\n",
    "\n",
    "# hyperparameters = dict(criterion=criterion,min_samples_leaf=min_samples_leaf,min_samples_split=min_samples_split)\n",
    "\n",
    "# rf = RandomForestClassifier(   \n",
    "#                             n_estimators=200, \n",
    "#                             max_features='auto', \n",
    "#                             oob_score=True, \n",
    "#                             random_state=50, \n",
    "#                             n_jobs=-1)\n",
    "\n",
    "\n",
    "# clf = GridSearchCV(rf, hyperparameters, cv=10)\n",
    "\n",
    "# best_model = clf.fit(X_train,Y_train)\n",
    "# #Print The value of best Hyperparameters\n",
    "# print('Best min_samples_leaf:', best_model.best_estimator_.get_params()['min_samples_leaf'])\n",
    "# print('Best min_samples_split:', best_model.best_estimator_.get_params()['min_samples_split'])\n",
    "# print('Best criterion:', best_model.best_estimator_.get_params()['criterion'])"
   ]
  },
  {
   "cell_type": "code",
   "execution_count": 90,
   "id": "9b69b9d7",
   "metadata": {
    "execution": {
     "iopub.execute_input": "2022-06-21T07:33:15.605878Z",
     "iopub.status.busy": "2022-06-21T07:33:15.605599Z",
     "iopub.status.idle": "2022-06-21T07:33:15.633008Z",
     "shell.execute_reply": "2022-06-21T07:33:15.632201Z"
    },
    "papermill": {
     "duration": 0.133217,
     "end_time": "2022-06-21T07:33:15.634995",
     "exception": false,
     "start_time": "2022-06-21T07:33:15.501778",
     "status": "completed"
    },
    "tags": []
   },
   "outputs": [
    {
     "data": {
      "text/html": [
       "<div>\n",
       "<style scoped>\n",
       "    .dataframe tbody tr th:only-of-type {\n",
       "        vertical-align: middle;\n",
       "    }\n",
       "\n",
       "    .dataframe tbody tr th {\n",
       "        vertical-align: top;\n",
       "    }\n",
       "\n",
       "    .dataframe thead th {\n",
       "        text-align: right;\n",
       "    }\n",
       "</style>\n",
       "<table border=\"1\" class=\"dataframe\">\n",
       "  <thead>\n",
       "    <tr style=\"text-align: right;\">\n",
       "      <th></th>\n",
       "      <th>importance</th>\n",
       "    </tr>\n",
       "    <tr>\n",
       "      <th>feature</th>\n",
       "      <th></th>\n",
       "    </tr>\n",
       "  </thead>\n",
       "  <tbody>\n",
       "    <tr>\n",
       "      <th>CryoSleep</th>\n",
       "      <td>0.092</td>\n",
       "    </tr>\n",
       "    <tr>\n",
       "      <th>c_deck</th>\n",
       "      <td>0.088</td>\n",
       "    </tr>\n",
       "    <tr>\n",
       "      <th>lc_range</th>\n",
       "      <td>0.081</td>\n",
       "    </tr>\n",
       "    <tr>\n",
       "      <th>c_num_range</th>\n",
       "      <td>0.076</td>\n",
       "    </tr>\n",
       "    <tr>\n",
       "      <th>Age_range</th>\n",
       "      <td>0.074</td>\n",
       "    </tr>\n",
       "    <tr>\n",
       "      <th>rc_range</th>\n",
       "      <td>0.059</td>\n",
       "    </tr>\n",
       "    <tr>\n",
       "      <th>RS_range</th>\n",
       "      <td>0.059</td>\n",
       "    </tr>\n",
       "    <tr>\n",
       "      <th>Spa_range</th>\n",
       "      <td>0.057</td>\n",
       "    </tr>\n",
       "    <tr>\n",
       "      <th>VD_range</th>\n",
       "      <td>0.047</td>\n",
       "    </tr>\n",
       "    <tr>\n",
       "      <th>SM_range</th>\n",
       "      <td>0.045</td>\n",
       "    </tr>\n",
       "    <tr>\n",
       "      <th>cost_range</th>\n",
       "      <td>0.045</td>\n",
       "    </tr>\n",
       "    <tr>\n",
       "      <th>reg_lux_ratio</th>\n",
       "      <td>0.043</td>\n",
       "    </tr>\n",
       "    <tr>\n",
       "      <th>Destination</th>\n",
       "      <td>0.042</td>\n",
       "    </tr>\n",
       "    <tr>\n",
       "      <th>HomePlanet</th>\n",
       "      <td>0.042</td>\n",
       "    </tr>\n",
       "    <tr>\n",
       "      <th>c_side</th>\n",
       "      <td>0.037</td>\n",
       "    </tr>\n",
       "    <tr>\n",
       "      <th>FC_range</th>\n",
       "      <td>0.035</td>\n",
       "    </tr>\n",
       "    <tr>\n",
       "      <th>Family Member</th>\n",
       "      <td>0.035</td>\n",
       "    </tr>\n",
       "    <tr>\n",
       "      <th>total vs fam</th>\n",
       "      <td>0.020</td>\n",
       "    </tr>\n",
       "    <tr>\n",
       "      <th>Alone</th>\n",
       "      <td>0.010</td>\n",
       "    </tr>\n",
       "    <tr>\n",
       "      <th>Family Size</th>\n",
       "      <td>0.009</td>\n",
       "    </tr>\n",
       "    <tr>\n",
       "      <th>VIP</th>\n",
       "      <td>0.004</td>\n",
       "    </tr>\n",
       "  </tbody>\n",
       "</table>\n",
       "</div>"
      ],
      "text/plain": [
       "               importance\n",
       "feature                  \n",
       "CryoSleep           0.092\n",
       "c_deck              0.088\n",
       "lc_range            0.081\n",
       "c_num_range         0.076\n",
       "Age_range           0.074\n",
       "rc_range            0.059\n",
       "RS_range            0.059\n",
       "Spa_range           0.057\n",
       "VD_range            0.047\n",
       "SM_range            0.045\n",
       "cost_range          0.045\n",
       "reg_lux_ratio       0.043\n",
       "Destination         0.042\n",
       "HomePlanet          0.042\n",
       "c_side              0.037\n",
       "FC_range            0.035\n",
       "Family Member       0.035\n",
       "total vs fam        0.020\n",
       "Alone               0.010\n",
       "Family Size         0.009\n",
       "VIP                 0.004"
      ]
     },
     "execution_count": 90,
     "metadata": {},
     "output_type": "execute_result"
    }
   ],
   "source": [
    "importances = pd.DataFrame({'feature':X_train.columns,'importance':np.round(random_forest.feature_importances_,3)})\n",
    "importances = importances.sort_values('importance',ascending=False).set_index('feature')\n",
    "\n",
    "importances"
   ]
  },
  {
   "cell_type": "code",
   "execution_count": 91,
   "id": "06f3d18f",
   "metadata": {
    "execution": {
     "iopub.execute_input": "2022-06-21T07:33:15.838551Z",
     "iopub.status.busy": "2022-06-21T07:33:15.837981Z",
     "iopub.status.idle": "2022-06-21T07:33:17.398748Z",
     "shell.execute_reply": "2022-06-21T07:33:17.397606Z"
    },
    "papermill": {
     "duration": 1.664258,
     "end_time": "2022-06-21T07:33:17.401072",
     "exception": false,
     "start_time": "2022-06-21T07:33:15.736814",
     "status": "completed"
    },
    "tags": []
   },
   "outputs": [
    {
     "name": "stdout",
     "output_type": "stream",
     "text": [
      "oob score: 79.22 %\n"
     ]
    }
   ],
   "source": [
    "random_forest = RandomForestClassifier(criterion = 'entropy', \n",
    "                                       min_samples_leaf = 5, \n",
    "                                       min_samples_split = 16,   \n",
    "                                       n_estimators=200, \n",
    "                                       max_features='auto', \n",
    "                                       oob_score=True, \n",
    "                                       random_state=50, \n",
    "                                       n_jobs=-1)\n",
    "\n",
    "random_forest.fit(X_train, Y_train)\n",
    "Y_prediction = random_forest.predict(X_test)\n",
    "\n",
    "random_forest.score(X_train, Y_train)\n",
    "\n",
    "print(\"oob score:\", round(random_forest.oob_score_, 4)*100, \"%\")"
   ]
  },
  {
   "cell_type": "code",
   "execution_count": 92,
   "id": "8d80d643",
   "metadata": {
    "execution": {
     "iopub.execute_input": "2022-06-21T07:33:17.605956Z",
     "iopub.status.busy": "2022-06-21T07:33:17.605660Z",
     "iopub.status.idle": "2022-06-21T07:33:17.609700Z",
     "shell.execute_reply": "2022-06-21T07:33:17.608810Z"
    },
    "papermill": {
     "duration": 0.110988,
     "end_time": "2022-06-21T07:33:17.611904",
     "exception": false,
     "start_time": "2022-06-21T07:33:17.500916",
     "status": "completed"
    },
    "tags": []
   },
   "outputs": [],
   "source": [
    "# boosting_type = ['gbdt','dart','goss']\n",
    "# learning_rate = [.1,.13,.15]\n",
    "# num_leaves = list(range(10,51))\n",
    "# hyperparameters = dict(boosting_type = boosting_type, learning_rate = learning_rate,\n",
    "#                        num_leaves = num_leaves)\n",
    "# lg = lgb.LGBMClassifier()\n",
    "\n",
    "\n",
    "# clf = GridSearchCV(lg, hyperparameters, cv=10)\n",
    "\n",
    "# best_model = clf.fit(X_train,Y_train)\n",
    "# #Print The value of best Hyperparameters\n",
    "# print('Best boosting_type:', best_model.best_estimator_.get_params()['boosting_type'])\n",
    "# print('Best learning_rate:', best_model.best_estimator_.get_params()['learning_rate'])\n",
    "# print('Best num_leaves:', best_model.best_estimator_.get_params()['num_leaves'])"
   ]
  },
  {
   "cell_type": "code",
   "execution_count": 93,
   "id": "ad5cef39",
   "metadata": {
    "execution": {
     "iopub.execute_input": "2022-06-21T07:33:17.819747Z",
     "iopub.status.busy": "2022-06-21T07:33:17.819473Z",
     "iopub.status.idle": "2022-06-21T07:33:19.138654Z",
     "shell.execute_reply": "2022-06-21T07:33:19.137979Z"
    },
    "papermill": {
     "duration": 1.425726,
     "end_time": "2022-06-21T07:33:19.141554",
     "exception": false,
     "start_time": "2022-06-21T07:33:17.715828",
     "status": "completed"
    },
    "tags": []
   },
   "outputs": [
    {
     "data": {
      "text/html": [
       "<style type='text/css'>\n",
       ".datatable table.frame { margin-bottom: 0; }\n",
       ".datatable table.frame thead { border-bottom: none; }\n",
       ".datatable table.frame tr.coltypes td {  color: #FFFFFF;  line-height: 6px;  padding: 0 0.5em;}\n",
       ".datatable .bool    { background: #DDDD99; }\n",
       ".datatable .object  { background: #565656; }\n",
       ".datatable .int     { background: #5D9E5D; }\n",
       ".datatable .float   { background: #4040CC; }\n",
       ".datatable .str     { background: #CC4040; }\n",
       ".datatable .time    { background: #40CC40; }\n",
       ".datatable .row_index {  background: var(--jp-border-color3);  border-right: 1px solid var(--jp-border-color0);  color: var(--jp-ui-font-color3);  font-size: 9px;}\n",
       ".datatable .frame tbody td { text-align: left; }\n",
       ".datatable .frame tr.coltypes .row_index {  background: var(--jp-border-color0);}\n",
       ".datatable th:nth-child(2) { padding-left: 12px; }\n",
       ".datatable .hellipsis {  color: var(--jp-cell-editor-border-color);}\n",
       ".datatable .vellipsis {  background: var(--jp-layout-color0);  color: var(--jp-cell-editor-border-color);}\n",
       ".datatable .na {  color: var(--jp-cell-editor-border-color);  font-size: 80%;}\n",
       ".datatable .sp {  opacity: 0.25;}\n",
       ".datatable .footer { font-size: 9px; }\n",
       ".datatable .frame_dimensions {  background: var(--jp-border-color3);  border-top: 1px solid var(--jp-border-color0);  color: var(--jp-ui-font-color3);  display: inline-block;  opacity: 0.6;  padding: 1px 10px 1px 5px;}\n",
       "</style>\n"
      ],
      "text/plain": [
       "<IPython.core.display.HTML object>"
      ]
     },
     "metadata": {},
     "output_type": "display_data"
    },
    {
     "name": "stdout",
     "output_type": "stream",
     "text": [
      "0.8657540549867709\n"
     ]
    }
   ],
   "source": [
    "import lightgbm as lgb\n",
    "clf = lgb.LGBMClassifier(max_depth = 8,num_leaves=80)\n",
    "clf.fit(X_train, Y_train)\n",
    "Y_pred = clf.predict(X_test)\n",
    "print(clf.score(X_train, Y_train))"
   ]
  },
  {
   "cell_type": "code",
   "execution_count": 94,
   "id": "23d282e1",
   "metadata": {
    "execution": {
     "iopub.execute_input": "2022-06-21T07:33:19.354394Z",
     "iopub.status.busy": "2022-06-21T07:33:19.354095Z",
     "iopub.status.idle": "2022-06-21T07:33:19.357839Z",
     "shell.execute_reply": "2022-06-21T07:33:19.356622Z"
    },
    "papermill": {
     "duration": 0.112479,
     "end_time": "2022-06-21T07:33:19.359856",
     "exception": false,
     "start_time": "2022-06-21T07:33:19.247377",
     "status": "completed"
    },
    "tags": []
   },
   "outputs": [],
   "source": [
    "# from catboost import CatBoostClassifier\n",
    "# m = CatBoostClassifier(iterations=100000,eval_metric='Accuracy',verbose=5000)\n",
    "# m.fit(X_train,Y_train)\n",
    "# Y_pred = m.predict(X_test)"
   ]
  },
  {
   "cell_type": "code",
   "execution_count": 95,
   "id": "c68fbfae",
   "metadata": {
    "execution": {
     "iopub.execute_input": "2022-06-21T07:33:19.567740Z",
     "iopub.status.busy": "2022-06-21T07:33:19.567444Z",
     "iopub.status.idle": "2022-06-21T07:33:19.581451Z",
     "shell.execute_reply": "2022-06-21T07:33:19.580530Z"
    },
    "papermill": {
     "duration": 0.116973,
     "end_time": "2022-06-21T07:33:19.583316",
     "exception": false,
     "start_time": "2022-06-21T07:33:19.466343",
     "status": "completed"
    },
    "tags": []
   },
   "outputs": [
    {
     "data": {
      "text/html": [
       "<div>\n",
       "<style scoped>\n",
       "    .dataframe tbody tr th:only-of-type {\n",
       "        vertical-align: middle;\n",
       "    }\n",
       "\n",
       "    .dataframe tbody tr th {\n",
       "        vertical-align: top;\n",
       "    }\n",
       "\n",
       "    .dataframe thead th {\n",
       "        text-align: right;\n",
       "    }\n",
       "</style>\n",
       "<table border=\"1\" class=\"dataframe\">\n",
       "  <thead>\n",
       "    <tr style=\"text-align: right;\">\n",
       "      <th></th>\n",
       "      <th>PassengerId</th>\n",
       "      <th>Transported</th>\n",
       "    </tr>\n",
       "  </thead>\n",
       "  <tbody>\n",
       "    <tr>\n",
       "      <th>8693</th>\n",
       "      <td>0013_01</td>\n",
       "      <td>1</td>\n",
       "    </tr>\n",
       "    <tr>\n",
       "      <th>8694</th>\n",
       "      <td>0018_01</td>\n",
       "      <td>0</td>\n",
       "    </tr>\n",
       "    <tr>\n",
       "      <th>8695</th>\n",
       "      <td>0019_01</td>\n",
       "      <td>1</td>\n",
       "    </tr>\n",
       "    <tr>\n",
       "      <th>8696</th>\n",
       "      <td>0021_01</td>\n",
       "      <td>1</td>\n",
       "    </tr>\n",
       "    <tr>\n",
       "      <th>8697</th>\n",
       "      <td>0023_01</td>\n",
       "      <td>0</td>\n",
       "    </tr>\n",
       "    <tr>\n",
       "      <th>8698</th>\n",
       "      <td>0027_01</td>\n",
       "      <td>1</td>\n",
       "    </tr>\n",
       "    <tr>\n",
       "      <th>8699</th>\n",
       "      <td>0029_01</td>\n",
       "      <td>1</td>\n",
       "    </tr>\n",
       "    <tr>\n",
       "      <th>8700</th>\n",
       "      <td>0032_01</td>\n",
       "      <td>1</td>\n",
       "    </tr>\n",
       "    <tr>\n",
       "      <th>8701</th>\n",
       "      <td>0032_02</td>\n",
       "      <td>1</td>\n",
       "    </tr>\n",
       "    <tr>\n",
       "      <th>8702</th>\n",
       "      <td>0033_01</td>\n",
       "      <td>1</td>\n",
       "    </tr>\n",
       "  </tbody>\n",
       "</table>\n",
       "</div>"
      ],
      "text/plain": [
       "     PassengerId  Transported\n",
       "8693     0013_01            1\n",
       "8694     0018_01            0\n",
       "8695     0019_01            1\n",
       "8696     0021_01            1\n",
       "8697     0023_01            0\n",
       "8698     0027_01            1\n",
       "8699     0029_01            1\n",
       "8700     0032_01            1\n",
       "8701     0032_02            1\n",
       "8702     0033_01            1"
      ]
     },
     "execution_count": 95,
     "metadata": {},
     "output_type": "execute_result"
    }
   ],
   "source": [
    "pred_df = pd.DataFrame(columns=['PassengerId', 'Transported'])\n",
    "pred_df['PassengerId'] = test_pass_id\n",
    "pred_df['Transported']= Y_prediction\n",
    "pred_df.head(10)"
   ]
  },
  {
   "cell_type": "code",
   "execution_count": 96,
   "id": "a7597532",
   "metadata": {
    "execution": {
     "iopub.execute_input": "2022-06-21T07:33:19.791474Z",
     "iopub.status.busy": "2022-06-21T07:33:19.790925Z",
     "iopub.status.idle": "2022-06-21T07:33:19.797699Z",
     "shell.execute_reply": "2022-06-21T07:33:19.797085Z"
    },
    "papermill": {
     "duration": 0.111768,
     "end_time": "2022-06-21T07:33:19.799677",
     "exception": false,
     "start_time": "2022-06-21T07:33:19.687909",
     "status": "completed"
    },
    "tags": []
   },
   "outputs": [],
   "source": [
    "pred_df.loc[pred_df['Transported'] == 0, 'Transported'] = False\n",
    "pred_df.loc[pred_df['Transported'] == 1, 'Transported'] = True"
   ]
  },
  {
   "cell_type": "code",
   "execution_count": 97,
   "id": "5baee260",
   "metadata": {
    "execution": {
     "iopub.execute_input": "2022-06-21T07:33:20.006985Z",
     "iopub.status.busy": "2022-06-21T07:33:20.006448Z",
     "iopub.status.idle": "2022-06-21T07:33:20.017570Z",
     "shell.execute_reply": "2022-06-21T07:33:20.016766Z"
    },
    "papermill": {
     "duration": 0.115919,
     "end_time": "2022-06-21T07:33:20.019498",
     "exception": false,
     "start_time": "2022-06-21T07:33:19.903579",
     "status": "completed"
    },
    "tags": []
   },
   "outputs": [
    {
     "data": {
      "text/html": [
       "<div>\n",
       "<style scoped>\n",
       "    .dataframe tbody tr th:only-of-type {\n",
       "        vertical-align: middle;\n",
       "    }\n",
       "\n",
       "    .dataframe tbody tr th {\n",
       "        vertical-align: top;\n",
       "    }\n",
       "\n",
       "    .dataframe thead th {\n",
       "        text-align: right;\n",
       "    }\n",
       "</style>\n",
       "<table border=\"1\" class=\"dataframe\">\n",
       "  <thead>\n",
       "    <tr style=\"text-align: right;\">\n",
       "      <th></th>\n",
       "      <th>PassengerId</th>\n",
       "      <th>Transported</th>\n",
       "    </tr>\n",
       "  </thead>\n",
       "  <tbody>\n",
       "    <tr>\n",
       "      <th>8693</th>\n",
       "      <td>0013_01</td>\n",
       "      <td>True</td>\n",
       "    </tr>\n",
       "    <tr>\n",
       "      <th>8694</th>\n",
       "      <td>0018_01</td>\n",
       "      <td>False</td>\n",
       "    </tr>\n",
       "    <tr>\n",
       "      <th>8695</th>\n",
       "      <td>0019_01</td>\n",
       "      <td>True</td>\n",
       "    </tr>\n",
       "    <tr>\n",
       "      <th>8696</th>\n",
       "      <td>0021_01</td>\n",
       "      <td>True</td>\n",
       "    </tr>\n",
       "    <tr>\n",
       "      <th>8697</th>\n",
       "      <td>0023_01</td>\n",
       "      <td>False</td>\n",
       "    </tr>\n",
       "    <tr>\n",
       "      <th>...</th>\n",
       "      <td>...</td>\n",
       "      <td>...</td>\n",
       "    </tr>\n",
       "    <tr>\n",
       "      <th>12965</th>\n",
       "      <td>9266_02</td>\n",
       "      <td>True</td>\n",
       "    </tr>\n",
       "    <tr>\n",
       "      <th>12966</th>\n",
       "      <td>9269_01</td>\n",
       "      <td>False</td>\n",
       "    </tr>\n",
       "    <tr>\n",
       "      <th>12967</th>\n",
       "      <td>9271_01</td>\n",
       "      <td>True</td>\n",
       "    </tr>\n",
       "    <tr>\n",
       "      <th>12968</th>\n",
       "      <td>9273_01</td>\n",
       "      <td>True</td>\n",
       "    </tr>\n",
       "    <tr>\n",
       "      <th>12969</th>\n",
       "      <td>9277_01</td>\n",
       "      <td>True</td>\n",
       "    </tr>\n",
       "  </tbody>\n",
       "</table>\n",
       "<p>4277 rows × 2 columns</p>\n",
       "</div>"
      ],
      "text/plain": [
       "      PassengerId Transported\n",
       "8693      0013_01        True\n",
       "8694      0018_01       False\n",
       "8695      0019_01        True\n",
       "8696      0021_01        True\n",
       "8697      0023_01       False\n",
       "...           ...         ...\n",
       "12965     9266_02        True\n",
       "12966     9269_01       False\n",
       "12967     9271_01        True\n",
       "12968     9273_01        True\n",
       "12969     9277_01        True\n",
       "\n",
       "[4277 rows x 2 columns]"
      ]
     },
     "execution_count": 97,
     "metadata": {},
     "output_type": "execute_result"
    }
   ],
   "source": [
    "pred_df"
   ]
  },
  {
   "cell_type": "code",
   "execution_count": 98,
   "id": "07368db5",
   "metadata": {
    "execution": {
     "iopub.execute_input": "2022-06-21T07:33:20.231299Z",
     "iopub.status.busy": "2022-06-21T07:33:20.231001Z",
     "iopub.status.idle": "2022-06-21T07:33:20.242472Z",
     "shell.execute_reply": "2022-06-21T07:33:20.241805Z"
    },
    "papermill": {
     "duration": 0.117008,
     "end_time": "2022-06-21T07:33:20.244576",
     "exception": false,
     "start_time": "2022-06-21T07:33:20.127568",
     "status": "completed"
    },
    "tags": []
   },
   "outputs": [],
   "source": [
    "pred_df.to_csv('submission.csv',header = True,index=False)"
   ]
  },
  {
   "cell_type": "code",
   "execution_count": null,
   "id": "5f514de7",
   "metadata": {
    "papermill": {
     "duration": 0.103388,
     "end_time": "2022-06-21T07:33:20.449979",
     "exception": false,
     "start_time": "2022-06-21T07:33:20.346591",
     "status": "completed"
    },
    "tags": []
   },
   "outputs": [],
   "source": []
  }
 ],
 "metadata": {
  "kernelspec": {
   "display_name": "Python 3",
   "language": "python",
   "name": "python3"
  },
  "language_info": {
   "codemirror_mode": {
    "name": "ipython",
    "version": 3
   },
   "file_extension": ".py",
   "mimetype": "text/x-python",
   "name": "python",
   "nbconvert_exporter": "python",
   "pygments_lexer": "ipython3",
   "version": "3.7.12"
  },
  "papermill": {
   "default_parameters": {},
   "duration": 75.615772,
   "end_time": "2022-06-21T07:33:21.375754",
   "environment_variables": {},
   "exception": null,
   "input_path": "__notebook__.ipynb",
   "output_path": "__notebook__.ipynb",
   "parameters": {},
   "start_time": "2022-06-21T07:32:05.759982",
   "version": "2.3.4"
  }
 },
 "nbformat": 4,
 "nbformat_minor": 5
}
