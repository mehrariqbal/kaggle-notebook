{
 "cells": [
  {
   "cell_type": "markdown",
   "id": "071f5ba8",
   "metadata": {
    "papermill": {
     "duration": 0.076709,
     "end_time": "2022-03-13T13:04:58.053311",
     "exception": false,
     "start_time": "2022-03-13T13:04:57.976602",
     "status": "completed"
    },
    "tags": []
   },
   "source": [
    "# **Introduction**"
   ]
  },
  {
   "cell_type": "markdown",
   "id": "09a7d573",
   "metadata": {
    "papermill": {
     "duration": 0.070549,
     "end_time": "2022-03-13T13:04:58.195312",
     "exception": false,
     "start_time": "2022-03-13T13:04:58.124763",
     "status": "completed"
    },
    "tags": []
   },
   "source": [
    "I am a beginner in data science. And it is my first notebook. So any feedback and suggestion is welcome."
   ]
  },
  {
   "cell_type": "markdown",
   "id": "9bac28ea",
   "metadata": {
    "papermill": {
     "duration": 0.070879,
     "end_time": "2022-03-13T13:04:58.338381",
     "exception": false,
     "start_time": "2022-03-13T13:04:58.267502",
     "status": "completed"
    },
    "tags": []
   },
   "source": [
    "**Importing libraries**"
   ]
  },
  {
   "cell_type": "code",
   "execution_count": 1,
   "id": "0dfebba9",
   "metadata": {
    "_cell_guid": "b1076dfc-b9ad-4769-8c92-a6c4dae69d19",
    "_uuid": "8f2839f25d086af736a60e9eeb907d3b93b6e0e5",
    "execution": {
     "iopub.execute_input": "2022-03-13T13:04:58.498760Z",
     "iopub.status.busy": "2022-03-13T13:04:58.497603Z",
     "iopub.status.idle": "2022-03-13T13:05:00.052747Z",
     "shell.execute_reply": "2022-03-13T13:05:00.051983Z",
     "shell.execute_reply.started": "2022-03-13T12:57:17.978289Z"
    },
    "papermill": {
     "duration": 1.643313,
     "end_time": "2022-03-13T13:05:00.052992",
     "exception": false,
     "start_time": "2022-03-13T13:04:58.409679",
     "status": "completed"
    },
    "tags": []
   },
   "outputs": [],
   "source": [
    "import pandas as pd \n",
    "import seaborn as sns\n",
    "import matplotlib.pyplot as plt\n",
    "import numpy as np\n",
    "from scipy.stats import skewnorm \n",
    "import random\n",
    "from sklearn import linear_model\n",
    "from sklearn.linear_model import LogisticRegression\n",
    "from sklearn.ensemble import RandomForestClassifier\n",
    "from sklearn.tree import DecisionTreeClassifier\n",
    "from sklearn.neighbors import KNeighborsClassifier\n",
    "from sklearn.svm import SVC, LinearSVC\n"
   ]
  },
  {
   "cell_type": "markdown",
   "id": "0cb7cf27",
   "metadata": {
    "papermill": {
     "duration": 0.073069,
     "end_time": "2022-03-13T13:05:00.197654",
     "exception": false,
     "start_time": "2022-03-13T13:05:00.124585",
     "status": "completed"
    },
    "tags": []
   },
   "source": [
    "**Importing dataset**"
   ]
  },
  {
   "cell_type": "code",
   "execution_count": 2,
   "id": "eec21be0",
   "metadata": {
    "execution": {
     "iopub.execute_input": "2022-03-13T13:05:00.344022Z",
     "iopub.status.busy": "2022-03-13T13:05:00.342960Z",
     "iopub.status.idle": "2022-03-13T13:05:00.374605Z",
     "shell.execute_reply": "2022-03-13T13:05:00.375245Z",
     "shell.execute_reply.started": "2022-03-13T12:57:19.489842Z"
    },
    "papermill": {
     "duration": 0.104466,
     "end_time": "2022-03-13T13:05:00.375441",
     "exception": false,
     "start_time": "2022-03-13T13:05:00.270975",
     "status": "completed"
    },
    "tags": []
   },
   "outputs": [],
   "source": [
    "train_df = pd.read_csv('/kaggle/input/titanic/train.csv')\n",
    "test_df = pd.read_csv('/kaggle/input/titanic/test.csv')"
   ]
  },
  {
   "cell_type": "markdown",
   "id": "1ff98669",
   "metadata": {
    "papermill": {
     "duration": 0.070816,
     "end_time": "2022-03-13T13:05:00.517225",
     "exception": false,
     "start_time": "2022-03-13T13:05:00.446409",
     "status": "completed"
    },
    "tags": []
   },
   "source": [
    "# **Data Analysis & Data Preparation**"
   ]
  },
  {
   "cell_type": "code",
   "execution_count": 3,
   "id": "7525f20b",
   "metadata": {
    "execution": {
     "iopub.execute_input": "2022-03-13T13:05:00.663156Z",
     "iopub.status.busy": "2022-03-13T13:05:00.662113Z",
     "iopub.status.idle": "2022-03-13T13:05:00.699365Z",
     "shell.execute_reply": "2022-03-13T13:05:00.699915Z",
     "shell.execute_reply.started": "2022-03-13T12:57:19.520369Z"
    },
    "papermill": {
     "duration": 0.110569,
     "end_time": "2022-03-13T13:05:00.700093",
     "exception": false,
     "start_time": "2022-03-13T13:05:00.589524",
     "status": "completed"
    },
    "tags": []
   },
   "outputs": [
    {
     "data": {
      "text/html": [
       "<div>\n",
       "<style scoped>\n",
       "    .dataframe tbody tr th:only-of-type {\n",
       "        vertical-align: middle;\n",
       "    }\n",
       "\n",
       "    .dataframe tbody tr th {\n",
       "        vertical-align: top;\n",
       "    }\n",
       "\n",
       "    .dataframe thead th {\n",
       "        text-align: right;\n",
       "    }\n",
       "</style>\n",
       "<table border=\"1\" class=\"dataframe\">\n",
       "  <thead>\n",
       "    <tr style=\"text-align: right;\">\n",
       "      <th></th>\n",
       "      <th>PassengerId</th>\n",
       "      <th>Survived</th>\n",
       "      <th>Pclass</th>\n",
       "      <th>Name</th>\n",
       "      <th>Sex</th>\n",
       "      <th>Age</th>\n",
       "      <th>SibSp</th>\n",
       "      <th>Parch</th>\n",
       "      <th>Ticket</th>\n",
       "      <th>Fare</th>\n",
       "      <th>Cabin</th>\n",
       "      <th>Embarked</th>\n",
       "    </tr>\n",
       "  </thead>\n",
       "  <tbody>\n",
       "    <tr>\n",
       "      <th>0</th>\n",
       "      <td>1</td>\n",
       "      <td>0</td>\n",
       "      <td>3</td>\n",
       "      <td>Braund, Mr. Owen Harris</td>\n",
       "      <td>male</td>\n",
       "      <td>22.0</td>\n",
       "      <td>1</td>\n",
       "      <td>0</td>\n",
       "      <td>A/5 21171</td>\n",
       "      <td>7.2500</td>\n",
       "      <td>NaN</td>\n",
       "      <td>S</td>\n",
       "    </tr>\n",
       "    <tr>\n",
       "      <th>1</th>\n",
       "      <td>2</td>\n",
       "      <td>1</td>\n",
       "      <td>1</td>\n",
       "      <td>Cumings, Mrs. John Bradley (Florence Briggs Th...</td>\n",
       "      <td>female</td>\n",
       "      <td>38.0</td>\n",
       "      <td>1</td>\n",
       "      <td>0</td>\n",
       "      <td>PC 17599</td>\n",
       "      <td>71.2833</td>\n",
       "      <td>C85</td>\n",
       "      <td>C</td>\n",
       "    </tr>\n",
       "    <tr>\n",
       "      <th>2</th>\n",
       "      <td>3</td>\n",
       "      <td>1</td>\n",
       "      <td>3</td>\n",
       "      <td>Heikkinen, Miss. Laina</td>\n",
       "      <td>female</td>\n",
       "      <td>26.0</td>\n",
       "      <td>0</td>\n",
       "      <td>0</td>\n",
       "      <td>STON/O2. 3101282</td>\n",
       "      <td>7.9250</td>\n",
       "      <td>NaN</td>\n",
       "      <td>S</td>\n",
       "    </tr>\n",
       "    <tr>\n",
       "      <th>3</th>\n",
       "      <td>4</td>\n",
       "      <td>1</td>\n",
       "      <td>1</td>\n",
       "      <td>Futrelle, Mrs. Jacques Heath (Lily May Peel)</td>\n",
       "      <td>female</td>\n",
       "      <td>35.0</td>\n",
       "      <td>1</td>\n",
       "      <td>0</td>\n",
       "      <td>113803</td>\n",
       "      <td>53.1000</td>\n",
       "      <td>C123</td>\n",
       "      <td>S</td>\n",
       "    </tr>\n",
       "    <tr>\n",
       "      <th>4</th>\n",
       "      <td>5</td>\n",
       "      <td>0</td>\n",
       "      <td>3</td>\n",
       "      <td>Allen, Mr. William Henry</td>\n",
       "      <td>male</td>\n",
       "      <td>35.0</td>\n",
       "      <td>0</td>\n",
       "      <td>0</td>\n",
       "      <td>373450</td>\n",
       "      <td>8.0500</td>\n",
       "      <td>NaN</td>\n",
       "      <td>S</td>\n",
       "    </tr>\n",
       "    <tr>\n",
       "      <th>...</th>\n",
       "      <td>...</td>\n",
       "      <td>...</td>\n",
       "      <td>...</td>\n",
       "      <td>...</td>\n",
       "      <td>...</td>\n",
       "      <td>...</td>\n",
       "      <td>...</td>\n",
       "      <td>...</td>\n",
       "      <td>...</td>\n",
       "      <td>...</td>\n",
       "      <td>...</td>\n",
       "      <td>...</td>\n",
       "    </tr>\n",
       "    <tr>\n",
       "      <th>886</th>\n",
       "      <td>887</td>\n",
       "      <td>0</td>\n",
       "      <td>2</td>\n",
       "      <td>Montvila, Rev. Juozas</td>\n",
       "      <td>male</td>\n",
       "      <td>27.0</td>\n",
       "      <td>0</td>\n",
       "      <td>0</td>\n",
       "      <td>211536</td>\n",
       "      <td>13.0000</td>\n",
       "      <td>NaN</td>\n",
       "      <td>S</td>\n",
       "    </tr>\n",
       "    <tr>\n",
       "      <th>887</th>\n",
       "      <td>888</td>\n",
       "      <td>1</td>\n",
       "      <td>1</td>\n",
       "      <td>Graham, Miss. Margaret Edith</td>\n",
       "      <td>female</td>\n",
       "      <td>19.0</td>\n",
       "      <td>0</td>\n",
       "      <td>0</td>\n",
       "      <td>112053</td>\n",
       "      <td>30.0000</td>\n",
       "      <td>B42</td>\n",
       "      <td>S</td>\n",
       "    </tr>\n",
       "    <tr>\n",
       "      <th>888</th>\n",
       "      <td>889</td>\n",
       "      <td>0</td>\n",
       "      <td>3</td>\n",
       "      <td>Johnston, Miss. Catherine Helen \"Carrie\"</td>\n",
       "      <td>female</td>\n",
       "      <td>NaN</td>\n",
       "      <td>1</td>\n",
       "      <td>2</td>\n",
       "      <td>W./C. 6607</td>\n",
       "      <td>23.4500</td>\n",
       "      <td>NaN</td>\n",
       "      <td>S</td>\n",
       "    </tr>\n",
       "    <tr>\n",
       "      <th>889</th>\n",
       "      <td>890</td>\n",
       "      <td>1</td>\n",
       "      <td>1</td>\n",
       "      <td>Behr, Mr. Karl Howell</td>\n",
       "      <td>male</td>\n",
       "      <td>26.0</td>\n",
       "      <td>0</td>\n",
       "      <td>0</td>\n",
       "      <td>111369</td>\n",
       "      <td>30.0000</td>\n",
       "      <td>C148</td>\n",
       "      <td>C</td>\n",
       "    </tr>\n",
       "    <tr>\n",
       "      <th>890</th>\n",
       "      <td>891</td>\n",
       "      <td>0</td>\n",
       "      <td>3</td>\n",
       "      <td>Dooley, Mr. Patrick</td>\n",
       "      <td>male</td>\n",
       "      <td>32.0</td>\n",
       "      <td>0</td>\n",
       "      <td>0</td>\n",
       "      <td>370376</td>\n",
       "      <td>7.7500</td>\n",
       "      <td>NaN</td>\n",
       "      <td>Q</td>\n",
       "    </tr>\n",
       "  </tbody>\n",
       "</table>\n",
       "<p>891 rows × 12 columns</p>\n",
       "</div>"
      ],
      "text/plain": [
       "     PassengerId  Survived  Pclass  \\\n",
       "0              1         0       3   \n",
       "1              2         1       1   \n",
       "2              3         1       3   \n",
       "3              4         1       1   \n",
       "4              5         0       3   \n",
       "..           ...       ...     ...   \n",
       "886          887         0       2   \n",
       "887          888         1       1   \n",
       "888          889         0       3   \n",
       "889          890         1       1   \n",
       "890          891         0       3   \n",
       "\n",
       "                                                  Name     Sex   Age  SibSp  \\\n",
       "0                              Braund, Mr. Owen Harris    male  22.0      1   \n",
       "1    Cumings, Mrs. John Bradley (Florence Briggs Th...  female  38.0      1   \n",
       "2                               Heikkinen, Miss. Laina  female  26.0      0   \n",
       "3         Futrelle, Mrs. Jacques Heath (Lily May Peel)  female  35.0      1   \n",
       "4                             Allen, Mr. William Henry    male  35.0      0   \n",
       "..                                                 ...     ...   ...    ...   \n",
       "886                              Montvila, Rev. Juozas    male  27.0      0   \n",
       "887                       Graham, Miss. Margaret Edith  female  19.0      0   \n",
       "888           Johnston, Miss. Catherine Helen \"Carrie\"  female   NaN      1   \n",
       "889                              Behr, Mr. Karl Howell    male  26.0      0   \n",
       "890                                Dooley, Mr. Patrick    male  32.0      0   \n",
       "\n",
       "     Parch            Ticket     Fare Cabin Embarked  \n",
       "0        0         A/5 21171   7.2500   NaN        S  \n",
       "1        0          PC 17599  71.2833   C85        C  \n",
       "2        0  STON/O2. 3101282   7.9250   NaN        S  \n",
       "3        0            113803  53.1000  C123        S  \n",
       "4        0            373450   8.0500   NaN        S  \n",
       "..     ...               ...      ...   ...      ...  \n",
       "886      0            211536  13.0000   NaN        S  \n",
       "887      0            112053  30.0000   B42        S  \n",
       "888      2        W./C. 6607  23.4500   NaN        S  \n",
       "889      0            111369  30.0000  C148        C  \n",
       "890      0            370376   7.7500   NaN        Q  \n",
       "\n",
       "[891 rows x 12 columns]"
      ]
     },
     "execution_count": 3,
     "metadata": {},
     "output_type": "execute_result"
    }
   ],
   "source": [
    "train_df"
   ]
  },
  {
   "cell_type": "code",
   "execution_count": 4,
   "id": "4058870e",
   "metadata": {
    "execution": {
     "iopub.execute_input": "2022-03-13T13:05:00.849212Z",
     "iopub.status.busy": "2022-03-13T13:05:00.848107Z",
     "iopub.status.idle": "2022-03-13T13:05:00.872681Z",
     "shell.execute_reply": "2022-03-13T13:05:00.873753Z",
     "shell.execute_reply.started": "2022-03-13T12:57:19.559062Z"
    },
    "papermill": {
     "duration": 0.103074,
     "end_time": "2022-03-13T13:05:00.874091",
     "exception": false,
     "start_time": "2022-03-13T13:05:00.771017",
     "status": "completed"
    },
    "tags": []
   },
   "outputs": [
    {
     "name": "stdout",
     "output_type": "stream",
     "text": [
      "<class 'pandas.core.frame.DataFrame'>\n",
      "RangeIndex: 891 entries, 0 to 890\n",
      "Data columns (total 12 columns):\n",
      " #   Column       Non-Null Count  Dtype  \n",
      "---  ------       --------------  -----  \n",
      " 0   PassengerId  891 non-null    int64  \n",
      " 1   Survived     891 non-null    int64  \n",
      " 2   Pclass       891 non-null    int64  \n",
      " 3   Name         891 non-null    object \n",
      " 4   Sex          891 non-null    object \n",
      " 5   Age          714 non-null    float64\n",
      " 6   SibSp        891 non-null    int64  \n",
      " 7   Parch        891 non-null    int64  \n",
      " 8   Ticket       891 non-null    object \n",
      " 9   Fare         891 non-null    float64\n",
      " 10  Cabin        204 non-null    object \n",
      " 11  Embarked     889 non-null    object \n",
      "dtypes: float64(2), int64(5), object(5)\n",
      "memory usage: 83.7+ KB\n"
     ]
    }
   ],
   "source": [
    "train_df.info()"
   ]
  },
  {
   "cell_type": "code",
   "execution_count": 5,
   "id": "4081296c",
   "metadata": {
    "execution": {
     "iopub.execute_input": "2022-03-13T13:05:01.027315Z",
     "iopub.status.busy": "2022-03-13T13:05:01.026580Z",
     "iopub.status.idle": "2022-03-13T13:05:01.035178Z",
     "shell.execute_reply": "2022-03-13T13:05:01.035732Z",
     "shell.execute_reply.started": "2022-03-13T12:57:19.582519Z"
    },
    "papermill": {
     "duration": 0.089357,
     "end_time": "2022-03-13T13:05:01.035938",
     "exception": false,
     "start_time": "2022-03-13T13:05:00.946581",
     "status": "completed"
    },
    "tags": []
   },
   "outputs": [
    {
     "name": "stdout",
     "output_type": "stream",
     "text": [
      "<class 'pandas.core.frame.DataFrame'>\n",
      "RangeIndex: 418 entries, 0 to 417\n",
      "Data columns (total 11 columns):\n",
      " #   Column       Non-Null Count  Dtype  \n",
      "---  ------       --------------  -----  \n",
      " 0   PassengerId  418 non-null    int64  \n",
      " 1   Pclass       418 non-null    int64  \n",
      " 2   Name         418 non-null    object \n",
      " 3   Sex          418 non-null    object \n",
      " 4   Age          332 non-null    float64\n",
      " 5   SibSp        418 non-null    int64  \n",
      " 6   Parch        418 non-null    int64  \n",
      " 7   Ticket       418 non-null    object \n",
      " 8   Fare         417 non-null    float64\n",
      " 9   Cabin        91 non-null     object \n",
      " 10  Embarked     418 non-null    object \n",
      "dtypes: float64(2), int64(4), object(5)\n",
      "memory usage: 36.0+ KB\n"
     ]
    }
   ],
   "source": [
    "test_df.info()"
   ]
  },
  {
   "cell_type": "code",
   "execution_count": 6,
   "id": "8b4df9cf",
   "metadata": {
    "execution": {
     "iopub.execute_input": "2022-03-13T13:05:01.184940Z",
     "iopub.status.busy": "2022-03-13T13:05:01.184240Z",
     "iopub.status.idle": "2022-03-13T13:05:01.192496Z",
     "shell.execute_reply": "2022-03-13T13:05:01.193143Z",
     "shell.execute_reply.started": "2022-03-13T12:57:19.605008Z"
    },
    "papermill": {
     "duration": 0.083729,
     "end_time": "2022-03-13T13:05:01.193320",
     "exception": false,
     "start_time": "2022-03-13T13:05:01.109591",
     "status": "completed"
    },
    "tags": []
   },
   "outputs": [
    {
     "data": {
      "text/plain": [
       "PassengerId      0\n",
       "Survived         0\n",
       "Pclass           0\n",
       "Name             0\n",
       "Sex              0\n",
       "Age            177\n",
       "SibSp            0\n",
       "Parch            0\n",
       "Ticket           0\n",
       "Fare             0\n",
       "Cabin          687\n",
       "Embarked         2\n",
       "dtype: int64"
      ]
     },
     "execution_count": 6,
     "metadata": {},
     "output_type": "execute_result"
    }
   ],
   "source": [
    "train_df.isnull().sum()"
   ]
  },
  {
   "cell_type": "code",
   "execution_count": 7,
   "id": "1ec15b43",
   "metadata": {
    "execution": {
     "iopub.execute_input": "2022-03-13T13:05:01.343833Z",
     "iopub.status.busy": "2022-03-13T13:05:01.343126Z",
     "iopub.status.idle": "2022-03-13T13:05:01.350884Z",
     "shell.execute_reply": "2022-03-13T13:05:01.351446Z",
     "shell.execute_reply.started": "2022-03-13T12:57:19.623557Z"
    },
    "papermill": {
     "duration": 0.08551,
     "end_time": "2022-03-13T13:05:01.351637",
     "exception": false,
     "start_time": "2022-03-13T13:05:01.266127",
     "status": "completed"
    },
    "tags": []
   },
   "outputs": [
    {
     "data": {
      "text/plain": [
       "PassengerId      0\n",
       "Pclass           0\n",
       "Name             0\n",
       "Sex              0\n",
       "Age             86\n",
       "SibSp            0\n",
       "Parch            0\n",
       "Ticket           0\n",
       "Fare             1\n",
       "Cabin          327\n",
       "Embarked         0\n",
       "dtype: int64"
      ]
     },
     "execution_count": 7,
     "metadata": {},
     "output_type": "execute_result"
    }
   ],
   "source": [
    "test_df.isnull().sum()"
   ]
  },
  {
   "cell_type": "markdown",
   "id": "72e0d3f6",
   "metadata": {
    "papermill": {
     "duration": 0.074285,
     "end_time": "2022-03-13T13:05:01.502839",
     "exception": false,
     "start_time": "2022-03-13T13:05:01.428554",
     "status": "completed"
    },
    "tags": []
   },
   "source": [
    "**Filling the nan values**"
   ]
  },
  {
   "cell_type": "markdown",
   "id": "38af3a09",
   "metadata": {
    "papermill": {
     "duration": 0.071075,
     "end_time": "2022-03-13T13:05:01.646443",
     "exception": false,
     "start_time": "2022-03-13T13:05:01.575368",
     "status": "completed"
    },
    "tags": []
   },
   "source": [
    "***Age***"
   ]
  },
  {
   "cell_type": "code",
   "execution_count": 8,
   "id": "b1a0c18d",
   "metadata": {
    "execution": {
     "iopub.execute_input": "2022-03-13T13:05:01.794294Z",
     "iopub.status.busy": "2022-03-13T13:05:01.793616Z",
     "iopub.status.idle": "2022-03-13T13:05:02.116974Z",
     "shell.execute_reply": "2022-03-13T13:05:02.117474Z",
     "shell.execute_reply.started": "2022-03-13T12:57:19.640665Z"
    },
    "papermill": {
     "duration": 0.399529,
     "end_time": "2022-03-13T13:05:02.117658",
     "exception": false,
     "start_time": "2022-03-13T13:05:01.718129",
     "status": "completed"
    },
    "tags": []
   },
   "outputs": [
    {
     "data": {
      "image/png": "[encoded data removed]",
      "text/plain": [
       "<Figure size 1008x504 with 1 Axes>"
      ]
     },
     "metadata": {},
     "output_type": "display_data"
    }
   ],
   "source": [
    "sns.set_theme()\n",
    "plt.figure(figsize=(14,7))\n",
    "x = train_df['Age']\n",
    "sns.kdeplot(train_df['Age'], shade=True, color=\"olive\")\n",
    "plt.xlabel('Age',fontsize = 15)\n",
    "plt.ylabel('Frequency',fontsize = 15)\n",
    "plt.show()"
   ]
  },
  {
   "cell_type": "markdown",
   "id": "36e0c5ef",
   "metadata": {
    "papermill": {
     "duration": 0.078655,
     "end_time": "2022-03-13T13:05:02.270013",
     "exception": false,
     "start_time": "2022-03-13T13:05:02.191358",
     "status": "completed"
    },
    "tags": []
   },
   "source": [
    "filling the nan values of the \"Age\" column by creating a list of numbers which follows similar distribution like \"Age\" column. Don't know if it is a right way or not."
   ]
  },
  {
   "cell_type": "code",
   "execution_count": 9,
   "id": "70de5803",
   "metadata": {
    "execution": {
     "iopub.execute_input": "2022-03-13T13:05:02.421339Z",
     "iopub.status.busy": "2022-03-13T13:05:02.420618Z",
     "iopub.status.idle": "2022-03-13T13:05:02.780826Z",
     "shell.execute_reply": "2022-03-13T13:05:02.780241Z",
     "shell.execute_reply.started": "2022-03-13T12:57:19.976898Z"
    },
    "papermill": {
     "duration": 0.438017,
     "end_time": "2022-03-13T13:05:02.780988",
     "exception": false,
     "start_time": "2022-03-13T13:05:02.342971",
     "status": "completed"
    },
    "tags": []
   },
   "outputs": [
    {
     "data": {
      "image/png": "[encoded data removed]",
      "text/plain": [
       "<Figure size 1008x504 with 1 Axes>"
      ]
     },
     "metadata": {},
     "output_type": "display_data"
    }
   ],
   "source": [
    "plt.figure(figsize=(14,7))\n",
    "np.random.seed(24)\n",
    "x = np.linspace(train_df['Age'].min(),train_df['Age'].max(),16)\n",
    "mean = train_df['Age'].mean()\n",
    "std = np.std(train_df['Age'])\n",
    "train_age = np.around(skewnorm.rvs(-1,mean,std,177),2)\n",
    "sns.histplot(train_age)\n",
    "plt.xticks(np.arange(0, 80, 5))\n",
    "plt.xlabel('Estimated Age')\n",
    "plt.show()"
   ]
  },
  {
   "cell_type": "code",
   "execution_count": 10,
   "id": "4a852df2",
   "metadata": {
    "execution": {
     "iopub.execute_input": "2022-03-13T13:05:02.938196Z",
     "iopub.status.busy": "2022-03-13T13:05:02.937408Z",
     "iopub.status.idle": "2022-03-13T13:05:02.939219Z",
     "shell.execute_reply": "2022-03-13T13:05:02.939685Z",
     "shell.execute_reply.started": "2022-03-13T12:57:20.337715Z"
    },
    "papermill": {
     "duration": 0.082735,
     "end_time": "2022-03-13T13:05:02.939907",
     "exception": false,
     "start_time": "2022-03-13T13:05:02.857172",
     "status": "completed"
    },
    "tags": []
   },
   "outputs": [],
   "source": [
    "random.seed(50)\n",
    "train_age = train_age.tolist()\n",
    "for i in range(len(train_age)):\n",
    "    if train_age[i] <=0:\n",
    "        train_age[i] = random.randint(50,80)     "
   ]
  },
  {
   "cell_type": "code",
   "execution_count": 11,
   "id": "57acfcab",
   "metadata": {
    "execution": {
     "iopub.execute_input": "2022-03-13T13:05:03.095541Z",
     "iopub.status.busy": "2022-03-13T13:05:03.094705Z",
     "iopub.status.idle": "2022-03-13T13:05:03.104991Z",
     "shell.execute_reply": "2022-03-13T13:05:03.105659Z",
     "shell.execute_reply.started": "2022-03-13T12:57:20.345382Z"
    },
    "papermill": {
     "duration": 0.091147,
     "end_time": "2022-03-13T13:05:03.105870",
     "exception": false,
     "start_time": "2022-03-13T13:05:03.014723",
     "status": "completed"
    },
    "tags": []
   },
   "outputs": [
    {
     "data": {
      "text/plain": [
       "0"
      ]
     },
     "execution_count": 11,
     "metadata": {},
     "output_type": "execute_result"
    }
   ],
   "source": [
    "tr = train_df['Age'].copy()\n",
    "tr[np.isnan(tr)]= train_age\n",
    "train_df['Age'] = tr\n",
    "train_df['Age'].isnull().sum()"
   ]
  },
  {
   "cell_type": "code",
   "execution_count": 12,
   "id": "88f85ba0",
   "metadata": {
    "execution": {
     "iopub.execute_input": "2022-03-13T13:05:03.264563Z",
     "iopub.status.busy": "2022-03-13T13:05:03.263854Z",
     "iopub.status.idle": "2022-03-13T13:05:03.267608Z",
     "shell.execute_reply": "2022-03-13T13:05:03.268157Z",
     "shell.execute_reply.started": "2022-03-13T12:57:20.366238Z"
    },
    "papermill": {
     "duration": 0.087922,
     "end_time": "2022-03-13T13:05:03.268391",
     "exception": false,
     "start_time": "2022-03-13T13:05:03.180469",
     "status": "completed"
    },
    "tags": []
   },
   "outputs": [],
   "source": [
    "np.random.seed(24)\n",
    "mean = test_df['Age'].mean()\n",
    "std = np.std(test_df['Age'])\n",
    "null_numb = test_df['Age'].isnull().sum()\n",
    "test_age = np.around(skewnorm.rvs(-1,mean,std,null_numb),2)"
   ]
  },
  {
   "cell_type": "code",
   "execution_count": 13,
   "id": "7bbde1f6",
   "metadata": {
    "execution": {
     "iopub.execute_input": "2022-03-13T13:05:03.430166Z",
     "iopub.status.busy": "2022-03-13T13:05:03.429320Z",
     "iopub.status.idle": "2022-03-13T13:05:03.432328Z",
     "shell.execute_reply": "2022-03-13T13:05:03.432967Z",
     "shell.execute_reply.started": "2022-03-13T12:57:20.375704Z"
    },
    "papermill": {
     "duration": 0.087204,
     "end_time": "2022-03-13T13:05:03.433187",
     "exception": false,
     "start_time": "2022-03-13T13:05:03.345983",
     "status": "completed"
    },
    "tags": []
   },
   "outputs": [],
   "source": [
    "random.seed(50)\n",
    "test_age = test_age.tolist()\n",
    "for i in range(len(test_age)):\n",
    "    if test_age[i] <=0:\n",
    "        test_age[i] = random.randint(50,80)     "
   ]
  },
  {
   "cell_type": "code",
   "execution_count": 14,
   "id": "283b1d70",
   "metadata": {
    "execution": {
     "iopub.execute_input": "2022-03-13T13:05:03.588863Z",
     "iopub.status.busy": "2022-03-13T13:05:03.588093Z",
     "iopub.status.idle": "2022-03-13T13:05:03.597238Z",
     "shell.execute_reply": "2022-03-13T13:05:03.597803Z",
     "shell.execute_reply.started": "2022-03-13T12:57:20.386929Z"
    },
    "papermill": {
     "duration": 0.088604,
     "end_time": "2022-03-13T13:05:03.597989",
     "exception": false,
     "start_time": "2022-03-13T13:05:03.509385",
     "status": "completed"
    },
    "tags": []
   },
   "outputs": [
    {
     "data": {
      "text/plain": [
       "0"
      ]
     },
     "execution_count": 14,
     "metadata": {},
     "output_type": "execute_result"
    }
   ],
   "source": [
    "te = test_df['Age'].copy()\n",
    "te[np.isnan(te)]= test_age\n",
    "test_df['Age'] = te\n",
    "test_df['Age'].isnull().sum()"
   ]
  },
  {
   "cell_type": "markdown",
   "id": "0726d054",
   "metadata": {
    "papermill": {
     "duration": 0.075164,
     "end_time": "2022-03-13T13:05:03.749300",
     "exception": false,
     "start_time": "2022-03-13T13:05:03.674136",
     "status": "completed"
    },
    "tags": []
   },
   "source": [
    "***Fare***"
   ]
  },
  {
   "cell_type": "markdown",
   "id": "1bc5a0a9",
   "metadata": {
    "papermill": {
     "duration": 0.07632,
     "end_time": "2022-03-13T13:05:03.901802",
     "exception": false,
     "start_time": "2022-03-13T13:05:03.825482",
     "status": "completed"
    },
    "tags": []
   },
   "source": [
    "filling nan value of the 'Fare' column of test_df."
   ]
  },
  {
   "cell_type": "code",
   "execution_count": 15,
   "id": "9b7be83d",
   "metadata": {
    "execution": {
     "iopub.execute_input": "2022-03-13T13:05:04.056061Z",
     "iopub.status.busy": "2022-03-13T13:05:04.055339Z",
     "iopub.status.idle": "2022-03-13T13:05:04.060211Z",
     "shell.execute_reply": "2022-03-13T13:05:04.060838Z",
     "shell.execute_reply.started": "2022-03-13T12:57:20.406587Z"
    },
    "papermill": {
     "duration": 0.084133,
     "end_time": "2022-03-13T13:05:04.061030",
     "exception": false,
     "start_time": "2022-03-13T13:05:03.976897",
     "status": "completed"
    },
    "tags": []
   },
   "outputs": [],
   "source": [
    "test_df['Fare']=test_df['Fare'].fillna(test_df['Fare'].mean())"
   ]
  },
  {
   "cell_type": "markdown",
   "id": "3155adb9",
   "metadata": {
    "papermill": {
     "duration": 0.079352,
     "end_time": "2022-03-13T13:05:04.216501",
     "exception": false,
     "start_time": "2022-03-13T13:05:04.137149",
     "status": "completed"
    },
    "tags": []
   },
   "source": [
    "***Embarked***"
   ]
  },
  {
   "cell_type": "code",
   "execution_count": 16,
   "id": "ef3922d3",
   "metadata": {
    "execution": {
     "iopub.execute_input": "2022-03-13T13:05:04.375203Z",
     "iopub.status.busy": "2022-03-13T13:05:04.374506Z",
     "iopub.status.idle": "2022-03-13T13:05:04.381634Z",
     "shell.execute_reply": "2022-03-13T13:05:04.382239Z",
     "shell.execute_reply.started": "2022-03-13T12:57:20.414319Z"
    },
    "papermill": {
     "duration": 0.086092,
     "end_time": "2022-03-13T13:05:04.382412",
     "exception": false,
     "start_time": "2022-03-13T13:05:04.296320",
     "status": "completed"
    },
    "tags": []
   },
   "outputs": [
    {
     "data": {
      "text/plain": [
       "S    644\n",
       "C    168\n",
       "Q     77\n",
       "Name: Embarked, dtype: int64"
      ]
     },
     "execution_count": 16,
     "metadata": {},
     "output_type": "execute_result"
    }
   ],
   "source": [
    "train_df['Embarked'].value_counts()"
   ]
  },
  {
   "cell_type": "code",
   "execution_count": 17,
   "id": "9f2bfa98",
   "metadata": {
    "execution": {
     "iopub.execute_input": "2022-03-13T13:05:04.535671Z",
     "iopub.status.busy": "2022-03-13T13:05:04.534723Z",
     "iopub.status.idle": "2022-03-13T13:05:04.539400Z",
     "shell.execute_reply": "2022-03-13T13:05:04.539951Z",
     "shell.execute_reply.started": "2022-03-13T12:57:20.436735Z"
    },
    "papermill": {
     "duration": 0.082882,
     "end_time": "2022-03-13T13:05:04.540141",
     "exception": false,
     "start_time": "2022-03-13T13:05:04.457259",
     "status": "completed"
    },
    "tags": []
   },
   "outputs": [],
   "source": [
    "train_df['Embarked'] = train_df['Embarked'].fillna('S')"
   ]
  },
  {
   "cell_type": "markdown",
   "id": "a45b3ed1",
   "metadata": {
    "papermill": {
     "duration": 0.073978,
     "end_time": "2022-03-13T13:05:04.689099",
     "exception": false,
     "start_time": "2022-03-13T13:05:04.615121",
     "status": "completed"
    },
    "tags": []
   },
   "source": [
    "**Deceased vs Survived**"
   ]
  },
  {
   "cell_type": "code",
   "execution_count": 18,
   "id": "b8cab60d",
   "metadata": {
    "execution": {
     "iopub.execute_input": "2022-03-13T13:05:04.844361Z",
     "iopub.status.busy": "2022-03-13T13:05:04.843668Z",
     "iopub.status.idle": "2022-03-13T13:05:04.938492Z",
     "shell.execute_reply": "2022-03-13T13:05:04.937920Z",
     "shell.execute_reply.started": "2022-03-13T12:57:20.445953Z"
    },
    "papermill": {
     "duration": 0.173669,
     "end_time": "2022-03-13T13:05:04.938652",
     "exception": false,
     "start_time": "2022-03-13T13:05:04.764983",
     "status": "completed"
    },
    "tags": []
   },
   "outputs": [
    {
     "data": {
      "image/png": "[encoded data removed]",
      "text/plain": [
       "<Figure size 504x504 with 1 Axes>"
      ]
     },
     "metadata": {},
     "output_type": "display_data"
    }
   ],
   "source": [
    "plt.figure(figsize=(7,7))\n",
    "x = train_df['Survived'].value_counts()\n",
    "labels = ['Deceased','Survived']\n",
    "colors = ['#0b6745','#548eba']\n",
    "total = len(train_df['Survived'])\n",
    "plt.pie(x,labels = labels,colors = colors,autopct=lambda p: '{:.0f}'.format(p * total / 100)\n",
    "        ,textprops = {'fontsize' :15})\n",
    "plt.show()"
   ]
  },
  {
   "cell_type": "code",
   "execution_count": 19,
   "id": "cc2fa349",
   "metadata": {
    "execution": {
     "iopub.execute_input": "2022-03-13T13:05:05.098927Z",
     "iopub.status.busy": "2022-03-13T13:05:05.098212Z",
     "iopub.status.idle": "2022-03-13T13:05:05.115304Z",
     "shell.execute_reply": "2022-03-13T13:05:05.114651Z",
     "shell.execute_reply.started": "2022-03-13T12:57:20.554967Z"
    },
    "papermill": {
     "duration": 0.099035,
     "end_time": "2022-03-13T13:05:05.115466",
     "exception": false,
     "start_time": "2022-03-13T13:05:05.016431",
     "status": "completed"
    },
    "tags": []
   },
   "outputs": [],
   "source": [
    "data = [train_df,test_df]\n",
    "for dataset in data:\n",
    "    edges = np.linspace(train_df['Age'].min(),train_df['Age'].max(),6).astype(int)\n",
    "    dataset['Age_range'] = pd.cut(dataset['Age'],edges)"
   ]
  },
  {
   "cell_type": "code",
   "execution_count": 20,
   "id": "77b8d8ff",
   "metadata": {
    "execution": {
     "iopub.execute_input": "2022-03-13T13:05:05.285383Z",
     "iopub.status.busy": "2022-03-13T13:05:05.284326Z",
     "iopub.status.idle": "2022-03-13T13:05:05.547452Z",
     "shell.execute_reply": "2022-03-13T13:05:05.546791Z",
     "shell.execute_reply.started": "2022-03-13T12:57:20.573505Z"
    },
    "papermill": {
     "duration": 0.35261,
     "end_time": "2022-03-13T13:05:05.547619",
     "exception": false,
     "start_time": "2022-03-13T13:05:05.195009",
     "status": "completed"
    },
    "tags": []
   },
   "outputs": [
    {
     "data": {
      "image/png": "[encoded data removed]",
      "text/plain": [
       "<Figure size 1008x504 with 1 Axes>"
      ]
     },
     "metadata": {},
     "output_type": "display_data"
    }
   ],
   "source": [
    "plt.figure(figsize=(14,7))\n",
    "sns.countplot(x = 'Age_range', data = train_df, hue = 'Survived', palette=\"husl\")\n",
    "plt.xlabel('Age range',fontsize = 12)\n",
    "plt.ylabel('Count',fontsize = 12)\n",
    "plt.xticks(rotation = 45, ha = 'right')\n",
    "plt.legend(['Deceased','Survived'], loc = 'upper right')\n",
    "plt.grid(True)\n",
    "plt.show()"
   ]
  },
  {
   "cell_type": "markdown",
   "id": "c02bb601",
   "metadata": {
    "papermill": {
     "duration": 0.078698,
     "end_time": "2022-03-13T13:05:05.704161",
     "exception": false,
     "start_time": "2022-03-13T13:05:05.625463",
     "status": "completed"
    },
    "tags": []
   },
   "source": [
    "**Age and Sex**"
   ]
  },
  {
   "cell_type": "code",
   "execution_count": 21,
   "id": "b34c7efc",
   "metadata": {
    "execution": {
     "iopub.execute_input": "2022-03-13T13:05:05.867945Z",
     "iopub.status.busy": "2022-03-13T13:05:05.866907Z",
     "iopub.status.idle": "2022-03-13T13:05:06.095243Z",
     "shell.execute_reply": "2022-03-13T13:05:06.095841Z",
     "shell.execute_reply.started": "2022-03-13T12:57:20.840859Z"
    },
    "papermill": {
     "duration": 0.315517,
     "end_time": "2022-03-13T13:05:06.096049",
     "exception": false,
     "start_time": "2022-03-13T13:05:05.780532",
     "status": "completed"
    },
    "tags": []
   },
   "outputs": [
    {
     "data": {
      "image/png": "[encoded data removed]",
      "text/plain": [
       "<Figure size 1008x504 with 1 Axes>"
      ]
     },
     "metadata": {},
     "output_type": "display_data"
    }
   ],
   "source": [
    "plt.figure(figsize=(14,7))\n",
    "ax = sns.countplot(x = 'Sex', data = train_df, hue = 'Survived')\n",
    "for p in ax.patches:\n",
    "   ax.annotate(p.get_height(), (p.get_x()+0.15, p.get_height()/2),fontsize = 15)\n",
    "plt.xlabel('Sex',fontsize = 12)\n",
    "plt.ylabel('Count',fontsize = 12)\n",
    "plt.legend(['Deceased','Survived'], loc = 'upper right')\n",
    "plt.show()"
   ]
  },
  {
   "cell_type": "code",
   "execution_count": 22,
   "id": "c6cdb8fd",
   "metadata": {
    "execution": {
     "iopub.execute_input": "2022-03-13T13:05:06.267236Z",
     "iopub.status.busy": "2022-03-13T13:05:06.266150Z",
     "iopub.status.idle": "2022-03-13T13:05:06.545574Z",
     "shell.execute_reply": "2022-03-13T13:05:06.544994Z",
     "shell.execute_reply.started": "2022-03-13T12:57:21.095458Z"
    },
    "papermill": {
     "duration": 0.368546,
     "end_time": "2022-03-13T13:05:06.545725",
     "exception": false,
     "start_time": "2022-03-13T13:05:06.177179",
     "status": "completed"
    },
    "tags": []
   },
   "outputs": [
    {
     "data": {
      "image/png": "[encoded data removed]",
      "text/plain": [
       "<Figure size 1008x504 with 1 Axes>"
      ]
     },
     "metadata": {},
     "output_type": "display_data"
    }
   ],
   "source": [
    "plt.figure(figsize=(14,7))\n",
    "sns.violinplot(x =\"Sex\", y ='Age', hue =\"Survived\",\n",
    "data = train_df,palette=\"Set2\", split = True)\n",
    "plt.show()"
   ]
  },
  {
   "cell_type": "markdown",
   "id": "77a27ed8",
   "metadata": {
    "papermill": {
     "duration": 0.079891,
     "end_time": "2022-03-13T13:05:06.709851",
     "exception": false,
     "start_time": "2022-03-13T13:05:06.629960",
     "status": "completed"
    },
    "tags": []
   },
   "source": [
    "**Pclass**"
   ]
  },
  {
   "cell_type": "code",
   "execution_count": 23,
   "id": "8854e952",
   "metadata": {
    "execution": {
     "iopub.execute_input": "2022-03-13T13:05:06.896908Z",
     "iopub.status.busy": "2022-03-13T13:05:06.879412Z",
     "iopub.status.idle": "2022-03-13T13:05:07.154354Z",
     "shell.execute_reply": "2022-03-13T13:05:07.153809Z",
     "shell.execute_reply.started": "2022-03-13T12:57:21.373387Z"
    },
    "papermill": {
     "duration": 0.365172,
     "end_time": "2022-03-13T13:05:07.154574",
     "exception": false,
     "start_time": "2022-03-13T13:05:06.789402",
     "status": "completed"
    },
    "tags": []
   },
   "outputs": [
    {
     "data": {
      "image/png": "[encoded data removed]",
      "text/plain": [
       "<Figure size 864x360 with 2 Axes>"
      ]
     },
     "metadata": {},
     "output_type": "display_data"
    }
   ],
   "source": [
    "plt.figure(figsize=(12,5))\n",
    "group = train_df.groupby([\"Survived\",'Pclass'])\n",
    "pclass_srv = group.size().unstack() \n",
    "sns.heatmap(pclass_srv,annot = True,fmt = 'd')\n",
    "plt.show()"
   ]
  },
  {
   "cell_type": "code",
   "execution_count": 24,
   "id": "3adc7fd2",
   "metadata": {
    "execution": {
     "iopub.execute_input": "2022-03-13T13:05:07.522304Z",
     "iopub.status.busy": "2022-03-13T13:05:07.353326Z",
     "iopub.status.idle": "2022-03-13T13:05:09.466532Z",
     "shell.execute_reply": "2022-03-13T13:05:09.467128Z",
     "shell.execute_reply.started": "2022-03-13T12:57:21.640424Z"
    },
    "papermill": {
     "duration": 2.213451,
     "end_time": "2022-03-13T13:05:09.467322",
     "exception": false,
     "start_time": "2022-03-13T13:05:07.253871",
     "status": "completed"
    },
    "tags": []
   },
   "outputs": [
    {
     "data": {
      "text/plain": [
       "<seaborn.axisgrid.FacetGrid at 0x7f4c923ce950>"
      ]
     },
     "execution_count": 24,
     "metadata": {},
     "output_type": "execute_result"
    },
    {
     "data": {
      "image/png": "[encoded data removed]",
      "text/plain": [
       "<Figure size 872.8x648 with 6 Axes>"
      ]
     },
     "metadata": {},
     "output_type": "display_data"
    }
   ],
   "source": [
    "sns.set(style=\"whitegrid\")\n",
    "grid = sns.FacetGrid(train_df, col='Survived', row='Pclass', height=3, aspect=2)\n",
    "grid.map(plt.hist, 'Age', alpha=.5,fill=True)\n",
    "grid.add_legend()"
   ]
  },
  {
   "cell_type": "markdown",
   "id": "1721c655",
   "metadata": {
    "papermill": {
     "duration": 0.086348,
     "end_time": "2022-03-13T13:05:09.639065",
     "exception": false,
     "start_time": "2022-03-13T13:05:09.552717",
     "status": "completed"
    },
    "tags": []
   },
   "source": [
    "**'SibSp' & 'Parch'**"
   ]
  },
  {
   "cell_type": "code",
   "execution_count": 25,
   "id": "eab3dfca",
   "metadata": {
    "execution": {
     "iopub.execute_input": "2022-03-13T13:05:09.812242Z",
     "iopub.status.busy": "2022-03-13T13:05:09.811187Z",
     "iopub.status.idle": "2022-03-13T13:05:09.819305Z",
     "shell.execute_reply": "2022-03-13T13:05:09.819764Z",
     "shell.execute_reply.started": "2022-03-13T12:57:23.645881Z"
    },
    "papermill": {
     "duration": 0.097355,
     "end_time": "2022-03-13T13:05:09.819963",
     "exception": false,
     "start_time": "2022-03-13T13:05:09.722608",
     "status": "completed"
    },
    "tags": []
   },
   "outputs": [
    {
     "data": {
      "text/plain": [
       "count    891.000000\n",
       "mean       0.523008\n",
       "std        1.102743\n",
       "min        0.000000\n",
       "25%        0.000000\n",
       "50%        0.000000\n",
       "75%        1.000000\n",
       "max        8.000000\n",
       "Name: SibSp, dtype: float64"
      ]
     },
     "execution_count": 25,
     "metadata": {},
     "output_type": "execute_result"
    }
   ],
   "source": [
    "train_df['SibSp'].describe()"
   ]
  },
  {
   "cell_type": "code",
   "execution_count": 26,
   "id": "96aa149c",
   "metadata": {
    "execution": {
     "iopub.execute_input": "2022-03-13T13:05:09.990807Z",
     "iopub.status.busy": "2022-03-13T13:05:09.989743Z",
     "iopub.status.idle": "2022-03-13T13:05:09.998811Z",
     "shell.execute_reply": "2022-03-13T13:05:09.999400Z",
     "shell.execute_reply.started": "2022-03-13T12:57:23.659193Z"
    },
    "papermill": {
     "duration": 0.095157,
     "end_time": "2022-03-13T13:05:09.999578",
     "exception": false,
     "start_time": "2022-03-13T13:05:09.904421",
     "status": "completed"
    },
    "tags": []
   },
   "outputs": [
    {
     "data": {
      "text/plain": [
       "count    891.000000\n",
       "mean       0.381594\n",
       "std        0.806057\n",
       "min        0.000000\n",
       "25%        0.000000\n",
       "50%        0.000000\n",
       "75%        0.000000\n",
       "max        6.000000\n",
       "Name: Parch, dtype: float64"
      ]
     },
     "execution_count": 26,
     "metadata": {},
     "output_type": "execute_result"
    }
   ],
   "source": [
    "train_df['Parch'].describe()"
   ]
  },
  {
   "cell_type": "code",
   "execution_count": 27,
   "id": "3555c24d",
   "metadata": {
    "execution": {
     "iopub.execute_input": "2022-03-13T13:05:10.177245Z",
     "iopub.status.busy": "2022-03-13T13:05:10.176197Z",
     "iopub.status.idle": "2022-03-13T13:05:10.180021Z",
     "shell.execute_reply": "2022-03-13T13:05:10.180494Z",
     "shell.execute_reply.started": "2022-03-13T12:57:23.672627Z"
    },
    "papermill": {
     "duration": 0.097001,
     "end_time": "2022-03-13T13:05:10.180674",
     "exception": false,
     "start_time": "2022-03-13T13:05:10.083673",
     "status": "completed"
    },
    "tags": []
   },
   "outputs": [
    {
     "data": {
      "text/plain": [
       "array([ 1,  0,  4,  2,  6,  5,  3,  7, 10])"
      ]
     },
     "execution_count": 27,
     "metadata": {},
     "output_type": "execute_result"
    }
   ],
   "source": [
    "data = [train_df, test_df]\n",
    "for dataset in data:\n",
    "    dataset['relatives'] = dataset['SibSp'] + dataset['Parch']\n",
    "    \n",
    "train_df['relatives'].unique()    "
   ]
  },
  {
   "cell_type": "code",
   "execution_count": 28,
   "id": "fc361d67",
   "metadata": {
    "execution": {
     "iopub.execute_input": "2022-03-13T13:05:10.351909Z",
     "iopub.status.busy": "2022-03-13T13:05:10.350865Z",
     "iopub.status.idle": "2022-03-13T13:05:11.081028Z",
     "shell.execute_reply": "2022-03-13T13:05:11.080453Z",
     "shell.execute_reply.started": "2022-03-13T12:57:23.693919Z"
    },
    "papermill": {
     "duration": 0.817624,
     "end_time": "2022-03-13T13:05:11.081212",
     "exception": false,
     "start_time": "2022-03-13T13:05:10.263588",
     "status": "completed"
    },
    "tags": []
   },
   "outputs": [
    {
     "data": {
      "image/png": "[encoded data removed]",
      "text/plain": [
       "<Figure size 1008x504 with 1 Axes>"
      ]
     },
     "metadata": {},
     "output_type": "display_data"
    }
   ],
   "source": [
    "g = sns.catplot(x=\"relatives\",y=\"Survived\",\n",
    "               data=train_df, kind=\"point\",height=7, aspect=2)"
   ]
  },
  {
   "cell_type": "code",
   "execution_count": 29,
   "id": "2d3c102d",
   "metadata": {
    "execution": {
     "iopub.execute_input": "2022-03-13T13:05:11.268727Z",
     "iopub.status.busy": "2022-03-13T13:05:11.265317Z",
     "iopub.status.idle": "2022-03-13T13:05:11.277938Z",
     "shell.execute_reply": "2022-03-13T13:05:11.277184Z",
     "shell.execute_reply.started": "2022-03-13T12:57:24.407254Z"
    },
    "papermill": {
     "duration": 0.11034,
     "end_time": "2022-03-13T13:05:11.278099",
     "exception": false,
     "start_time": "2022-03-13T13:05:11.167759",
     "status": "completed"
    },
    "tags": []
   },
   "outputs": [
    {
     "data": {
      "text/plain": [
       "count    891.000000\n",
       "mean       0.397306\n",
       "std        0.489615\n",
       "min        0.000000\n",
       "25%        0.000000\n",
       "50%        0.000000\n",
       "75%        1.000000\n",
       "max        1.000000\n",
       "Name: Alone, dtype: float64"
      ]
     },
     "execution_count": 29,
     "metadata": {},
     "output_type": "execute_result"
    }
   ],
   "source": [
    "data = [train_df,test_df]\n",
    "for dataset in data:\n",
    "    dataset.loc[dataset['relatives']==0,'Alone']= 0\n",
    "    dataset.loc[dataset['relatives']>0,'Alone']= 1\n",
    "    dataset['Alone'] = dataset['Alone'].astype(int)\n",
    "train_df['Alone'].describe()   "
   ]
  },
  {
   "cell_type": "code",
   "execution_count": 30,
   "id": "6bfbdfbd",
   "metadata": {
    "execution": {
     "iopub.execute_input": "2022-03-13T13:05:11.471707Z",
     "iopub.status.busy": "2022-03-13T13:05:11.456276Z",
     "iopub.status.idle": "2022-03-13T13:05:11.885289Z",
     "shell.execute_reply": "2022-03-13T13:05:11.885944Z",
     "shell.execute_reply.started": "2022-03-13T12:57:24.427405Z"
    },
    "papermill": {
     "duration": 0.523229,
     "end_time": "2022-03-13T13:05:11.886213",
     "exception": false,
     "start_time": "2022-03-13T13:05:11.362984",
     "status": "completed"
    },
    "tags": []
   },
   "outputs": [
    {
     "data": {
      "image/png": "[encoded data removed]",
      "text/plain": [
       "<Figure size 1008x504 with 1 Axes>"
      ]
     },
     "metadata": {},
     "output_type": "display_data"
    }
   ],
   "source": [
    "a = sns.catplot(x=\"Alone\",y=\"Survived\",\n",
    "               data=train_df, kind=\"point\",height=7, aspect=2)"
   ]
  },
  {
   "cell_type": "code",
   "execution_count": 31,
   "id": "eacdda59",
   "metadata": {
    "execution": {
     "iopub.execute_input": "2022-03-13T13:05:12.075104Z",
     "iopub.status.busy": "2022-03-13T13:05:12.074379Z",
     "iopub.status.idle": "2022-03-13T13:05:12.076257Z",
     "shell.execute_reply": "2022-03-13T13:05:12.076746Z",
     "shell.execute_reply.started": "2022-03-13T12:57:24.847017Z"
    },
    "papermill": {
     "duration": 0.098596,
     "end_time": "2022-03-13T13:05:12.076939",
     "exception": false,
     "start_time": "2022-03-13T13:05:11.978343",
     "status": "completed"
    },
    "tags": []
   },
   "outputs": [],
   "source": [
    "family_map = {0: 'Alone', 1: 'Small', 2: 'Small', 3: 'Small', 4: 'Medium', 5: 'Medium', 6: 'Medium', 7: 'Large', 10: 'Large'}\n",
    "data = [train_df,test_df]\n",
    "for dataset in data:\n",
    "    dataset['Family_size'] = dataset['relatives'].map(family_map)"
   ]
  },
  {
   "cell_type": "code",
   "execution_count": 32,
   "id": "b8397fb0",
   "metadata": {
    "execution": {
     "iopub.execute_input": "2022-03-13T13:05:12.263047Z",
     "iopub.status.busy": "2022-03-13T13:05:12.262001Z",
     "iopub.status.idle": "2022-03-13T13:05:12.537959Z",
     "shell.execute_reply": "2022-03-13T13:05:12.537231Z",
     "shell.execute_reply.started": "2022-03-13T12:57:24.857137Z"
    },
    "papermill": {
     "duration": 0.372855,
     "end_time": "2022-03-13T13:05:12.538172",
     "exception": false,
     "start_time": "2022-03-13T13:05:12.165317",
     "status": "completed"
    },
    "tags": []
   },
   "outputs": [
    {
     "data": {
      "text/plain": [
       "<AxesSubplot:xlabel='Family_size', ylabel='count'>"
      ]
     },
     "execution_count": 32,
     "metadata": {},
     "output_type": "execute_result"
    },
    {
     "data": {
      "image/png": "[encoded data removed]",
      "text/plain": [
       "<Figure size 432x288 with 1 Axes>"
      ]
     },
     "metadata": {},
     "output_type": "display_data"
    }
   ],
   "source": [
    "sns.countplot(x='Family_size', hue='Survived', data=train_df)"
   ]
  },
  {
   "cell_type": "markdown",
   "id": "2750a10d",
   "metadata": {
    "papermill": {
     "duration": 0.0934,
     "end_time": "2022-03-13T13:05:12.745246",
     "exception": false,
     "start_time": "2022-03-13T13:05:12.651846",
     "status": "completed"
    },
    "tags": []
   },
   "source": [
    "**Fare**"
   ]
  },
  {
   "cell_type": "code",
   "execution_count": 33,
   "id": "e2416a82",
   "metadata": {
    "execution": {
     "iopub.execute_input": "2022-03-13T13:05:12.960339Z",
     "iopub.status.busy": "2022-03-13T13:05:12.959302Z",
     "iopub.status.idle": "2022-03-13T13:05:12.968673Z",
     "shell.execute_reply": "2022-03-13T13:05:12.969327Z",
     "shell.execute_reply.started": "2022-03-13T12:57:25.140289Z"
    },
    "papermill": {
     "duration": 0.131759,
     "end_time": "2022-03-13T13:05:12.969522",
     "exception": false,
     "start_time": "2022-03-13T13:05:12.837763",
     "status": "completed"
    },
    "tags": []
   },
   "outputs": [
    {
     "data": {
      "text/plain": [
       "count    891.000000\n",
       "mean      32.204208\n",
       "std       49.693429\n",
       "min        0.000000\n",
       "25%        7.910400\n",
       "50%       14.454200\n",
       "75%       31.000000\n",
       "max      512.329200\n",
       "Name: Fare, dtype: float64"
      ]
     },
     "execution_count": 33,
     "metadata": {},
     "output_type": "execute_result"
    }
   ],
   "source": [
    "train_df['Fare'].describe()"
   ]
  },
  {
   "cell_type": "code",
   "execution_count": 34,
   "id": "b2d97905",
   "metadata": {
    "execution": {
     "iopub.execute_input": "2022-03-13T13:05:13.155533Z",
     "iopub.status.busy": "2022-03-13T13:05:13.154475Z",
     "iopub.status.idle": "2022-03-13T13:05:13.160631Z",
     "shell.execute_reply": "2022-03-13T13:05:13.161247Z",
     "shell.execute_reply.started": "2022-03-13T12:57:25.151380Z"
    },
    "papermill": {
     "duration": 0.101487,
     "end_time": "2022-03-13T13:05:13.161428",
     "exception": false,
     "start_time": "2022-03-13T13:05:13.059941",
     "status": "completed"
    },
    "tags": []
   },
   "outputs": [
    {
     "data": {
      "text/plain": [
       "248"
      ]
     },
     "execution_count": 34,
     "metadata": {},
     "output_type": "execute_result"
    }
   ],
   "source": [
    "len(train_df['Fare'].unique())"
   ]
  },
  {
   "cell_type": "code",
   "execution_count": 35,
   "id": "9a05c4b8",
   "metadata": {
    "execution": {
     "iopub.execute_input": "2022-03-13T13:05:13.352205Z",
     "iopub.status.busy": "2022-03-13T13:05:13.351433Z",
     "iopub.status.idle": "2022-03-13T13:05:13.362554Z",
     "shell.execute_reply": "2022-03-13T13:05:13.363109Z",
     "shell.execute_reply.started": "2022-03-13T12:57:25.160348Z"
    },
    "papermill": {
     "duration": 0.109061,
     "end_time": "2022-03-13T13:05:13.363293",
     "exception": false,
     "start_time": "2022-03-13T13:05:13.254232",
     "status": "completed"
    },
    "tags": []
   },
   "outputs": [
    {
     "data": {
      "text/plain": [
       "[(-0.001, 7.854], (39.688, 512.329], (7.854, 10.5], (10.5, 21.679], (21.679, 39.688]]\n",
       "Categories (5, interval[float64, right]): [(-0.001, 7.854] < (7.854, 10.5] < (10.5, 21.679] < (21.679, 39.688] < (39.688, 512.329]]"
      ]
     },
     "execution_count": 35,
     "metadata": {},
     "output_type": "execute_result"
    }
   ],
   "source": [
    "edg = pd.qcut(train_df['Fare'],5).unique()\n",
    "edg"
   ]
  },
  {
   "cell_type": "code",
   "execution_count": 36,
   "id": "8805f8d9",
   "metadata": {
    "execution": {
     "iopub.execute_input": "2022-03-13T13:05:13.557761Z",
     "iopub.status.busy": "2022-03-13T13:05:13.544945Z",
     "iopub.status.idle": "2022-03-13T13:05:13.821903Z",
     "shell.execute_reply": "2022-03-13T13:05:13.821098Z",
     "shell.execute_reply.started": "2022-03-13T12:57:25.181441Z"
    },
    "papermill": {
     "duration": 0.370248,
     "end_time": "2022-03-13T13:05:13.822080",
     "exception": false,
     "start_time": "2022-03-13T13:05:13.451832",
     "status": "completed"
    },
    "tags": []
   },
   "outputs": [
    {
     "data": {
      "image/png": "[encoded data removed]",
      "text/plain": [
       "<Figure size 1008x504 with 1 Axes>"
      ]
     },
     "metadata": {},
     "output_type": "display_data"
    }
   ],
   "source": [
    "plt.figure(figsize=(14,7))\n",
    "data = [train_df,test_df]\n",
    "for dataset in data:\n",
    "    edges = [-1,8,11,22,40,513]\n",
    "    dataset['Fare_range'] = pd.cut(dataset['Fare'],edges)\n",
    "sns.countplot(x = 'Fare_range',data = train_df, hue = 'Survived',palette = 'Set2')\n",
    "plt.legend(['Deceased','Survived'], loc = 'upper right')\n",
    "\n",
    "plt.show()"
   ]
  },
  {
   "cell_type": "markdown",
   "id": "dc086104",
   "metadata": {
    "papermill": {
     "duration": 0.089134,
     "end_time": "2022-03-13T13:05:14.003379",
     "exception": false,
     "start_time": "2022-03-13T13:05:13.914245",
     "status": "completed"
    },
    "tags": []
   },
   "source": [
    "**Embarked vs Survived**"
   ]
  },
  {
   "cell_type": "code",
   "execution_count": 37,
   "id": "9b1903d2",
   "metadata": {
    "execution": {
     "iopub.execute_input": "2022-03-13T13:05:14.204505Z",
     "iopub.status.busy": "2022-03-13T13:05:14.200114Z",
     "iopub.status.idle": "2022-03-13T13:05:14.924903Z",
     "shell.execute_reply": "2022-03-13T13:05:14.925357Z",
     "shell.execute_reply.started": "2022-03-13T12:57:25.453295Z"
    },
    "papermill": {
     "duration": 0.831287,
     "end_time": "2022-03-13T13:05:14.925551",
     "exception": false,
     "start_time": "2022-03-13T13:05:14.094264",
     "status": "completed"
    },
    "tags": []
   },
   "outputs": [
    {
     "data": {
      "text/plain": [
       "<seaborn.axisgrid.FacetGrid at 0x7f4c921d6750>"
      ]
     },
     "execution_count": 37,
     "metadata": {},
     "output_type": "execute_result"
    },
    {
     "data": {
      "image/png": "[encoded data removed]",
      "text/plain": [
       "<Figure size 781.55x360 with 2 Axes>"
      ]
     },
     "metadata": {},
     "output_type": "display_data"
    }
   ],
   "source": [
    "sns.catplot(x ='Embarked', hue ='Survived',\n",
    "kind ='count', col ='Sex', data = train_df)"
   ]
  },
  {
   "cell_type": "code",
   "execution_count": 38,
   "id": "c723a8fe",
   "metadata": {
    "execution": {
     "iopub.execute_input": "2022-03-13T13:05:15.117008Z",
     "iopub.status.busy": "2022-03-13T13:05:15.116007Z",
     "iopub.status.idle": "2022-03-13T13:05:15.131190Z",
     "shell.execute_reply": "2022-03-13T13:05:15.130492Z",
     "shell.execute_reply.started": "2022-03-13T12:57:26.134603Z"
    },
    "papermill": {
     "duration": 0.115037,
     "end_time": "2022-03-13T13:05:15.131339",
     "exception": false,
     "start_time": "2022-03-13T13:05:15.016302",
     "status": "completed"
    },
    "tags": []
   },
   "outputs": [
    {
     "name": "stdout",
     "output_type": "stream",
     "text": [
      "<class 'pandas.core.frame.DataFrame'>\n",
      "RangeIndex: 891 entries, 0 to 890\n",
      "Data columns (total 17 columns):\n",
      " #   Column       Non-Null Count  Dtype   \n",
      "---  ------       --------------  -----   \n",
      " 0   PassengerId  891 non-null    int64   \n",
      " 1   Survived     891 non-null    int64   \n",
      " 2   Pclass       891 non-null    int64   \n",
      " 3   Name         891 non-null    object  \n",
      " 4   Sex          891 non-null    object  \n",
      " 5   Age          891 non-null    float64 \n",
      " 6   SibSp        891 non-null    int64   \n",
      " 7   Parch        891 non-null    int64   \n",
      " 8   Ticket       891 non-null    object  \n",
      " 9   Fare         891 non-null    float64 \n",
      " 10  Cabin        204 non-null    object  \n",
      " 11  Embarked     891 non-null    object  \n",
      " 12  Age_range    891 non-null    category\n",
      " 13  relatives    891 non-null    int64   \n",
      " 14  Alone        891 non-null    int64   \n",
      " 15  Family_size  891 non-null    object  \n",
      " 16  Fare_range   891 non-null    category\n",
      "dtypes: category(2), float64(2), int64(7), object(6)\n",
      "memory usage: 106.8+ KB\n"
     ]
    }
   ],
   "source": [
    "train_df.info()"
   ]
  },
  {
   "cell_type": "code",
   "execution_count": 39,
   "id": "3bb2d9a6",
   "metadata": {
    "execution": {
     "iopub.execute_input": "2022-03-13T13:05:15.319997Z",
     "iopub.status.busy": "2022-03-13T13:05:15.319273Z",
     "iopub.status.idle": "2022-03-13T13:05:16.359365Z",
     "shell.execute_reply": "2022-03-13T13:05:16.358625Z",
     "shell.execute_reply.started": "2022-03-13T12:57:26.149974Z"
    },
    "papermill": {
     "duration": 1.136588,
     "end_time": "2022-03-13T13:05:16.359532",
     "exception": false,
     "start_time": "2022-03-13T13:05:15.222944",
     "status": "completed"
    },
    "tags": []
   },
   "outputs": [
    {
     "data": {
      "text/plain": [
       "<Figure size 1008x504 with 0 Axes>"
      ]
     },
     "metadata": {},
     "output_type": "display_data"
    },
    {
     "data": {
      "image/png": "[encoded data removed]",
      "text/plain": [
       "<Figure size 1141.55x360 with 3 Axes>"
      ]
     },
     "metadata": {},
     "output_type": "display_data"
    }
   ],
   "source": [
    "plt.figure(figsize=(14,7))\n",
    "sns.catplot(x ='Age_range', hue ='Survived',\n",
    "kind ='count', col ='Pclass', data = train_df)\n",
    "\n",
    "plt.show()"
   ]
  },
  {
   "cell_type": "markdown",
   "id": "9995a71a",
   "metadata": {
    "papermill": {
     "duration": 0.093054,
     "end_time": "2022-03-13T13:05:16.546622",
     "exception": false,
     "start_time": "2022-03-13T13:05:16.453568",
     "status": "completed"
    },
    "tags": []
   },
   "source": [
    "**Creating a new feature from Name**"
   ]
  },
  {
   "cell_type": "code",
   "execution_count": 40,
   "id": "d275b01c",
   "metadata": {
    "execution": {
     "iopub.execute_input": "2022-03-13T13:05:16.749657Z",
     "iopub.status.busy": "2022-03-13T13:05:16.748936Z",
     "iopub.status.idle": "2022-03-13T13:05:16.752612Z",
     "shell.execute_reply": "2022-03-13T13:05:16.751980Z",
     "shell.execute_reply.started": "2022-03-13T12:57:27.161934Z"
    },
    "papermill": {
     "duration": 0.110633,
     "end_time": "2022-03-13T13:05:16.752786",
     "exception": false,
     "start_time": "2022-03-13T13:05:16.642153",
     "status": "completed"
    },
    "tags": []
   },
   "outputs": [
    {
     "data": {
      "text/plain": [
       "Mr              517\n",
       "Miss            182\n",
       "Mrs             125\n",
       "Master           40\n",
       "Dr                7\n",
       "Rev               6\n",
       "Mlle              2\n",
       "Major             2\n",
       "Col               2\n",
       "the Countess      1\n",
       "Capt              1\n",
       "Ms                1\n",
       "Sir               1\n",
       "Lady              1\n",
       "Mme               1\n",
       "Don               1\n",
       "Jonkheer          1\n",
       "Name: Title, dtype: int64"
      ]
     },
     "execution_count": 40,
     "metadata": {},
     "output_type": "execute_result"
    }
   ],
   "source": [
    "data = [train_df,test_df]\n",
    "for dataset in data:\n",
    "    dataset['Title'] = dataset.Name.apply(lambda x: x.split(',')[1]\n",
    "                                                            .split('.')[0].strip())\n",
    "train_df['Title'].value_counts()"
   ]
  },
  {
   "cell_type": "code",
   "execution_count": 41,
   "id": "f53ec399",
   "metadata": {
    "execution": {
     "iopub.execute_input": "2022-03-13T13:05:16.944333Z",
     "iopub.status.busy": "2022-03-13T13:05:16.943656Z",
     "iopub.status.idle": "2022-03-13T13:05:17.200222Z",
     "shell.execute_reply": "2022-03-13T13:05:17.199649Z",
     "shell.execute_reply.started": "2022-03-13T12:57:27.178542Z"
    },
    "papermill": {
     "duration": 0.354921,
     "end_time": "2022-03-13T13:05:17.200389",
     "exception": false,
     "start_time": "2022-03-13T13:05:16.845468",
     "status": "completed"
    },
    "tags": []
   },
   "outputs": [
    {
     "data": {
      "image/png": "[encoded data removed]",
      "text/plain": [
       "<Figure size 1008x504 with 1 Axes>"
      ]
     },
     "metadata": {},
     "output_type": "display_data"
    }
   ],
   "source": [
    "plt.figure(figsize=(14,7))\n",
    "data = [train_df,test_df]\n",
    "for dataset in data:\n",
    "    dataset['Title'] = dataset['Title'].replace(['Miss', 'Mrs','Ms', 'Mlle', 'Lady', 'Mme', 'the Countess', 'Dona'], 'Miss/Mrs/Ms')\n",
    "    dataset['Title'] = dataset['Title'].replace(['Dr', 'Col', 'Major', 'Jonkheer', 'Capt', 'Sir', 'Don', 'Rev'], 'Dr/Military/Noble/Clergy')\n",
    "\n",
    "sns.countplot(x = 'Title',data = train_df, hue = 'Survived',palette = \"Paired\")\n",
    "plt.show()"
   ]
  },
  {
   "cell_type": "markdown",
   "id": "a4af043c",
   "metadata": {
    "papermill": {
     "duration": 0.09727,
     "end_time": "2022-03-13T13:05:17.393531",
     "exception": false,
     "start_time": "2022-03-13T13:05:17.296261",
     "status": "completed"
    },
    "tags": []
   },
   "source": [
    "**Converting the features**"
   ]
  },
  {
   "cell_type": "code",
   "execution_count": 42,
   "id": "95f4c283",
   "metadata": {
    "execution": {
     "iopub.execute_input": "2022-03-13T13:05:17.596857Z",
     "iopub.status.busy": "2022-03-13T13:05:17.596159Z",
     "iopub.status.idle": "2022-03-13T13:05:17.599891Z",
     "shell.execute_reply": "2022-03-13T13:05:17.599341Z",
     "shell.execute_reply.started": "2022-03-13T12:57:27.432297Z"
    },
    "papermill": {
     "duration": 0.109989,
     "end_time": "2022-03-13T13:05:17.600043",
     "exception": false,
     "start_time": "2022-03-13T13:05:17.490054",
     "status": "completed"
    },
    "tags": []
   },
   "outputs": [
    {
     "data": {
      "text/plain": [
       "array([0, 1, 2, 3])"
      ]
     },
     "execution_count": 42,
     "metadata": {},
     "output_type": "execute_result"
    }
   ],
   "source": [
    "data = [train_df,test_df]\n",
    "title_map = list(train_df['Title'].unique())\n",
    "dic = {title_map[i]:i for i in range(len(title_map))}\n",
    "for dataset in data:\n",
    "    dataset['Title']= dataset['Title'].map(dic)\n",
    "    \n",
    "train_df.Title.unique()    "
   ]
  },
  {
   "cell_type": "code",
   "execution_count": 43,
   "id": "28445711",
   "metadata": {
    "execution": {
     "iopub.execute_input": "2022-03-13T13:05:17.809272Z",
     "iopub.status.busy": "2022-03-13T13:05:17.801956Z",
     "iopub.status.idle": "2022-03-13T13:05:17.813416Z",
     "shell.execute_reply": "2022-03-13T13:05:17.812868Z",
     "shell.execute_reply.started": "2022-03-13T12:57:27.447369Z"
    },
    "papermill": {
     "duration": 0.116143,
     "end_time": "2022-03-13T13:05:17.813566",
     "exception": false,
     "start_time": "2022-03-13T13:05:17.697423",
     "status": "completed"
    },
    "tags": []
   },
   "outputs": [
    {
     "data": {
      "text/plain": [
       "0    1\n",
       "1    2\n",
       "2    1\n",
       "3    2\n",
       "4    2\n",
       "5    1\n",
       "6    3\n",
       "7    0\n",
       "8    1\n",
       "9    0\n",
       "Name: Age_range, dtype: category\n",
       "Categories (5, int64): [0 < 1 < 2 < 3 < 4]"
      ]
     },
     "execution_count": 43,
     "metadata": {},
     "output_type": "execute_result"
    }
   ],
   "source": [
    "age_range = list(train_df['Age_range'].unique())\n",
    "age_range.sort()\n",
    "dic = {age_range[i]:i for i in range(len(age_range))}\n",
    "data = [train_df,test_df]\n",
    "for dataset in data:\n",
    "    dataset['Age_range'] = dataset[\"Age_range\"].map(dic)\n",
    "    \n",
    "train_df['Age_range'].head(10)    "
   ]
  },
  {
   "cell_type": "code",
   "execution_count": 44,
   "id": "98d3bfdd",
   "metadata": {
    "execution": {
     "iopub.execute_input": "2022-03-13T13:05:18.017707Z",
     "iopub.status.busy": "2022-03-13T13:05:18.015677Z",
     "iopub.status.idle": "2022-03-13T13:05:18.022447Z",
     "shell.execute_reply": "2022-03-13T13:05:18.021800Z",
     "shell.execute_reply.started": "2022-03-13T12:57:27.474394Z"
    },
    "papermill": {
     "duration": 0.112965,
     "end_time": "2022-03-13T13:05:18.022596",
     "exception": false,
     "start_time": "2022-03-13T13:05:17.909631",
     "status": "completed"
    },
    "tags": []
   },
   "outputs": [
    {
     "data": {
      "text/plain": [
       "array([2, 0, 1])"
      ]
     },
     "execution_count": 44,
     "metadata": {},
     "output_type": "execute_result"
    }
   ],
   "source": [
    "embarked = list(train_df['Embarked'].unique())\n",
    "embarked.sort()\n",
    "dic = {embarked[i]:i for i in range(len(embarked))}\n",
    "data = [train_df,test_df]\n",
    "for dataset in data:\n",
    "    dataset['Embarked'] = dataset[\"Embarked\"].map(dic)\n",
    "train_df['Embarked'].unique()"
   ]
  },
  {
   "cell_type": "code",
   "execution_count": 45,
   "id": "1e288a51",
   "metadata": {
    "execution": {
     "iopub.execute_input": "2022-03-13T13:05:18.245224Z",
     "iopub.status.busy": "2022-03-13T13:05:18.244157Z",
     "iopub.status.idle": "2022-03-13T13:05:18.246222Z",
     "shell.execute_reply": "2022-03-13T13:05:18.246762Z",
     "shell.execute_reply.started": "2022-03-13T12:57:27.491450Z"
    },
    "papermill": {
     "duration": 0.127938,
     "end_time": "2022-03-13T13:05:18.247058",
     "exception": false,
     "start_time": "2022-03-13T13:05:18.119120",
     "status": "completed"
    },
    "tags": []
   },
   "outputs": [],
   "source": [
    "fare_range = list(train_df['Fare_range'].unique())\n",
    "dic = {fare_range[i]:i for i in range(len(fare_range))}\n",
    "data = [train_df,test_df]\n",
    "for dataset in data:\n",
    "    dataset['Fare_range'] = dataset['Fare_range'].map(dic)"
   ]
  },
  {
   "cell_type": "code",
   "execution_count": 46,
   "id": "19606fc6",
   "metadata": {
    "execution": {
     "iopub.execute_input": "2022-03-13T13:05:18.456431Z",
     "iopub.status.busy": "2022-03-13T13:05:18.455726Z",
     "iopub.status.idle": "2022-03-13T13:05:18.461883Z",
     "shell.execute_reply": "2022-03-13T13:05:18.461272Z",
     "shell.execute_reply.started": "2022-03-13T12:57:27.512397Z"
    },
    "papermill": {
     "duration": 0.108745,
     "end_time": "2022-03-13T13:05:18.462035",
     "exception": false,
     "start_time": "2022-03-13T13:05:18.353290",
     "status": "completed"
    },
    "tags": []
   },
   "outputs": [],
   "source": [
    "sex_map = {\"male\": 0,\"female\": 1}\n",
    "data = [train_df,test_df]\n",
    "for dataset in data:\n",
    "    dataset['Sex'] = dataset['Sex'].map(sex_map)\n",
    "        "
   ]
  },
  {
   "cell_type": "code",
   "execution_count": 47,
   "id": "975f58b7",
   "metadata": {
    "execution": {
     "iopub.execute_input": "2022-03-13T13:05:18.670918Z",
     "iopub.status.busy": "2022-03-13T13:05:18.669897Z",
     "iopub.status.idle": "2022-03-13T13:05:18.676801Z",
     "shell.execute_reply": "2022-03-13T13:05:18.676211Z",
     "shell.execute_reply.started": "2022-03-13T12:57:27.523177Z"
    },
    "papermill": {
     "duration": 0.113615,
     "end_time": "2022-03-13T13:05:18.676967",
     "exception": false,
     "start_time": "2022-03-13T13:05:18.563352",
     "status": "completed"
    },
    "tags": []
   },
   "outputs": [],
   "source": [
    "family_size=train_df['Family_size'].unique()\n",
    "family_map = {'Alone':0,'Large':1,'Medium':2,'Small':3}\n",
    "data = [train_df,test_df]\n",
    "for dataset in data:\n",
    "    dataset['Family_size']= dataset['Family_size'].map(family_map) "
   ]
  },
  {
   "cell_type": "markdown",
   "id": "5bc6d711",
   "metadata": {
    "papermill": {
     "duration": 0.099709,
     "end_time": "2022-03-13T13:05:18.876624",
     "exception": false,
     "start_time": "2022-03-13T13:05:18.776915",
     "status": "completed"
    },
    "tags": []
   },
   "source": [
    "**Creating a new feature from Age and Pclass column**"
   ]
  },
  {
   "cell_type": "code",
   "execution_count": 48,
   "id": "6c4241e8",
   "metadata": {
    "execution": {
     "iopub.execute_input": "2022-03-13T13:05:19.123090Z",
     "iopub.status.busy": "2022-03-13T13:05:19.121301Z",
     "iopub.status.idle": "2022-03-13T13:05:19.127138Z",
     "shell.execute_reply": "2022-03-13T13:05:19.126411Z",
     "shell.execute_reply.started": "2022-03-13T12:57:27.537167Z"
    },
    "papermill": {
     "duration": 0.148589,
     "end_time": "2022-03-13T13:05:19.127295",
     "exception": false,
     "start_time": "2022-03-13T13:05:18.978706",
     "status": "completed"
    },
    "tags": []
   },
   "outputs": [],
   "source": [
    "data = [train_df,test_df]\n",
    "for dataset in data:\n",
    "    ra = list(dataset['Age_range'].unique())\n",
    "    pc = list(dataset['Pclass'].unique())\n",
    "    d= 0 \n",
    "    for i in range(len(pc)):\n",
    "        c = 0\n",
    "        for j in range(len(ra)):\n",
    "            dataset.loc[(dataset['Age_range']==ra[j]) & (dataset['Pclass']==pc[i]),'Age_class'] = c + d\n",
    "            c += 1\n",
    "        d += 5  \n",
    "        \n",
    "    dataset['Age_class'] = dataset['Age_class'].astype(int)        "
   ]
  },
  {
   "cell_type": "markdown",
   "id": "ceb7c626",
   "metadata": {
    "papermill": {
     "duration": 0.104517,
     "end_time": "2022-03-13T13:05:19.331000",
     "exception": false,
     "start_time": "2022-03-13T13:05:19.226483",
     "status": "completed"
    },
    "tags": []
   },
   "source": [
    "**Ticket and Cabin**"
   ]
  },
  {
   "cell_type": "code",
   "execution_count": 49,
   "id": "d9629a4f",
   "metadata": {
    "execution": {
     "iopub.execute_input": "2022-03-13T13:05:19.538017Z",
     "iopub.status.busy": "2022-03-13T13:05:19.537330Z",
     "iopub.status.idle": "2022-03-13T13:05:19.541187Z",
     "shell.execute_reply": "2022-03-13T13:05:19.540600Z",
     "shell.execute_reply.started": "2022-03-13T12:57:27.576206Z"
    },
    "papermill": {
     "duration": 0.106756,
     "end_time": "2022-03-13T13:05:19.541344",
     "exception": false,
     "start_time": "2022-03-13T13:05:19.434588",
     "status": "completed"
    },
    "tags": []
   },
   "outputs": [
    {
     "data": {
      "text/plain": [
       "count        891\n",
       "unique       681\n",
       "top       347082\n",
       "freq           7\n",
       "Name: Ticket, dtype: object"
      ]
     },
     "execution_count": 49,
     "metadata": {},
     "output_type": "execute_result"
    }
   ],
   "source": [
    "train_df['Ticket'].describe()"
   ]
  },
  {
   "cell_type": "code",
   "execution_count": 50,
   "id": "80506a4c",
   "metadata": {
    "execution": {
     "iopub.execute_input": "2022-03-13T13:05:19.745214Z",
     "iopub.status.busy": "2022-03-13T13:05:19.744431Z",
     "iopub.status.idle": "2022-03-13T13:05:19.750570Z",
     "shell.execute_reply": "2022-03-13T13:05:19.749896Z",
     "shell.execute_reply.started": "2022-03-13T12:57:27.586789Z"
    },
    "papermill": {
     "duration": 0.113449,
     "end_time": "2022-03-13T13:05:19.750716",
     "exception": false,
     "start_time": "2022-03-13T13:05:19.637267",
     "status": "completed"
    },
    "tags": []
   },
   "outputs": [
    {
     "data": {
      "text/plain": [
       "count         204\n",
       "unique        147\n",
       "top       B96 B98\n",
       "freq            4\n",
       "Name: Cabin, dtype: object"
      ]
     },
     "execution_count": 50,
     "metadata": {},
     "output_type": "execute_result"
    }
   ],
   "source": [
    "train_df['Cabin'].describe()"
   ]
  },
  {
   "cell_type": "markdown",
   "id": "15b80e2d",
   "metadata": {
    "papermill": {
     "duration": 0.099751,
     "end_time": "2022-03-13T13:05:19.947294",
     "exception": false,
     "start_time": "2022-03-13T13:05:19.847543",
     "status": "completed"
    },
    "tags": []
   },
   "source": [
    "Since cabin has lots of missing values and ticket has many unique values so dropping these two column."
   ]
  },
  {
   "cell_type": "code",
   "execution_count": 51,
   "id": "ec932ff5",
   "metadata": {
    "execution": {
     "iopub.execute_input": "2022-03-13T13:05:20.156479Z",
     "iopub.status.busy": "2022-03-13T13:05:20.155730Z",
     "iopub.status.idle": "2022-03-13T13:05:20.160692Z",
     "shell.execute_reply": "2022-03-13T13:05:20.161366Z",
     "shell.execute_reply.started": "2022-03-13T12:57:27.600961Z"
    },
    "papermill": {
     "duration": 0.114567,
     "end_time": "2022-03-13T13:05:20.161575",
     "exception": false,
     "start_time": "2022-03-13T13:05:20.047008",
     "status": "completed"
    },
    "tags": []
   },
   "outputs": [],
   "source": [
    "train_df=train_df.drop(['Cabin','Ticket'],axis = 1)\n",
    "test_df=test_df.drop(['Cabin','Ticket'],axis = 1)"
   ]
  },
  {
   "cell_type": "code",
   "execution_count": 52,
   "id": "6b6371e9",
   "metadata": {
    "execution": {
     "iopub.execute_input": "2022-03-13T13:05:20.361971Z",
     "iopub.status.busy": "2022-03-13T13:05:20.361274Z",
     "iopub.status.idle": "2022-03-13T13:05:20.381901Z",
     "shell.execute_reply": "2022-03-13T13:05:20.380944Z",
     "shell.execute_reply.started": "2022-03-13T12:57:27.615078Z"
    },
    "papermill": {
     "duration": 0.121764,
     "end_time": "2022-03-13T13:05:20.382191",
     "exception": false,
     "start_time": "2022-03-13T13:05:20.260427",
     "status": "completed"
    },
    "tags": []
   },
   "outputs": [
    {
     "name": "stdout",
     "output_type": "stream",
     "text": [
      "<class 'pandas.core.frame.DataFrame'>\n",
      "RangeIndex: 891 entries, 0 to 890\n",
      "Data columns (total 17 columns):\n",
      " #   Column       Non-Null Count  Dtype   \n",
      "---  ------       --------------  -----   \n",
      " 0   PassengerId  891 non-null    int64   \n",
      " 1   Survived     891 non-null    int64   \n",
      " 2   Pclass       891 non-null    int64   \n",
      " 3   Name         891 non-null    object  \n",
      " 4   Sex          891 non-null    int64   \n",
      " 5   Age          891 non-null    float64 \n",
      " 6   SibSp        891 non-null    int64   \n",
      " 7   Parch        891 non-null    int64   \n",
      " 8   Fare         891 non-null    float64 \n",
      " 9   Embarked     891 non-null    int64   \n",
      " 10  Age_range    891 non-null    category\n",
      " 11  relatives    891 non-null    int64   \n",
      " 12  Alone        891 non-null    int64   \n",
      " 13  Family_size  891 non-null    int64   \n",
      " 14  Fare_range   891 non-null    category\n",
      " 15  Title        891 non-null    int64   \n",
      " 16  Age_class    891 non-null    int64   \n",
      "dtypes: category(2), float64(2), int64(12), object(1)\n",
      "memory usage: 106.7+ KB\n"
     ]
    }
   ],
   "source": [
    "train_df.info()"
   ]
  },
  {
   "cell_type": "code",
   "execution_count": 53,
   "id": "1483f826",
   "metadata": {
    "execution": {
     "iopub.execute_input": "2022-03-13T13:05:20.582293Z",
     "iopub.status.busy": "2022-03-13T13:05:20.581617Z",
     "iopub.status.idle": "2022-03-13T13:05:20.598277Z",
     "shell.execute_reply": "2022-03-13T13:05:20.599005Z",
     "shell.execute_reply.started": "2022-03-13T12:57:27.635275Z"
    },
    "papermill": {
     "duration": 0.11896,
     "end_time": "2022-03-13T13:05:20.599186",
     "exception": false,
     "start_time": "2022-03-13T13:05:20.480226",
     "status": "completed"
    },
    "tags": []
   },
   "outputs": [
    {
     "name": "stdout",
     "output_type": "stream",
     "text": [
      "<class 'pandas.core.frame.DataFrame'>\n",
      "RangeIndex: 418 entries, 0 to 417\n",
      "Data columns (total 16 columns):\n",
      " #   Column       Non-Null Count  Dtype   \n",
      "---  ------       --------------  -----   \n",
      " 0   PassengerId  418 non-null    int64   \n",
      " 1   Pclass       418 non-null    int64   \n",
      " 2   Name         418 non-null    object  \n",
      " 3   Sex          418 non-null    int64   \n",
      " 4   Age          418 non-null    float64 \n",
      " 5   SibSp        418 non-null    int64   \n",
      " 6   Parch        418 non-null    int64   \n",
      " 7   Fare         418 non-null    float64 \n",
      " 8   Embarked     418 non-null    int64   \n",
      " 9   Age_range    418 non-null    category\n",
      " 10  relatives    418 non-null    int64   \n",
      " 11  Alone        418 non-null    int64   \n",
      " 12  Family_size  418 non-null    int64   \n",
      " 13  Fare_range   418 non-null    category\n",
      " 14  Title        418 non-null    int64   \n",
      " 15  Age_class    418 non-null    int64   \n",
      "dtypes: category(2), float64(2), int64(11), object(1)\n",
      "memory usage: 47.1+ KB\n"
     ]
    }
   ],
   "source": [
    "test_df.info()"
   ]
  },
  {
   "cell_type": "markdown",
   "id": "a9231e8b",
   "metadata": {
    "papermill": {
     "duration": 0.096059,
     "end_time": "2022-03-13T13:05:20.795574",
     "exception": false,
     "start_time": "2022-03-13T13:05:20.699515",
     "status": "completed"
    },
    "tags": []
   },
   "source": [
    "# Model Development"
   ]
  },
  {
   "cell_type": "code",
   "execution_count": 54,
   "id": "e6832fe8",
   "metadata": {
    "execution": {
     "iopub.execute_input": "2022-03-13T13:05:20.995048Z",
     "iopub.status.busy": "2022-03-13T13:05:20.994284Z",
     "iopub.status.idle": "2022-03-13T13:05:21.011915Z",
     "shell.execute_reply": "2022-03-13T13:05:21.012519Z",
     "shell.execute_reply.started": "2022-03-13T12:57:27.653166Z"
    },
    "papermill": {
     "duration": 0.116084,
     "end_time": "2022-03-13T13:05:21.012705",
     "exception": false,
     "start_time": "2022-03-13T13:05:20.896621",
     "status": "completed"
    },
    "tags": []
   },
   "outputs": [
    {
     "data": {
      "text/html": [
       "<div>\n",
       "<style scoped>\n",
       "    .dataframe tbody tr th:only-of-type {\n",
       "        vertical-align: middle;\n",
       "    }\n",
       "\n",
       "    .dataframe tbody tr th {\n",
       "        vertical-align: top;\n",
       "    }\n",
       "\n",
       "    .dataframe thead th {\n",
       "        text-align: right;\n",
       "    }\n",
       "</style>\n",
       "<table border=\"1\" class=\"dataframe\">\n",
       "  <thead>\n",
       "    <tr style=\"text-align: right;\">\n",
       "      <th></th>\n",
       "      <th>Survived</th>\n",
       "      <th>Pclass</th>\n",
       "      <th>Sex</th>\n",
       "      <th>SibSp</th>\n",
       "      <th>Parch</th>\n",
       "      <th>Embarked</th>\n",
       "      <th>Age_range</th>\n",
       "      <th>relatives</th>\n",
       "      <th>Alone</th>\n",
       "      <th>Family_size</th>\n",
       "      <th>Fare_range</th>\n",
       "      <th>Title</th>\n",
       "      <th>Age_class</th>\n",
       "    </tr>\n",
       "  </thead>\n",
       "  <tbody>\n",
       "    <tr>\n",
       "      <th>0</th>\n",
       "      <td>0</td>\n",
       "      <td>3</td>\n",
       "      <td>0</td>\n",
       "      <td>1</td>\n",
       "      <td>0</td>\n",
       "      <td>2</td>\n",
       "      <td>1</td>\n",
       "      <td>1</td>\n",
       "      <td>1</td>\n",
       "      <td>3</td>\n",
       "      <td>0</td>\n",
       "      <td>0</td>\n",
       "      <td>0</td>\n",
       "    </tr>\n",
       "    <tr>\n",
       "      <th>1</th>\n",
       "      <td>1</td>\n",
       "      <td>1</td>\n",
       "      <td>1</td>\n",
       "      <td>1</td>\n",
       "      <td>0</td>\n",
       "      <td>0</td>\n",
       "      <td>2</td>\n",
       "      <td>1</td>\n",
       "      <td>1</td>\n",
       "      <td>3</td>\n",
       "      <td>1</td>\n",
       "      <td>1</td>\n",
       "      <td>6</td>\n",
       "    </tr>\n",
       "    <tr>\n",
       "      <th>2</th>\n",
       "      <td>1</td>\n",
       "      <td>3</td>\n",
       "      <td>1</td>\n",
       "      <td>0</td>\n",
       "      <td>0</td>\n",
       "      <td>2</td>\n",
       "      <td>1</td>\n",
       "      <td>0</td>\n",
       "      <td>0</td>\n",
       "      <td>0</td>\n",
       "      <td>0</td>\n",
       "      <td>1</td>\n",
       "      <td>0</td>\n",
       "    </tr>\n",
       "    <tr>\n",
       "      <th>3</th>\n",
       "      <td>1</td>\n",
       "      <td>1</td>\n",
       "      <td>1</td>\n",
       "      <td>1</td>\n",
       "      <td>0</td>\n",
       "      <td>2</td>\n",
       "      <td>2</td>\n",
       "      <td>1</td>\n",
       "      <td>1</td>\n",
       "      <td>3</td>\n",
       "      <td>1</td>\n",
       "      <td>1</td>\n",
       "      <td>6</td>\n",
       "    </tr>\n",
       "    <tr>\n",
       "      <th>4</th>\n",
       "      <td>0</td>\n",
       "      <td>3</td>\n",
       "      <td>0</td>\n",
       "      <td>0</td>\n",
       "      <td>0</td>\n",
       "      <td>2</td>\n",
       "      <td>2</td>\n",
       "      <td>0</td>\n",
       "      <td>0</td>\n",
       "      <td>0</td>\n",
       "      <td>2</td>\n",
       "      <td>0</td>\n",
       "      <td>1</td>\n",
       "    </tr>\n",
       "    <tr>\n",
       "      <th>5</th>\n",
       "      <td>0</td>\n",
       "      <td>3</td>\n",
       "      <td>0</td>\n",
       "      <td>0</td>\n",
       "      <td>0</td>\n",
       "      <td>1</td>\n",
       "      <td>1</td>\n",
       "      <td>0</td>\n",
       "      <td>0</td>\n",
       "      <td>0</td>\n",
       "      <td>2</td>\n",
       "      <td>0</td>\n",
       "      <td>0</td>\n",
       "    </tr>\n",
       "    <tr>\n",
       "      <th>6</th>\n",
       "      <td>0</td>\n",
       "      <td>1</td>\n",
       "      <td>0</td>\n",
       "      <td>0</td>\n",
       "      <td>0</td>\n",
       "      <td>2</td>\n",
       "      <td>3</td>\n",
       "      <td>0</td>\n",
       "      <td>0</td>\n",
       "      <td>0</td>\n",
       "      <td>1</td>\n",
       "      <td>0</td>\n",
       "      <td>7</td>\n",
       "    </tr>\n",
       "    <tr>\n",
       "      <th>7</th>\n",
       "      <td>0</td>\n",
       "      <td>3</td>\n",
       "      <td>0</td>\n",
       "      <td>3</td>\n",
       "      <td>1</td>\n",
       "      <td>2</td>\n",
       "      <td>0</td>\n",
       "      <td>4</td>\n",
       "      <td>1</td>\n",
       "      <td>2</td>\n",
       "      <td>3</td>\n",
       "      <td>2</td>\n",
       "      <td>3</td>\n",
       "    </tr>\n",
       "    <tr>\n",
       "      <th>8</th>\n",
       "      <td>1</td>\n",
       "      <td>3</td>\n",
       "      <td>1</td>\n",
       "      <td>0</td>\n",
       "      <td>2</td>\n",
       "      <td>2</td>\n",
       "      <td>1</td>\n",
       "      <td>2</td>\n",
       "      <td>1</td>\n",
       "      <td>3</td>\n",
       "      <td>3</td>\n",
       "      <td>1</td>\n",
       "      <td>0</td>\n",
       "    </tr>\n",
       "    <tr>\n",
       "      <th>9</th>\n",
       "      <td>1</td>\n",
       "      <td>2</td>\n",
       "      <td>1</td>\n",
       "      <td>1</td>\n",
       "      <td>0</td>\n",
       "      <td>0</td>\n",
       "      <td>0</td>\n",
       "      <td>1</td>\n",
       "      <td>1</td>\n",
       "      <td>3</td>\n",
       "      <td>4</td>\n",
       "      <td>1</td>\n",
       "      <td>13</td>\n",
       "    </tr>\n",
       "  </tbody>\n",
       "</table>\n",
       "</div>"
      ],
      "text/plain": [
       "   Survived  Pclass  Sex  SibSp  Parch  Embarked Age_range  relatives  Alone  \\\n",
       "0         0       3    0      1      0         2         1          1      1   \n",
       "1         1       1    1      1      0         0         2          1      1   \n",
       "2         1       3    1      0      0         2         1          0      0   \n",
       "3         1       1    1      1      0         2         2          1      1   \n",
       "4         0       3    0      0      0         2         2          0      0   \n",
       "5         0       3    0      0      0         1         1          0      0   \n",
       "6         0       1    0      0      0         2         3          0      0   \n",
       "7         0       3    0      3      1         2         0          4      1   \n",
       "8         1       3    1      0      2         2         1          2      1   \n",
       "9         1       2    1      1      0         0         0          1      1   \n",
       "\n",
       "   Family_size Fare_range  Title  Age_class  \n",
       "0            3          0      0          0  \n",
       "1            3          1      1          6  \n",
       "2            0          0      1          0  \n",
       "3            3          1      1          6  \n",
       "4            0          2      0          1  \n",
       "5            0          2      0          0  \n",
       "6            0          1      0          7  \n",
       "7            2          3      2          3  \n",
       "8            3          3      1          0  \n",
       "9            3          4      1         13  "
      ]
     },
     "execution_count": 54,
     "metadata": {},
     "output_type": "execute_result"
    }
   ],
   "source": [
    "test_pass_id = test_df['PassengerId'].copy()\n",
    "drop_cols = ['PassengerId','Name','Age','Fare']\n",
    "data = [train_df,test_df]\n",
    "for dataset in data:\n",
    "    dataset.drop(columns=drop_cols, inplace=True)\n",
    "train_df.head(10)   "
   ]
  },
  {
   "cell_type": "code",
   "execution_count": 55,
   "id": "b65e348f",
   "metadata": {
    "execution": {
     "iopub.execute_input": "2022-03-13T13:05:21.210229Z",
     "iopub.status.busy": "2022-03-13T13:05:21.209533Z",
     "iopub.status.idle": "2022-03-13T13:05:21.224539Z",
     "shell.execute_reply": "2022-03-13T13:05:21.225090Z",
     "shell.execute_reply.started": "2022-03-13T12:57:27.680478Z"
    },
    "papermill": {
     "duration": 0.116023,
     "end_time": "2022-03-13T13:05:21.225283",
     "exception": false,
     "start_time": "2022-03-13T13:05:21.109260",
     "status": "completed"
    },
    "tags": []
   },
   "outputs": [
    {
     "data": {
      "text/html": [
       "<div>\n",
       "<style scoped>\n",
       "    .dataframe tbody tr th:only-of-type {\n",
       "        vertical-align: middle;\n",
       "    }\n",
       "\n",
       "    .dataframe tbody tr th {\n",
       "        vertical-align: top;\n",
       "    }\n",
       "\n",
       "    .dataframe thead th {\n",
       "        text-align: right;\n",
       "    }\n",
       "</style>\n",
       "<table border=\"1\" class=\"dataframe\">\n",
       "  <thead>\n",
       "    <tr style=\"text-align: right;\">\n",
       "      <th></th>\n",
       "      <th>Pclass</th>\n",
       "      <th>Sex</th>\n",
       "      <th>SibSp</th>\n",
       "      <th>Parch</th>\n",
       "      <th>Embarked</th>\n",
       "      <th>Age_range</th>\n",
       "      <th>relatives</th>\n",
       "      <th>Alone</th>\n",
       "      <th>Family_size</th>\n",
       "      <th>Fare_range</th>\n",
       "      <th>Title</th>\n",
       "      <th>Age_class</th>\n",
       "    </tr>\n",
       "  </thead>\n",
       "  <tbody>\n",
       "    <tr>\n",
       "      <th>0</th>\n",
       "      <td>3</td>\n",
       "      <td>0</td>\n",
       "      <td>0</td>\n",
       "      <td>0</td>\n",
       "      <td>1</td>\n",
       "      <td>2</td>\n",
       "      <td>0</td>\n",
       "      <td>0</td>\n",
       "      <td>0</td>\n",
       "      <td>0</td>\n",
       "      <td>0</td>\n",
       "      <td>0</td>\n",
       "    </tr>\n",
       "    <tr>\n",
       "      <th>1</th>\n",
       "      <td>3</td>\n",
       "      <td>1</td>\n",
       "      <td>1</td>\n",
       "      <td>0</td>\n",
       "      <td>2</td>\n",
       "      <td>2</td>\n",
       "      <td>1</td>\n",
       "      <td>1</td>\n",
       "      <td>3</td>\n",
       "      <td>0</td>\n",
       "      <td>1</td>\n",
       "      <td>0</td>\n",
       "    </tr>\n",
       "    <tr>\n",
       "      <th>2</th>\n",
       "      <td>2</td>\n",
       "      <td>0</td>\n",
       "      <td>0</td>\n",
       "      <td>0</td>\n",
       "      <td>1</td>\n",
       "      <td>3</td>\n",
       "      <td>0</td>\n",
       "      <td>0</td>\n",
       "      <td>0</td>\n",
       "      <td>2</td>\n",
       "      <td>0</td>\n",
       "      <td>6</td>\n",
       "    </tr>\n",
       "    <tr>\n",
       "      <th>3</th>\n",
       "      <td>3</td>\n",
       "      <td>0</td>\n",
       "      <td>0</td>\n",
       "      <td>0</td>\n",
       "      <td>2</td>\n",
       "      <td>1</td>\n",
       "      <td>0</td>\n",
       "      <td>0</td>\n",
       "      <td>0</td>\n",
       "      <td>2</td>\n",
       "      <td>0</td>\n",
       "      <td>2</td>\n",
       "    </tr>\n",
       "    <tr>\n",
       "      <th>4</th>\n",
       "      <td>3</td>\n",
       "      <td>1</td>\n",
       "      <td>1</td>\n",
       "      <td>1</td>\n",
       "      <td>2</td>\n",
       "      <td>1</td>\n",
       "      <td>2</td>\n",
       "      <td>1</td>\n",
       "      <td>3</td>\n",
       "      <td>3</td>\n",
       "      <td>1</td>\n",
       "      <td>2</td>\n",
       "    </tr>\n",
       "    <tr>\n",
       "      <th>5</th>\n",
       "      <td>3</td>\n",
       "      <td>0</td>\n",
       "      <td>0</td>\n",
       "      <td>0</td>\n",
       "      <td>2</td>\n",
       "      <td>0</td>\n",
       "      <td>0</td>\n",
       "      <td>0</td>\n",
       "      <td>0</td>\n",
       "      <td>2</td>\n",
       "      <td>0</td>\n",
       "      <td>3</td>\n",
       "    </tr>\n",
       "    <tr>\n",
       "      <th>6</th>\n",
       "      <td>3</td>\n",
       "      <td>1</td>\n",
       "      <td>0</td>\n",
       "      <td>0</td>\n",
       "      <td>1</td>\n",
       "      <td>1</td>\n",
       "      <td>0</td>\n",
       "      <td>0</td>\n",
       "      <td>0</td>\n",
       "      <td>0</td>\n",
       "      <td>1</td>\n",
       "      <td>2</td>\n",
       "    </tr>\n",
       "    <tr>\n",
       "      <th>7</th>\n",
       "      <td>2</td>\n",
       "      <td>0</td>\n",
       "      <td>1</td>\n",
       "      <td>1</td>\n",
       "      <td>2</td>\n",
       "      <td>1</td>\n",
       "      <td>2</td>\n",
       "      <td>1</td>\n",
       "      <td>3</td>\n",
       "      <td>4</td>\n",
       "      <td>0</td>\n",
       "      <td>7</td>\n",
       "    </tr>\n",
       "    <tr>\n",
       "      <th>8</th>\n",
       "      <td>3</td>\n",
       "      <td>1</td>\n",
       "      <td>0</td>\n",
       "      <td>0</td>\n",
       "      <td>0</td>\n",
       "      <td>1</td>\n",
       "      <td>0</td>\n",
       "      <td>0</td>\n",
       "      <td>0</td>\n",
       "      <td>0</td>\n",
       "      <td>1</td>\n",
       "      <td>2</td>\n",
       "    </tr>\n",
       "    <tr>\n",
       "      <th>9</th>\n",
       "      <td>3</td>\n",
       "      <td>0</td>\n",
       "      <td>2</td>\n",
       "      <td>0</td>\n",
       "      <td>2</td>\n",
       "      <td>1</td>\n",
       "      <td>2</td>\n",
       "      <td>1</td>\n",
       "      <td>3</td>\n",
       "      <td>4</td>\n",
       "      <td>0</td>\n",
       "      <td>2</td>\n",
       "    </tr>\n",
       "  </tbody>\n",
       "</table>\n",
       "</div>"
      ],
      "text/plain": [
       "   Pclass  Sex  SibSp  Parch  Embarked Age_range  relatives  Alone  \\\n",
       "0       3    0      0      0         1         2          0      0   \n",
       "1       3    1      1      0         2         2          1      1   \n",
       "2       2    0      0      0         1         3          0      0   \n",
       "3       3    0      0      0         2         1          0      0   \n",
       "4       3    1      1      1         2         1          2      1   \n",
       "5       3    0      0      0         2         0          0      0   \n",
       "6       3    1      0      0         1         1          0      0   \n",
       "7       2    0      1      1         2         1          2      1   \n",
       "8       3    1      0      0         0         1          0      0   \n",
       "9       3    0      2      0         2         1          2      1   \n",
       "\n",
       "   Family_size Fare_range  Title  Age_class  \n",
       "0            0          0      0          0  \n",
       "1            3          0      1          0  \n",
       "2            0          2      0          6  \n",
       "3            0          2      0          2  \n",
       "4            3          3      1          2  \n",
       "5            0          2      0          3  \n",
       "6            0          0      1          2  \n",
       "7            3          4      0          7  \n",
       "8            0          0      1          2  \n",
       "9            3          4      0          2  "
      ]
     },
     "execution_count": 55,
     "metadata": {},
     "output_type": "execute_result"
    }
   ],
   "source": [
    "test_df.head(10)"
   ]
  },
  {
   "cell_type": "code",
   "execution_count": 56,
   "id": "34071659",
   "metadata": {
    "execution": {
     "iopub.execute_input": "2022-03-13T13:05:21.433677Z",
     "iopub.status.busy": "2022-03-13T13:05:21.432955Z",
     "iopub.status.idle": "2022-03-13T13:05:21.437823Z",
     "shell.execute_reply": "2022-03-13T13:05:21.438360Z",
     "shell.execute_reply.started": "2022-03-13T12:57:27.699012Z"
    },
    "papermill": {
     "duration": 0.112854,
     "end_time": "2022-03-13T13:05:21.438560",
     "exception": false,
     "start_time": "2022-03-13T13:05:21.325706",
     "status": "completed"
    },
    "tags": []
   },
   "outputs": [],
   "source": [
    "X_train = train_df.drop(\"Survived\", axis=1)\n",
    "Y_train = train_df[\"Survived\"]\n",
    "X_test  = test_df"
   ]
  },
  {
   "cell_type": "markdown",
   "id": "6550bc30",
   "metadata": {
    "papermill": {
     "duration": 0.102134,
     "end_time": "2022-03-13T13:05:21.640663",
     "exception": false,
     "start_time": "2022-03-13T13:05:21.538529",
     "status": "completed"
    },
    "tags": []
   },
   "source": [
    "**Random Forest**"
   ]
  },
  {
   "cell_type": "code",
   "execution_count": 57,
   "id": "eced7147",
   "metadata": {
    "execution": {
     "iopub.execute_input": "2022-03-13T13:05:21.838248Z",
     "iopub.status.busy": "2022-03-13T13:05:21.837585Z",
     "iopub.status.idle": "2022-03-13T13:05:22.140031Z",
     "shell.execute_reply": "2022-03-13T13:05:22.139404Z",
     "shell.execute_reply.started": "2022-03-13T12:57:27.706810Z"
    },
    "papermill": {
     "duration": 0.401802,
     "end_time": "2022-03-13T13:05:22.140186",
     "exception": false,
     "start_time": "2022-03-13T13:05:21.738384",
     "status": "completed"
    },
    "tags": []
   },
   "outputs": [],
   "source": [
    "random_forest = RandomForestClassifier(n_estimators=100)\n",
    "random_forest.fit(X_train, Y_train)\n",
    "\n",
    "Y_pred = random_forest.predict(X_test)\n",
    "\n",
    "random_forest.score(X_train, Y_train)\n",
    "score_random_forest = round(random_forest.score(X_train, Y_train), 3)"
   ]
  },
  {
   "cell_type": "markdown",
   "id": "64a8d350",
   "metadata": {
    "papermill": {
     "duration": 0.101077,
     "end_time": "2022-03-13T13:05:22.340645",
     "exception": false,
     "start_time": "2022-03-13T13:05:22.239568",
     "status": "completed"
    },
    "tags": []
   },
   "source": [
    "**Logistic Regression**"
   ]
  },
  {
   "cell_type": "code",
   "execution_count": 58,
   "id": "230e9fdf",
   "metadata": {
    "execution": {
     "iopub.execute_input": "2022-03-13T13:05:22.551582Z",
     "iopub.status.busy": "2022-03-13T13:05:22.549592Z",
     "iopub.status.idle": "2022-03-13T13:05:22.592685Z",
     "shell.execute_reply": "2022-03-13T13:05:22.593644Z",
     "shell.execute_reply.started": "2022-03-13T12:57:28.015105Z"
    },
    "papermill": {
     "duration": 0.155255,
     "end_time": "2022-03-13T13:05:22.593956",
     "exception": false,
     "start_time": "2022-03-13T13:05:22.438701",
     "status": "completed"
    },
    "tags": []
   },
   "outputs": [],
   "source": [
    "logreg = LogisticRegression()\n",
    "logreg.fit(X_train, Y_train)\n",
    "\n",
    "Y_pred = logreg.predict(X_test)\n",
    "\n",
    "score_log = round(logreg.score(X_train, Y_train),3)"
   ]
  },
  {
   "cell_type": "markdown",
   "id": "1e0f17bc",
   "metadata": {
    "papermill": {
     "duration": 0.097742,
     "end_time": "2022-03-13T13:05:22.844590",
     "exception": false,
     "start_time": "2022-03-13T13:05:22.746848",
     "status": "completed"
    },
    "tags": []
   },
   "source": [
    "**KNN**"
   ]
  },
  {
   "cell_type": "code",
   "execution_count": 59,
   "id": "43c306b6",
   "metadata": {
    "execution": {
     "iopub.execute_input": "2022-03-13T13:05:23.047566Z",
     "iopub.status.busy": "2022-03-13T13:05:23.046892Z",
     "iopub.status.idle": "2022-03-13T13:05:23.113188Z",
     "shell.execute_reply": "2022-03-13T13:05:23.112620Z",
     "shell.execute_reply.started": "2022-03-13T12:57:28.073045Z"
    },
    "papermill": {
     "duration": 0.169808,
     "end_time": "2022-03-13T13:05:23.113348",
     "exception": false,
     "start_time": "2022-03-13T13:05:22.943540",
     "status": "completed"
    },
    "tags": []
   },
   "outputs": [],
   "source": [
    "knn = KNeighborsClassifier(n_neighbors = 3) \n",
    "knn.fit(X_train, Y_train)  \n",
    "Y_pred = knn.predict(X_test)  \n",
    "score_knn = round(knn.score(X_train, Y_train), 3)"
   ]
  },
  {
   "cell_type": "markdown",
   "id": "ef1d3d53",
   "metadata": {
    "papermill": {
     "duration": 0.097211,
     "end_time": "2022-03-13T13:05:23.311924",
     "exception": false,
     "start_time": "2022-03-13T13:05:23.214713",
     "status": "completed"
    },
    "tags": []
   },
   "source": [
    "**Linear Support Vector Machine**"
   ]
  },
  {
   "cell_type": "code",
   "execution_count": 60,
   "id": "3ccba945",
   "metadata": {
    "execution": {
     "iopub.execute_input": "2022-03-13T13:05:23.514085Z",
     "iopub.status.busy": "2022-03-13T13:05:23.513338Z",
     "iopub.status.idle": "2022-03-13T13:05:23.571159Z",
     "shell.execute_reply": "2022-03-13T13:05:23.572100Z",
     "shell.execute_reply.started": "2022-03-13T12:57:28.196107Z"
    },
    "papermill": {
     "duration": 0.160838,
     "end_time": "2022-03-13T13:05:23.572396",
     "exception": false,
     "start_time": "2022-03-13T13:05:23.411558",
     "status": "completed"
    },
    "tags": []
   },
   "outputs": [
    {
     "name": "stderr",
     "output_type": "stream",
     "text": [
      "/opt/conda/lib/python3.7/site-packages/sklearn/svm/_base.py:977: ConvergenceWarning: Liblinear failed to converge, increase the number of iterations.\n",
      "  \"the number of iterations.\", ConvergenceWarning)\n"
     ]
    }
   ],
   "source": [
    "linear_svc = LinearSVC()\n",
    "linear_svc.fit(X_train, Y_train)\n",
    "Y_pred = linear_svc.predict(X_test)\n",
    "score_linear_svc = round(linear_svc.score(X_train, Y_train), 3)"
   ]
  },
  {
   "cell_type": "markdown",
   "id": "862ee047",
   "metadata": {
    "papermill": {
     "duration": 0.098676,
     "end_time": "2022-03-13T13:05:23.821364",
     "exception": false,
     "start_time": "2022-03-13T13:05:23.722688",
     "status": "completed"
    },
    "tags": []
   },
   "source": [
    "**Decision Tree**"
   ]
  },
  {
   "cell_type": "code",
   "execution_count": 61,
   "id": "6de2bbbf",
   "metadata": {
    "execution": {
     "iopub.execute_input": "2022-03-13T13:05:24.024412Z",
     "iopub.status.busy": "2022-03-13T13:05:24.023430Z",
     "iopub.status.idle": "2022-03-13T13:05:24.033098Z",
     "shell.execute_reply": "2022-03-13T13:05:24.033622Z",
     "shell.execute_reply.started": "2022-03-13T12:57:28.262717Z"
    },
    "papermill": {
     "duration": 0.114963,
     "end_time": "2022-03-13T13:05:24.033822",
     "exception": false,
     "start_time": "2022-03-13T13:05:23.918859",
     "status": "completed"
    },
    "tags": []
   },
   "outputs": [],
   "source": [
    "decision_tree = DecisionTreeClassifier() \n",
    "decision_tree.fit(X_train, Y_train)  \n",
    "Y_pred = decision_tree.predict(X_test)  \n",
    "score_decision_tree = round(decision_tree.score(X_train, Y_train), 3)"
   ]
  },
  {
   "cell_type": "code",
   "execution_count": 62,
   "id": "7dd98078",
   "metadata": {
    "execution": {
     "iopub.execute_input": "2022-03-13T13:05:24.236333Z",
     "iopub.status.busy": "2022-03-13T13:05:24.235320Z",
     "iopub.status.idle": "2022-03-13T13:05:24.246521Z",
     "shell.execute_reply": "2022-03-13T13:05:24.247016Z",
     "shell.execute_reply.started": "2022-03-13T12:57:28.296300Z"
    },
    "papermill": {
     "duration": 0.116396,
     "end_time": "2022-03-13T13:05:24.247205",
     "exception": false,
     "start_time": "2022-03-13T13:05:24.130809",
     "status": "completed"
    },
    "tags": []
   },
   "outputs": [
    {
     "data": {
      "text/html": [
       "<div>\n",
       "<style scoped>\n",
       "    .dataframe tbody tr th:only-of-type {\n",
       "        vertical-align: middle;\n",
       "    }\n",
       "\n",
       "    .dataframe tbody tr th {\n",
       "        vertical-align: top;\n",
       "    }\n",
       "\n",
       "    .dataframe thead th {\n",
       "        text-align: right;\n",
       "    }\n",
       "</style>\n",
       "<table border=\"1\" class=\"dataframe\">\n",
       "  <thead>\n",
       "    <tr style=\"text-align: right;\">\n",
       "      <th></th>\n",
       "      <th>Model</th>\n",
       "      <th>Score</th>\n",
       "    </tr>\n",
       "  </thead>\n",
       "  <tbody>\n",
       "    <tr>\n",
       "      <th>0</th>\n",
       "      <td>KNN</td>\n",
       "      <td>0.862</td>\n",
       "    </tr>\n",
       "    <tr>\n",
       "      <th>1</th>\n",
       "      <td>Logistic Regression</td>\n",
       "      <td>0.809</td>\n",
       "    </tr>\n",
       "    <tr>\n",
       "      <th>2</th>\n",
       "      <td>Random Forest</td>\n",
       "      <td>0.891</td>\n",
       "    </tr>\n",
       "    <tr>\n",
       "      <th>3</th>\n",
       "      <td>Decision Tree</td>\n",
       "      <td>0.891</td>\n",
       "    </tr>\n",
       "  </tbody>\n",
       "</table>\n",
       "</div>"
      ],
      "text/plain": [
       "                 Model  Score\n",
       "0                  KNN  0.862\n",
       "1  Logistic Regression  0.809\n",
       "2        Random Forest  0.891\n",
       "3        Decision Tree  0.891"
      ]
     },
     "execution_count": 62,
     "metadata": {},
     "output_type": "execute_result"
    }
   ],
   "source": [
    "scores = pd.DataFrame({\n",
    "    'Model': [ 'KNN', 'Logistic Regression', 'Random Forest', 'Decision Tree'],\n",
    "    'Score': [ score_knn, score_log, score_random_forest, score_decision_tree]})\n",
    "\n",
    "scores"
   ]
  },
  {
   "cell_type": "code",
   "execution_count": 63,
   "id": "626a7975",
   "metadata": {
    "execution": {
     "iopub.execute_input": "2022-03-13T13:05:24.452948Z",
     "iopub.status.busy": "2022-03-13T13:05:24.452123Z",
     "iopub.status.idle": "2022-03-13T13:05:26.869765Z",
     "shell.execute_reply": "2022-03-13T13:05:26.870473Z",
     "shell.execute_reply.started": "2022-03-13T12:57:28.327701Z"
    },
    "papermill": {
     "duration": 2.525079,
     "end_time": "2022-03-13T13:05:26.870717",
     "exception": false,
     "start_time": "2022-03-13T13:05:24.345638",
     "status": "completed"
    },
    "tags": []
   },
   "outputs": [
    {
     "name": "stdout",
     "output_type": "stream",
     "text": [
      "Scores: [0.77777778 0.85393258 0.74157303 0.79775281 0.85393258 0.83146067\n",
      " 0.84269663 0.75280899 0.84269663 0.84269663]\n",
      "Mean: 0.813732833957553\n",
      "Standard Deviation: 0.040656979011571254\n"
     ]
    }
   ],
   "source": [
    "from sklearn.model_selection import cross_val_score\n",
    "rf = RandomForestClassifier(n_estimators=100)\n",
    "scores = cross_val_score(rf, X_train, Y_train, cv=10, scoring = \"accuracy\")\n",
    "print(\"Scores:\", scores)\n",
    "print(\"Mean:\", scores.mean())\n",
    "print(\"Standard Deviation:\", scores.std())"
   ]
  },
  {
   "cell_type": "code",
   "execution_count": 64,
   "id": "1fbca390",
   "metadata": {
    "execution": {
     "iopub.execute_input": "2022-03-13T13:05:27.080402Z",
     "iopub.status.busy": "2022-03-13T13:05:27.079373Z",
     "iopub.status.idle": "2022-03-13T13:05:27.101384Z",
     "shell.execute_reply": "2022-03-13T13:05:27.101874Z",
     "shell.execute_reply.started": "2022-03-13T12:57:30.672235Z"
    },
    "papermill": {
     "duration": 0.129178,
     "end_time": "2022-03-13T13:05:27.102071",
     "exception": false,
     "start_time": "2022-03-13T13:05:26.972893",
     "status": "completed"
    },
    "tags": []
   },
   "outputs": [
    {
     "data": {
      "text/html": [
       "<div>\n",
       "<style scoped>\n",
       "    .dataframe tbody tr th:only-of-type {\n",
       "        vertical-align: middle;\n",
       "    }\n",
       "\n",
       "    .dataframe tbody tr th {\n",
       "        vertical-align: top;\n",
       "    }\n",
       "\n",
       "    .dataframe thead th {\n",
       "        text-align: right;\n",
       "    }\n",
       "</style>\n",
       "<table border=\"1\" class=\"dataframe\">\n",
       "  <thead>\n",
       "    <tr style=\"text-align: right;\">\n",
       "      <th></th>\n",
       "      <th>importance</th>\n",
       "    </tr>\n",
       "    <tr>\n",
       "      <th>feature</th>\n",
       "      <th></th>\n",
       "    </tr>\n",
       "  </thead>\n",
       "  <tbody>\n",
       "    <tr>\n",
       "      <th>Title</th>\n",
       "      <td>0.221</td>\n",
       "    </tr>\n",
       "    <tr>\n",
       "      <th>Sex</th>\n",
       "      <td>0.196</td>\n",
       "    </tr>\n",
       "    <tr>\n",
       "      <th>Age_class</th>\n",
       "      <td>0.121</td>\n",
       "    </tr>\n",
       "    <tr>\n",
       "      <th>Fare_range</th>\n",
       "      <td>0.106</td>\n",
       "    </tr>\n",
       "    <tr>\n",
       "      <th>Pclass</th>\n",
       "      <td>0.080</td>\n",
       "    </tr>\n",
       "    <tr>\n",
       "      <th>Embarked</th>\n",
       "      <td>0.058</td>\n",
       "    </tr>\n",
       "    <tr>\n",
       "      <th>Age_range</th>\n",
       "      <td>0.054</td>\n",
       "    </tr>\n",
       "    <tr>\n",
       "      <th>relatives</th>\n",
       "      <td>0.053</td>\n",
       "    </tr>\n",
       "    <tr>\n",
       "      <th>Family_size</th>\n",
       "      <td>0.039</td>\n",
       "    </tr>\n",
       "    <tr>\n",
       "      <th>SibSp</th>\n",
       "      <td>0.032</td>\n",
       "    </tr>\n",
       "    <tr>\n",
       "      <th>Parch</th>\n",
       "      <td>0.028</td>\n",
       "    </tr>\n",
       "    <tr>\n",
       "      <th>Alone</th>\n",
       "      <td>0.013</td>\n",
       "    </tr>\n",
       "  </tbody>\n",
       "</table>\n",
       "</div>"
      ],
      "text/plain": [
       "             importance\n",
       "feature                \n",
       "Title             0.221\n",
       "Sex               0.196\n",
       "Age_class         0.121\n",
       "Fare_range        0.106\n",
       "Pclass            0.080\n",
       "Embarked          0.058\n",
       "Age_range         0.054\n",
       "relatives         0.053\n",
       "Family_size       0.039\n",
       "SibSp             0.032\n",
       "Parch             0.028\n",
       "Alone             0.013"
      ]
     },
     "execution_count": 64,
     "metadata": {},
     "output_type": "execute_result"
    }
   ],
   "source": [
    "importances = pd.DataFrame({'feature':X_train.columns,'importance':np.round(random_forest.feature_importances_,3)})\n",
    "importances = importances.sort_values('importance',ascending=False).set_index('feature')\n",
    "\n",
    "importances"
   ]
  },
  {
   "cell_type": "code",
   "execution_count": 65,
   "id": "2a334eb6",
   "metadata": {
    "execution": {
     "iopub.execute_input": "2022-03-13T13:05:27.318328Z",
     "iopub.status.busy": "2022-03-13T13:05:27.317571Z",
     "iopub.status.idle": "2022-03-13T13:05:27.648300Z",
     "shell.execute_reply": "2022-03-13T13:05:27.647708Z",
     "shell.execute_reply.started": "2022-03-13T12:57:30.700315Z"
    },
    "papermill": {
     "duration": 0.445332,
     "end_time": "2022-03-13T13:05:27.648476",
     "exception": false,
     "start_time": "2022-03-13T13:05:27.203144",
     "status": "completed"
    },
    "tags": []
   },
   "outputs": [
    {
     "data": {
      "image/png": "[encoded data removed]",
      "text/plain": [
       "<Figure size 864x360 with 1 Axes>"
      ]
     },
     "metadata": {},
     "output_type": "display_data"
    }
   ],
   "source": [
    "plt.figure(figsize=(12, 5))\n",
    "sns.barplot(x='importance', y=importances.index, data=importances)\n",
    "\n",
    "plt.tick_params(axis='x', labelsize=10)\n",
    "plt.tick_params(axis='y', labelsize=10)\n",
    "plt.title('Feature Importance', size=15)\n",
    "\n",
    "plt.show()"
   ]
  },
  {
   "cell_type": "markdown",
   "id": "9109b8c6",
   "metadata": {
    "papermill": {
     "duration": 0.10974,
     "end_time": "2022-03-13T13:05:27.864996",
     "exception": false,
     "start_time": "2022-03-13T13:05:27.755256",
     "status": "completed"
    },
    "tags": []
   },
   "source": [
    "Dropping the Alone feature."
   ]
  },
  {
   "cell_type": "code",
   "execution_count": 66,
   "id": "9756213b",
   "metadata": {
    "execution": {
     "iopub.execute_input": "2022-03-13T13:05:28.087941Z",
     "iopub.status.busy": "2022-03-13T13:05:28.087082Z",
     "iopub.status.idle": "2022-03-13T13:05:28.093885Z",
     "shell.execute_reply": "2022-03-13T13:05:28.094476Z",
     "shell.execute_reply.started": "2022-03-13T12:57:31.012351Z"
    },
    "papermill": {
     "duration": 0.118625,
     "end_time": "2022-03-13T13:05:28.094690",
     "exception": false,
     "start_time": "2022-03-13T13:05:27.976065",
     "status": "completed"
    },
    "tags": []
   },
   "outputs": [],
   "source": [
    "train_df  = train_df.drop(\"Alone\", axis=1)\n",
    "test_df  = test_df.drop(\"Alone\", axis=1)\n"
   ]
  },
  {
   "cell_type": "code",
   "execution_count": 67,
   "id": "7a125dbf",
   "metadata": {
    "execution": {
     "iopub.execute_input": "2022-03-13T13:05:28.327289Z",
     "iopub.status.busy": "2022-03-13T13:05:28.326500Z",
     "iopub.status.idle": "2022-03-13T13:05:28.977629Z",
     "shell.execute_reply": "2022-03-13T13:05:28.978188Z",
     "shell.execute_reply.started": "2022-03-13T12:57:31.020689Z"
    },
    "papermill": {
     "duration": 0.773918,
     "end_time": "2022-03-13T13:05:28.978373",
     "exception": false,
     "start_time": "2022-03-13T13:05:28.204455",
     "status": "completed"
    },
    "tags": []
   },
   "outputs": [
    {
     "name": "stdout",
     "output_type": "stream",
     "text": [
      "oob score: 82.04 %\n"
     ]
    }
   ],
   "source": [
    "random_forest = RandomForestClassifier(criterion = \"gini\", \n",
    "                                       min_samples_leaf = 1, \n",
    "                                       min_samples_split = 10,   \n",
    "                                       n_estimators=100, \n",
    "                                       max_features='auto', \n",
    "                                       oob_score=True, \n",
    "                                       random_state=1, \n",
    "                                       n_jobs=-1)\n",
    "\n",
    "random_forest.fit(X_train, Y_train)\n",
    "Y_prediction = random_forest.predict(X_test)\n",
    "\n",
    "random_forest.score(X_train, Y_train)\n",
    "\n",
    "print(\"oob score:\", round(random_forest.oob_score_, 4)*100, \"%\")\n"
   ]
  },
  {
   "cell_type": "code",
   "execution_count": 68,
   "id": "c53e9c02",
   "metadata": {
    "execution": {
     "iopub.execute_input": "2022-03-13T13:05:29.206424Z",
     "iopub.status.busy": "2022-03-13T13:05:29.205642Z",
     "iopub.status.idle": "2022-03-13T13:05:29.586481Z",
     "shell.execute_reply": "2022-03-13T13:05:29.587120Z",
     "shell.execute_reply.started": "2022-03-13T12:57:31.671390Z"
    },
    "papermill": {
     "duration": 0.508142,
     "end_time": "2022-03-13T13:05:29.587321",
     "exception": false,
     "start_time": "2022-03-13T13:05:29.079179",
     "status": "completed"
    },
    "tags": []
   },
   "outputs": [
    {
     "data": {
      "image/png": "[encoded data removed]",
      "text/plain": [
       "<Figure size 1008x504 with 1 Axes>"
      ]
     },
     "metadata": {},
     "output_type": "display_data"
    }
   ],
   "source": [
    "from sklearn.metrics import roc_curve\n",
    "y_scores = random_forest.predict_proba(X_train)\n",
    "y_scores = y_scores[:,1]\n",
    "fpr, tpr, thresholds = roc_curve(Y_train, y_scores)\n",
    "def plot_roc_curve(fpr, tpr, label=None):\n",
    "    plt.plot(fpr, tpr,'r', linewidth=2, label=label)\n",
    "    plt.plot([0, 1], [0, 1], 'g', linewidth=4,linestyle='--')\n",
    "    plt.axis([0, 1, 0, 1])\n",
    "    plt.xlabel('False Positive Rate', fontsize=16)\n",
    "    plt.ylabel('True Positive Rate', fontsize=16)\n",
    "    plt.title('ROC Curve', fontsize = 20)\n",
    "\n",
    "plt.figure(figsize=(14, 7))\n",
    "plot_roc_curve(fpr, tpr)\n",
    "plt.show()"
   ]
  },
  {
   "cell_type": "code",
   "execution_count": 69,
   "id": "9c42c98d",
   "metadata": {
    "execution": {
     "iopub.execute_input": "2022-03-13T13:05:29.803996Z",
     "iopub.status.busy": "2022-03-13T13:05:29.803304Z",
     "iopub.status.idle": "2022-03-13T13:05:29.811668Z",
     "shell.execute_reply": "2022-03-13T13:05:29.812794Z",
     "shell.execute_reply.started": "2022-03-13T12:57:32.062379Z"
    },
    "papermill": {
     "duration": 0.118671,
     "end_time": "2022-03-13T13:05:29.813144",
     "exception": false,
     "start_time": "2022-03-13T13:05:29.694473",
     "status": "completed"
    },
    "tags": []
   },
   "outputs": [
    {
     "name": "stdout",
     "output_type": "stream",
     "text": [
      "ROC-AUC-Score: 0.931331820747984\n"
     ]
    }
   ],
   "source": [
    "from sklearn.metrics import roc_auc_score\n",
    "r_a_score = roc_auc_score(Y_train, y_scores)\n",
    "print(\"ROC-AUC-Score:\", r_a_score)"
   ]
  },
  {
   "cell_type": "markdown",
   "id": "34bb2ff5",
   "metadata": {
    "papermill": {
     "duration": 0.106097,
     "end_time": "2022-03-13T13:05:30.033065",
     "exception": false,
     "start_time": "2022-03-13T13:05:29.926968",
     "status": "completed"
    },
    "tags": []
   },
   "source": [
    "Since ROC-AUC score is very good so I choos random forest for my model."
   ]
  },
  {
   "cell_type": "code",
   "execution_count": 70,
   "id": "fba776ba",
   "metadata": {
    "execution": {
     "iopub.execute_input": "2022-03-13T13:05:30.250087Z",
     "iopub.status.busy": "2022-03-13T13:05:30.249204Z",
     "iopub.status.idle": "2022-03-13T13:05:30.262572Z",
     "shell.execute_reply": "2022-03-13T13:05:30.263185Z",
     "shell.execute_reply.started": "2022-03-13T12:57:32.073548Z"
    },
    "papermill": {
     "duration": 0.122347,
     "end_time": "2022-03-13T13:05:30.263360",
     "exception": false,
     "start_time": "2022-03-13T13:05:30.141013",
     "status": "completed"
    },
    "tags": []
   },
   "outputs": [
    {
     "data": {
      "text/html": [
       "<div>\n",
       "<style scoped>\n",
       "    .dataframe tbody tr th:only-of-type {\n",
       "        vertical-align: middle;\n",
       "    }\n",
       "\n",
       "    .dataframe tbody tr th {\n",
       "        vertical-align: top;\n",
       "    }\n",
       "\n",
       "    .dataframe thead th {\n",
       "        text-align: right;\n",
       "    }\n",
       "</style>\n",
       "<table border=\"1\" class=\"dataframe\">\n",
       "  <thead>\n",
       "    <tr style=\"text-align: right;\">\n",
       "      <th></th>\n",
       "      <th>PassengerId</th>\n",
       "      <th>Survived</th>\n",
       "    </tr>\n",
       "  </thead>\n",
       "  <tbody>\n",
       "    <tr>\n",
       "      <th>0</th>\n",
       "      <td>892</td>\n",
       "      <td>0</td>\n",
       "    </tr>\n",
       "    <tr>\n",
       "      <th>1</th>\n",
       "      <td>893</td>\n",
       "      <td>0</td>\n",
       "    </tr>\n",
       "    <tr>\n",
       "      <th>2</th>\n",
       "      <td>894</td>\n",
       "      <td>0</td>\n",
       "    </tr>\n",
       "    <tr>\n",
       "      <th>3</th>\n",
       "      <td>895</td>\n",
       "      <td>0</td>\n",
       "    </tr>\n",
       "    <tr>\n",
       "      <th>4</th>\n",
       "      <td>896</td>\n",
       "      <td>1</td>\n",
       "    </tr>\n",
       "    <tr>\n",
       "      <th>5</th>\n",
       "      <td>897</td>\n",
       "      <td>0</td>\n",
       "    </tr>\n",
       "    <tr>\n",
       "      <th>6</th>\n",
       "      <td>898</td>\n",
       "      <td>1</td>\n",
       "    </tr>\n",
       "    <tr>\n",
       "      <th>7</th>\n",
       "      <td>899</td>\n",
       "      <td>0</td>\n",
       "    </tr>\n",
       "    <tr>\n",
       "      <th>8</th>\n",
       "      <td>900</td>\n",
       "      <td>1</td>\n",
       "    </tr>\n",
       "    <tr>\n",
       "      <th>9</th>\n",
       "      <td>901</td>\n",
       "      <td>0</td>\n",
       "    </tr>\n",
       "  </tbody>\n",
       "</table>\n",
       "</div>"
      ],
      "text/plain": [
       "   PassengerId  Survived\n",
       "0          892         0\n",
       "1          893         0\n",
       "2          894         0\n",
       "3          895         0\n",
       "4          896         1\n",
       "5          897         0\n",
       "6          898         1\n",
       "7          899         0\n",
       "8          900         1\n",
       "9          901         0"
      ]
     },
     "execution_count": 70,
     "metadata": {},
     "output_type": "execute_result"
    }
   ],
   "source": [
    "\n",
    "pred_df = pd.DataFrame(columns=['PassengerId', 'Survived'])\n",
    "pred_df['PassengerId'] = test_pass_id\n",
    "pred_df['Survived']= Y_prediction\n",
    "pred_df.head(10)"
   ]
  },
  {
   "cell_type": "code",
   "execution_count": 71,
   "id": "8eb7d96c",
   "metadata": {
    "execution": {
     "iopub.execute_input": "2022-03-13T13:05:30.481295Z",
     "iopub.status.busy": "2022-03-13T13:05:30.480618Z",
     "iopub.status.idle": "2022-03-13T13:05:30.489880Z",
     "shell.execute_reply": "2022-03-13T13:05:30.489169Z",
     "shell.execute_reply.started": "2022-03-13T12:57:32.100707Z"
    },
    "papermill": {
     "duration": 0.11936,
     "end_time": "2022-03-13T13:05:30.490035",
     "exception": false,
     "start_time": "2022-03-13T13:05:30.370675",
     "status": "completed"
    },
    "tags": []
   },
   "outputs": [],
   "source": [
    "pred_df.to_csv('submission.csv',header = True,index=False)"
   ]
  },
  {
   "cell_type": "code",
   "execution_count": null,
   "id": "78c526bb",
   "metadata": {
    "papermill": {
     "duration": 0.10639,
     "end_time": "2022-03-13T13:05:30.703045",
     "exception": false,
     "start_time": "2022-03-13T13:05:30.596655",
     "status": "completed"
    },
    "tags": []
   },
   "outputs": [],
   "source": []
  }
 ],
 "metadata": {
  "kernelspec": {
   "display_name": "Python 3",
   "language": "python",
   "name": "python3"
  },
  "language_info": {
   "codemirror_mode": {
    "name": "ipython",
    "version": 3
   },
   "file_extension": ".py",
   "mimetype": "text/x-python",
   "name": "python",
   "nbconvert_exporter": "python",
   "pygments_lexer": "ipython3",
   "version": "3.7.12"
  },
  "papermill": {
   "default_parameters": {},
   "duration": 44.945041,
   "end_time": "2022-03-13T13:05:31.618831",
   "environment_variables": {},
   "exception": null,
   "input_path": "__notebook__.ipynb",
   "output_path": "__notebook__.ipynb",
   "parameters": {},
   "start_time": "2022-03-13T13:04:46.673790",
   "version": "2.3.3"
  }
 },
 "nbformat": 4,
 "nbformat_minor": 5
}
